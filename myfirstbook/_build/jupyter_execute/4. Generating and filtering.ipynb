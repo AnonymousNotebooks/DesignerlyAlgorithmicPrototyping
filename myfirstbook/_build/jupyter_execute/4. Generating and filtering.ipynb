{
 "cells": [
  {
   "cell_type": "markdown",
   "id": "2cce2977",
   "metadata": {},
   "source": [
    "# 4. Generating and filtering\n",
    "\n",
    "Once we have assigned weights to all the variables that we wanted to predict for the individual household, we can use them to generate their predictions. These predictions are made by using the Pandas DataFrame.sample'' function and setting a weights’’ parameter. This function returns a random sample of items from the dataframe~\\cite{pandas}. For example, we can use this function to return one randomized value (0,1, or 2) from the dataframe for Mondays with the ``weights’’ variable to determine whether or not this household will shop on Monday."
   ]
  },
  {
   "cell_type": "markdown",
   "id": "55958fc7",
   "metadata": {
    "jp-MarkdownHeadingCollapsed": true
   },
   "source": [
    "### Import libraries "
   ]
  },
  {
   "cell_type": "code",
   "execution_count": 1,
   "id": "17fdadd3",
   "metadata": {},
   "outputs": [],
   "source": [
    "# %matplotlib notebook\n",
    "%matplotlib inline\n",
    "#Pandas is a software library written for the Python programming language for data manipulation and analysis.\n",
    "import pandas as pd\n",
    "#NumPy is a library for the Python programming language, adding support for large, multi-dimensional arrays and matrices, along with a large collection of high-level mathematical functions to operate on these arrays\n",
    "import numpy as np\n",
    "# Matplotlib is a plotting library for python and pyplot gives us a MatLab like plotting framework. We will use this in our plotter function to plot data.\n",
    "import matplotlib.pyplot as plt\n",
    "#Seaborn is a Python data visualization library based on matplotlib. It provides a high-level interface for drawing attractive and informative statistical graphics\n",
    "import seaborn as sns\n",
    "from matplotlib.ticker import StrMethodFormatter\n",
    "from matplotlib.pyplot import figure\n",
    "class bcolors:\n",
    "    WARNING = '\\033[91m'\n",
    "    BOLD = '\\033[1m'\n",
    "from sklearn.cluster import KMeans\n",
    "from sklearn.datasets import make_blobs\n",
    "from sklearn.ensemble import RandomForestClassifier\n",
    "from sklearn.linear_model import LinearRegression\n",
    "from sklearn.metrics import mean_absolute_error, mean_squared_error\n",
    "from sklearn.tree import DecisionTreeClassifier, export_graphviz, plot_tree\n",
    "# importing the required function for CHI2 tests\n",
    "from scipy.stats import chi2_contingency"
   ]
  },
  {
   "cell_type": "markdown",
   "id": "121e712b",
   "metadata": {},
   "source": [
    "### Load and view data "
   ]
  },
  {
   "cell_type": "code",
   "execution_count": 2,
   "id": "14dbd440",
   "metadata": {
    "scrolled": true
   },
   "outputs": [
    {
     "data": {
      "text/html": [
       "<div>\n",
       "<style scoped>\n",
       "    .dataframe tbody tr th:only-of-type {\n",
       "        vertical-align: middle;\n",
       "    }\n",
       "\n",
       "    .dataframe tbody tr th {\n",
       "        vertical-align: top;\n",
       "    }\n",
       "\n",
       "    .dataframe thead th {\n",
       "        text-align: right;\n",
       "    }\n",
       "</style>\n",
       "<table border=\"1\" class=\"dataframe\">\n",
       "  <thead>\n",
       "    <tr style=\"text-align: right;\">\n",
       "      <th></th>\n",
       "      <th>week</th>\n",
       "      <th>order_ID</th>\n",
       "      <th>item_name</th>\n",
       "      <th>amount</th>\n",
       "      <th>price_unit</th>\n",
       "      <th>price_total</th>\n",
       "      <th>date</th>\n",
       "      <th>day</th>\n",
       "      <th>timestamp</th>\n",
       "      <th>time</th>\n",
       "      <th>...</th>\n",
       "      <th>item_id</th>\n",
       "      <th>type_id</th>\n",
       "      <th>order_amount</th>\n",
       "      <th>order_price</th>\n",
       "      <th>day_num</th>\n",
       "      <th>storetype_num</th>\n",
       "      <th>storename_num</th>\n",
       "      <th>cat_num</th>\n",
       "      <th>time_num</th>\n",
       "      <th>promo_num</th>\n",
       "    </tr>\n",
       "  </thead>\n",
       "  <tbody>\n",
       "    <tr>\n",
       "      <th>0</th>\n",
       "      <td>1</td>\n",
       "      <td>1</td>\n",
       "      <td>RABEKO choco light 250g</td>\n",
       "      <td>2</td>\n",
       "      <td>2.82</td>\n",
       "      <td>5.64</td>\n",
       "      <td>2021-11-23</td>\n",
       "      <td>Tuesday</td>\n",
       "      <td>12:32:00</td>\n",
       "      <td>noon</td>\n",
       "      <td>...</td>\n",
       "      <td>0</td>\n",
       "      <td>0</td>\n",
       "      <td>9</td>\n",
       "      <td>16.77</td>\n",
       "      <td>5</td>\n",
       "      <td>4</td>\n",
       "      <td>6</td>\n",
       "      <td>2</td>\n",
       "      <td>3</td>\n",
       "      <td>0</td>\n",
       "    </tr>\n",
       "    <tr>\n",
       "      <th>1</th>\n",
       "      <td>1</td>\n",
       "      <td>1</td>\n",
       "      <td>JOYVALLE pudding griesmeel natuur 135g</td>\n",
       "      <td>4</td>\n",
       "      <td>0.99</td>\n",
       "      <td>3.96</td>\n",
       "      <td>2021-11-23</td>\n",
       "      <td>Tuesday</td>\n",
       "      <td>12:32:00</td>\n",
       "      <td>noon</td>\n",
       "      <td>...</td>\n",
       "      <td>1</td>\n",
       "      <td>1</td>\n",
       "      <td>9</td>\n",
       "      <td>16.77</td>\n",
       "      <td>5</td>\n",
       "      <td>4</td>\n",
       "      <td>6</td>\n",
       "      <td>7</td>\n",
       "      <td>3</td>\n",
       "      <td>0</td>\n",
       "    </tr>\n",
       "    <tr>\n",
       "      <th>2</th>\n",
       "      <td>1</td>\n",
       "      <td>1</td>\n",
       "      <td>BONI tomatensoep met balletjes 950ml</td>\n",
       "      <td>1</td>\n",
       "      <td>1.99</td>\n",
       "      <td>1.99</td>\n",
       "      <td>2021-11-23</td>\n",
       "      <td>Tuesday</td>\n",
       "      <td>12:32:00</td>\n",
       "      <td>noon</td>\n",
       "      <td>...</td>\n",
       "      <td>2</td>\n",
       "      <td>2</td>\n",
       "      <td>9</td>\n",
       "      <td>16.77</td>\n",
       "      <td>5</td>\n",
       "      <td>4</td>\n",
       "      <td>6</td>\n",
       "      <td>3</td>\n",
       "      <td>3</td>\n",
       "      <td>0</td>\n",
       "    </tr>\n",
       "    <tr>\n",
       "      <th>3</th>\n",
       "      <td>1</td>\n",
       "      <td>1</td>\n",
       "      <td>LIEBIG DELISOUP 9 groenten brik 1L</td>\n",
       "      <td>1</td>\n",
       "      <td>2.59</td>\n",
       "      <td>2.59</td>\n",
       "      <td>2021-11-23</td>\n",
       "      <td>Tuesday</td>\n",
       "      <td>12:32:00</td>\n",
       "      <td>noon</td>\n",
       "      <td>...</td>\n",
       "      <td>3</td>\n",
       "      <td>2</td>\n",
       "      <td>9</td>\n",
       "      <td>16.77</td>\n",
       "      <td>5</td>\n",
       "      <td>4</td>\n",
       "      <td>6</td>\n",
       "      <td>3</td>\n",
       "      <td>3</td>\n",
       "      <td>0</td>\n",
       "    </tr>\n",
       "    <tr>\n",
       "      <th>4</th>\n",
       "      <td>1</td>\n",
       "      <td>1</td>\n",
       "      <td>LIEBIG DELISOUP tom. Balletjes brik 1L</td>\n",
       "      <td>1</td>\n",
       "      <td>2.59</td>\n",
       "      <td>2.59</td>\n",
       "      <td>2021-11-23</td>\n",
       "      <td>Tuesday</td>\n",
       "      <td>12:32:00</td>\n",
       "      <td>noon</td>\n",
       "      <td>...</td>\n",
       "      <td>4</td>\n",
       "      <td>2</td>\n",
       "      <td>9</td>\n",
       "      <td>16.77</td>\n",
       "      <td>5</td>\n",
       "      <td>4</td>\n",
       "      <td>6</td>\n",
       "      <td>3</td>\n",
       "      <td>3</td>\n",
       "      <td>0</td>\n",
       "    </tr>\n",
       "  </tbody>\n",
       "</table>\n",
       "<p>5 rows × 26 columns</p>\n",
       "</div>"
      ],
      "text/plain": [
       "   week  order_ID                               item_name  amount  price_unit  \\\n",
       "0     1         1                 RABEKO choco light 250g       2        2.82   \n",
       "1     1         1  JOYVALLE pudding griesmeel natuur 135g       4        0.99   \n",
       "2     1         1    BONI tomatensoep met balletjes 950ml       1        1.99   \n",
       "3     1         1      LIEBIG DELISOUP 9 groenten brik 1L       1        2.59   \n",
       "4     1         1  LIEBIG DELISOUP tom. Balletjes brik 1L       1        2.59   \n",
       "\n",
       "   price_total        date      day timestamp  time  ... item_id type_id  \\\n",
       "0         5.64  2021-11-23  Tuesday  12:32:00  noon  ...       0       0   \n",
       "1         3.96  2021-11-23  Tuesday  12:32:00  noon  ...       1       1   \n",
       "2         1.99  2021-11-23  Tuesday  12:32:00  noon  ...       2       2   \n",
       "3         2.59  2021-11-23  Tuesday  12:32:00  noon  ...       3       2   \n",
       "4         2.59  2021-11-23  Tuesday  12:32:00  noon  ...       4       2   \n",
       "\n",
       "   order_amount order_price day_num  storetype_num  storename_num  cat_num  \\\n",
       "0             9       16.77       5              4              6        2   \n",
       "1             9       16.77       5              4              6        7   \n",
       "2             9       16.77       5              4              6        3   \n",
       "3             9       16.77       5              4              6        3   \n",
       "4             9       16.77       5              4              6        3   \n",
       "\n",
       "   time_num  promo_num  \n",
       "0         3          0  \n",
       "1         3          0  \n",
       "2         3          0  \n",
       "3         3          0  \n",
       "4         3          0  \n",
       "\n",
       "[5 rows x 26 columns]"
      ]
     },
     "execution_count": 2,
     "metadata": {},
     "output_type": "execute_result"
    }
   ],
   "source": [
    "# Load the dataframe that was saved after step 2.2. Visualizing the data\n",
    "df = pd.read_csv (r\"/workspaces/DesignerlyAlgorithmicPrototyping/database/DATA-HH (dummy).csv\")\n",
    "df.head()"
   ]
  },
  {
   "cell_type": "code",
   "execution_count": 3,
   "id": "abbaa23c",
   "metadata": {},
   "outputs": [
    {
     "data": {
      "text/html": [
       "<div>\n",
       "<style scoped>\n",
       "    .dataframe tbody tr th:only-of-type {\n",
       "        vertical-align: middle;\n",
       "    }\n",
       "\n",
       "    .dataframe tbody tr th {\n",
       "        vertical-align: top;\n",
       "    }\n",
       "\n",
       "    .dataframe thead th {\n",
       "        text-align: right;\n",
       "    }\n",
       "</style>\n",
       "<table border=\"1\" class=\"dataframe\">\n",
       "  <thead>\n",
       "    <tr style=\"text-align: right;\">\n",
       "      <th></th>\n",
       "      <th>week</th>\n",
       "      <th>order_ID</th>\n",
       "      <th>store_name</th>\n",
       "      <th>storename_num</th>\n",
       "      <th>store_type</th>\n",
       "      <th>storetype_num</th>\n",
       "      <th>day</th>\n",
       "      <th>day_num</th>\n",
       "      <th>time</th>\n",
       "      <th>time_num</th>\n",
       "      <th>timestamp</th>\n",
       "      <th>order_amount</th>\n",
       "      <th>order_price</th>\n",
       "    </tr>\n",
       "  </thead>\n",
       "  <tbody>\n",
       "    <tr>\n",
       "      <th>0</th>\n",
       "      <td>1</td>\n",
       "      <td>1</td>\n",
       "      <td>Okay</td>\n",
       "      <td>6</td>\n",
       "      <td>supermarket</td>\n",
       "      <td>4</td>\n",
       "      <td>Tuesday</td>\n",
       "      <td>5</td>\n",
       "      <td>noon</td>\n",
       "      <td>3</td>\n",
       "      <td>12:32:00</td>\n",
       "      <td>9</td>\n",
       "      <td>16.77000</td>\n",
       "    </tr>\n",
       "    <tr>\n",
       "      <th>1</th>\n",
       "      <td>1</td>\n",
       "      <td>2</td>\n",
       "      <td>baker</td>\n",
       "      <td>7</td>\n",
       "      <td>bakery</td>\n",
       "      <td>0</td>\n",
       "      <td>Tuesday</td>\n",
       "      <td>5</td>\n",
       "      <td>noon</td>\n",
       "      <td>3</td>\n",
       "      <td>12:39:00</td>\n",
       "      <td>7</td>\n",
       "      <td>6.10000</td>\n",
       "    </tr>\n",
       "    <tr>\n",
       "      <th>2</th>\n",
       "      <td>1</td>\n",
       "      <td>4</td>\n",
       "      <td>Delhaize</td>\n",
       "      <td>3</td>\n",
       "      <td>supermarket</td>\n",
       "      <td>4</td>\n",
       "      <td>Friday</td>\n",
       "      <td>0</td>\n",
       "      <td>afternoon</td>\n",
       "      <td>0</td>\n",
       "      <td>17:25:00</td>\n",
       "      <td>50</td>\n",
       "      <td>103.32998</td>\n",
       "    </tr>\n",
       "    <tr>\n",
       "      <th>3</th>\n",
       "      <td>2</td>\n",
       "      <td>5</td>\n",
       "      <td>Albert Heijn</td>\n",
       "      <td>0</td>\n",
       "      <td>supermarket</td>\n",
       "      <td>4</td>\n",
       "      <td>Wednesday</td>\n",
       "      <td>6</td>\n",
       "      <td>morning</td>\n",
       "      <td>2</td>\n",
       "      <td>11:43:00</td>\n",
       "      <td>1</td>\n",
       "      <td>3.99000</td>\n",
       "    </tr>\n",
       "    <tr>\n",
       "      <th>4</th>\n",
       "      <td>2</td>\n",
       "      <td>6</td>\n",
       "      <td>baker</td>\n",
       "      <td>7</td>\n",
       "      <td>bakery</td>\n",
       "      <td>0</td>\n",
       "      <td>Wednesday</td>\n",
       "      <td>6</td>\n",
       "      <td>morning</td>\n",
       "      <td>2</td>\n",
       "      <td>09:57:00</td>\n",
       "      <td>9</td>\n",
       "      <td>7.70000</td>\n",
       "    </tr>\n",
       "  </tbody>\n",
       "</table>\n",
       "</div>"
      ],
      "text/plain": [
       "   week  order_ID    store_name  storename_num   store_type  storetype_num  \\\n",
       "0     1         1          Okay              6  supermarket              4   \n",
       "1     1         2         baker              7       bakery              0   \n",
       "2     1         4      Delhaize              3  supermarket              4   \n",
       "3     2         5  Albert Heijn              0  supermarket              4   \n",
       "4     2         6         baker              7       bakery              0   \n",
       "\n",
       "         day  day_num       time  time_num timestamp  order_amount  \\\n",
       "0    Tuesday        5       noon         3  12:32:00             9   \n",
       "1    Tuesday        5       noon         3  12:39:00             7   \n",
       "2     Friday        0  afternoon         0  17:25:00            50   \n",
       "3  Wednesday        6    morning         2  11:43:00             1   \n",
       "4  Wednesday        6    morning         2  09:57:00             9   \n",
       "\n",
       "   order_price  \n",
       "0     16.77000  \n",
       "1      6.10000  \n",
       "2    103.32998  \n",
       "3      3.99000  \n",
       "4      7.70000  "
      ]
     },
     "execution_count": 3,
     "metadata": {},
     "output_type": "execute_result"
    }
   ],
   "source": [
    "# load the dataframe for just the orders (not all individual items) as saved after step 2.2. Visualizing the data\n",
    "df_orders = pd.read_csv (r\"/workspaces/DesignerlyAlgorithmicPrototyping/database/DATA-HH (dummy-orders).csv\")\n",
    "df_orders = df_orders.drop_duplicates()\n",
    "df_orders.head()"
   ]
  },
  {
   "cell_type": "markdown",
   "id": "d961e387-4394-42a0-b9ff-6964448e1edd",
   "metadata": {
    "jp-MarkdownHeadingCollapsed": true
   },
   "source": [
    "## 4.1. Days of the week (model step 1)"
   ]
  },
  {
   "cell_type": "markdown",
   "id": "e1f3fa82",
   "metadata": {
    "jp-MarkdownHeadingCollapsed": true
   },
   "source": [
    "### 4.1.1. Load weighted dataframes per day of week"
   ]
  },
  {
   "cell_type": "code",
   "execution_count": 4,
   "id": "d144aece",
   "metadata": {},
   "outputs": [],
   "source": [
    "df_Mondays = pd.read_csv (r\"/workspaces/DesignerlyAlgorithmicPrototyping/database/df_HH1(Mondays).csv\")\n",
    "df_Tuesdays = pd.read_csv (r\"/workspaces/DesignerlyAlgorithmicPrototyping/database/df_HH1(Tuesdays).csv\")\n",
    "df_Wednesdays = pd.read_csv (r\"/workspaces/DesignerlyAlgorithmicPrototyping/database/df_HH1(Wednesdays).csv\")\n",
    "df_Thursdays = pd.read_csv (r\"/workspaces/DesignerlyAlgorithmicPrototyping/database/df_HH1(Thursdays).csv\")\n",
    "df_Fridays = pd.read_csv (r\"/workspaces/DesignerlyAlgorithmicPrototyping/database/df_HH1(Fridays).csv\")\n",
    "df_Saturdays = pd.read_csv (r\"/workspaces/DesignerlyAlgorithmicPrototyping/database/df_HH1(Saturdays).csv\")\n",
    "df_Sundays = pd.read_csv (r\"/workspaces/DesignerlyAlgorithmicPrototyping/database/df_HH1(Sundays).csv\")"
   ]
  },
  {
   "cell_type": "code",
   "execution_count": 5,
   "id": "19f745d1",
   "metadata": {
    "scrolled": true
   },
   "outputs": [
    {
     "data": {
      "text/html": [
       "<div>\n",
       "<style scoped>\n",
       "    .dataframe tbody tr th:only-of-type {\n",
       "        vertical-align: middle;\n",
       "    }\n",
       "\n",
       "    .dataframe tbody tr th {\n",
       "        vertical-align: top;\n",
       "    }\n",
       "\n",
       "    .dataframe thead th {\n",
       "        text-align: right;\n",
       "    }\n",
       "</style>\n",
       "<table border=\"1\" class=\"dataframe\">\n",
       "  <thead>\n",
       "    <tr style=\"text-align: right;\">\n",
       "      <th></th>\n",
       "      <th>Sunday</th>\n",
       "      <th>weights</th>\n",
       "    </tr>\n",
       "  </thead>\n",
       "  <tbody>\n",
       "    <tr>\n",
       "      <th>0</th>\n",
       "      <td>0.0</td>\n",
       "      <td>4</td>\n",
       "    </tr>\n",
       "    <tr>\n",
       "      <th>1</th>\n",
       "      <td>3.0</td>\n",
       "      <td>2</td>\n",
       "    </tr>\n",
       "    <tr>\n",
       "      <th>2</th>\n",
       "      <td>2.0</td>\n",
       "      <td>1</td>\n",
       "    </tr>\n",
       "    <tr>\n",
       "      <th>3</th>\n",
       "      <td>1.0</td>\n",
       "      <td>1</td>\n",
       "    </tr>\n",
       "  </tbody>\n",
       "</table>\n",
       "</div>"
      ],
      "text/plain": [
       "   Sunday  weights\n",
       "0     0.0        4\n",
       "1     3.0        2\n",
       "2     2.0        1\n",
       "3     1.0        1"
      ]
     },
     "execution_count": 5,
     "metadata": {},
     "output_type": "execute_result"
    }
   ],
   "source": [
    "df_Sundays"
   ]
  },
  {
   "cell_type": "markdown",
   "id": "f48c1a5e",
   "metadata": {
    "jp-MarkdownHeadingCollapsed": true
   },
   "source": [
    "### 4.1.2.  Generate random shopping week"
   ]
  },
  {
   "cell_type": "code",
   "execution_count": 6,
   "id": "8a304a95",
   "metadata": {},
   "outputs": [],
   "source": [
    "#create random samples for each day based on the assigned weights\n",
    "def weekdays():\n",
    "    df_Monday = df_Mondays.sample(n=1, weights='weights') \n",
    "    df_Monday = df_Monday.rename(columns={\"Monday\": \"times\"})\n",
    "    \n",
    "    df_Tuesday = df_Tuesdays.sample(n=1, weights='weights')\n",
    "    df_Tuesday = df_Tuesday.rename(columns={\"Tuesday\": \"times\"})\n",
    "    \n",
    "    df_Wednesday = df_Wednesdays.sample(n=1, weights='weights')\n",
    "    df_Wednesday = df_Wednesday.rename(columns={\"Wednesday\": \"times\"})\n",
    "    \n",
    "    df_Thursday = df_Thursdays.sample(n=1, weights='weights')\n",
    "    df_Thursday = df_Thursday.rename(columns={\"Thursday\": \"times\"})\n",
    "    \n",
    "    df_Friday = df_Fridays.sample(n=1, weights='weights')\n",
    "    df_Friday = df_Friday.rename(columns={\"Friday\": \"times\"})\n",
    "    \n",
    "    df_Saturday = df_Saturdays.sample(n=1, weights='weights')\n",
    "    df_Saturday = df_Saturday.rename(columns={\"Saturday\": \"times\"})\n",
    "    \n",
    "    df_Sunday = df_Sundays.sample(n=1, weights='weights')\n",
    "    df_Sunday = df_Sunday.rename(columns={\"Sunday\": \"times\"})\n",
    "\n",
    "    #combine all random samplers and print the final (random) week9\n",
    "    df_week9 = pd.concat([df_Monday, df_Tuesday, df_Wednesday, df_Thursday, df_Friday,df_Saturday,df_Sunday])\n",
    "    df_week9['day']=['Monday', 'Tuesday', 'Wednesday', 'Thursday', 'Friday', 'Saturday', 'Sunday']\n",
    "    del df_week9['weights']\n",
    "    return df_week9"
   ]
  },
  {
   "cell_type": "code",
   "execution_count": 7,
   "id": "888fbaff",
   "metadata": {},
   "outputs": [
    {
     "data": {
      "text/html": [
       "<div>\n",
       "<style scoped>\n",
       "    .dataframe tbody tr th:only-of-type {\n",
       "        vertical-align: middle;\n",
       "    }\n",
       "\n",
       "    .dataframe tbody tr th {\n",
       "        vertical-align: top;\n",
       "    }\n",
       "\n",
       "    .dataframe thead th {\n",
       "        text-align: right;\n",
       "    }\n",
       "</style>\n",
       "<table border=\"1\" class=\"dataframe\">\n",
       "  <thead>\n",
       "    <tr style=\"text-align: right;\">\n",
       "      <th></th>\n",
       "      <th>times</th>\n",
       "      <th>day</th>\n",
       "    </tr>\n",
       "  </thead>\n",
       "  <tbody>\n",
       "    <tr>\n",
       "      <th>0</th>\n",
       "      <td>0.0</td>\n",
       "      <td>Monday</td>\n",
       "    </tr>\n",
       "    <tr>\n",
       "      <th>0</th>\n",
       "      <td>2.0</td>\n",
       "      <td>Tuesday</td>\n",
       "    </tr>\n",
       "    <tr>\n",
       "      <th>0</th>\n",
       "      <td>0.0</td>\n",
       "      <td>Wednesday</td>\n",
       "    </tr>\n",
       "    <tr>\n",
       "      <th>0</th>\n",
       "      <td>0.0</td>\n",
       "      <td>Thursday</td>\n",
       "    </tr>\n",
       "    <tr>\n",
       "      <th>1</th>\n",
       "      <td>0.0</td>\n",
       "      <td>Friday</td>\n",
       "    </tr>\n",
       "    <tr>\n",
       "      <th>1</th>\n",
       "      <td>1.0</td>\n",
       "      <td>Saturday</td>\n",
       "    </tr>\n",
       "    <tr>\n",
       "      <th>0</th>\n",
       "      <td>0.0</td>\n",
       "      <td>Sunday</td>\n",
       "    </tr>\n",
       "  </tbody>\n",
       "</table>\n",
       "</div>"
      ],
      "text/plain": [
       "   times        day\n",
       "0    0.0     Monday\n",
       "0    2.0    Tuesday\n",
       "0    0.0  Wednesday\n",
       "0    0.0   Thursday\n",
       "1    0.0     Friday\n",
       "1    1.0   Saturday\n",
       "0    0.0     Sunday"
      ]
     },
     "execution_count": 7,
     "metadata": {},
     "output_type": "execute_result"
    }
   ],
   "source": [
    "weekdays()"
   ]
  },
  {
   "cell_type": "markdown",
   "id": "4cccb5e5",
   "metadata": {
    "editable": true,
    "jp-MarkdownHeadingCollapsed": true,
    "slideshow": {
     "slide_type": ""
    },
    "tags": []
   },
   "source": [
    "### 4.1.3. Set limits for min/max amounts of visits and shopping days per week"
   ]
  },
  {
   "cell_type": "code",
   "execution_count": 8,
   "id": "1e244b71-8175-4a2b-8081-34240bf4dfcb",
   "metadata": {},
   "outputs": [],
   "source": [
    "# Making sure all categories of days and weeks are included in the [orders] dataframe (so that 0 may be a possible lower limit)\n",
    "days = ['Monday', 'Tuesday', 'Wednesday', 'Thursday', 'Friday', 'Saturday', 'Sunday']\n",
    "df_orders.loc[:, ('day')] = pd.Categorical(df_orders.loc[:, ('day')], categories=days)\n",
    "\n",
    "weeks = [1,2,3,4,5,6,7,8]\n",
    "df_orders.loc[:, ('week')] = pd.Categorical(df_orders.loc[:, ('week')], categories=weeks)"
   ]
  },
  {
   "cell_type": "code",
   "execution_count": 9,
   "id": "c0f006a5",
   "metadata": {},
   "outputs": [
    {
     "data": {
      "text/plain": [
       "(2, 7)"
      ]
     },
     "execution_count": 9,
     "metadata": {},
     "output_type": "execute_result"
    }
   ],
   "source": [
    "# Count the minimum and maximum amounts of grocery visits per week (sum of multiple per day)\n",
    "def CountTotalVisits():\n",
    "    Count = df_orders.groupby(['week'], observed = False)['order_ID'].nunique()\n",
    "    Count = pd.DataFrame (Count)\n",
    "    Count = Count.reset_index()\n",
    "\n",
    "    min = Count.min(axis=0,numeric_only=True)['order_ID']\n",
    "    max = Count.max(axis=0,numeric_only=True)['order_ID']\n",
    "    return min, max\n",
    "\n",
    "CountTotalVisits()"
   ]
  },
  {
   "cell_type": "code",
   "execution_count": 10,
   "id": "cfbe6506",
   "metadata": {},
   "outputs": [
    {
     "data": {
      "text/plain": [
       "(2, 4)"
      ]
     },
     "execution_count": 10,
     "metadata": {},
     "output_type": "execute_result"
    }
   ],
   "source": [
    "# Count the minimum and maximum amounts of grocery shopping days per week (count the days, not the total visits)\n",
    "def CountTotalDays():\n",
    "    Count = df_orders.groupby(['week'], observed=False)['day'].nunique()\n",
    "    Count = pd.DataFrame (Count)\n",
    "    Count = Count.reset_index()\n",
    "\n",
    "    min = Count.min(axis=0,numeric_only=True)['day']\n",
    "    max = Count.max(axis=0,numeric_only=True)['day']\n",
    "    return min, max\n",
    "\n",
    "CountTotalDays()"
   ]
  },
  {
   "cell_type": "markdown",
   "id": "d0aa5e6b-0af6-484c-8733-c87291a26178",
   "metadata": {},
   "source": [
    "### 4.1.4. Generate shopping days (with limits - loop until within the limits)"
   ]
  },
  {
   "cell_type": "code",
   "execution_count": 11,
   "id": "94a792ae-ab2d-42a2-9617-15a14e0b6182",
   "metadata": {},
   "outputs": [
    {
     "data": {
      "text/html": [
       "<div>\n",
       "<style scoped>\n",
       "    .dataframe tbody tr th:only-of-type {\n",
       "        vertical-align: middle;\n",
       "    }\n",
       "\n",
       "    .dataframe tbody tr th {\n",
       "        vertical-align: top;\n",
       "    }\n",
       "\n",
       "    .dataframe thead th {\n",
       "        text-align: right;\n",
       "    }\n",
       "</style>\n",
       "<table border=\"1\" class=\"dataframe\">\n",
       "  <thead>\n",
       "    <tr style=\"text-align: right;\">\n",
       "      <th></th>\n",
       "      <th>times</th>\n",
       "      <th>day</th>\n",
       "    </tr>\n",
       "  </thead>\n",
       "  <tbody>\n",
       "    <tr>\n",
       "      <th>0</th>\n",
       "      <td>0.0</td>\n",
       "      <td>Monday</td>\n",
       "    </tr>\n",
       "    <tr>\n",
       "      <th>1</th>\n",
       "      <td>0.0</td>\n",
       "      <td>Tuesday</td>\n",
       "    </tr>\n",
       "    <tr>\n",
       "      <th>1</th>\n",
       "      <td>2.0</td>\n",
       "      <td>Wednesday</td>\n",
       "    </tr>\n",
       "    <tr>\n",
       "      <th>1</th>\n",
       "      <td>2.0</td>\n",
       "      <td>Thursday</td>\n",
       "    </tr>\n",
       "    <tr>\n",
       "      <th>1</th>\n",
       "      <td>0.0</td>\n",
       "      <td>Friday</td>\n",
       "    </tr>\n",
       "    <tr>\n",
       "      <th>1</th>\n",
       "      <td>1.0</td>\n",
       "      <td>Saturday</td>\n",
       "    </tr>\n",
       "    <tr>\n",
       "      <th>0</th>\n",
       "      <td>0.0</td>\n",
       "      <td>Sunday</td>\n",
       "    </tr>\n",
       "  </tbody>\n",
       "</table>\n",
       "</div>"
      ],
      "text/plain": [
       "   times        day\n",
       "0    0.0     Monday\n",
       "1    0.0    Tuesday\n",
       "1    2.0  Wednesday\n",
       "1    2.0   Thursday\n",
       "1    0.0     Friday\n",
       "1    1.0   Saturday\n",
       "0    0.0     Sunday"
      ]
     },
     "execution_count": 11,
     "metadata": {},
     "output_type": "execute_result"
    }
   ],
   "source": [
    "weekdays()"
   ]
  },
  {
   "cell_type": "code",
   "execution_count": 12,
   "id": "aface4e4",
   "metadata": {},
   "outputs": [],
   "source": [
    "def dayofweek():\n",
    "    i = 0\n",
    "\n",
    "    while i < 2:\n",
    "\n",
    "        ### 1. What DAY?\n",
    "        dfweek = weekdays()\n",
    "        \n",
    "        ### CHECKPOINT: range for visits/week and days/week\n",
    "\n",
    "            # Check if the total GROCERY VISITS PER WEEK are within the normal range\n",
    "        dftimes = dfweek[dfweek['times'] > 0]\n",
    "        visitcount = dftimes['times'].sum()\n",
    "        totalvisits = CountTotalVisits()\n",
    "        minvisits = totalvisits[0]\n",
    "        maxvisits = totalvisits[1]\n",
    "        if minvisits <= visitcount <= maxvisits:\n",
    "            i= i+1\n",
    "        else:\n",
    "            print(f\"{bcolors.WARNING}{bcolors.BOLD} MODEL WAS RERUN - Too few/many visits per week\", \"| minimum:\", minvisits, \"| maximum:\", maxvisits, \"| generated:\", visitcount)\n",
    "            i=0\n",
    "            continue\n",
    "\n",
    "            # Check if the total GROCERY DAYS PER WEEK are within the normal range\n",
    "        dftimes = dfweek[dfweek['times'] > 0]\n",
    "        dayscount = dftimes['times'].count()\n",
    "        totaldays = CountTotalDays()\n",
    "        mindays = totaldays[0]\n",
    "        maxdays = totaldays[1]\n",
    "        if mindays <= dayscount <= maxdays:\n",
    "            i = i+1\n",
    "            dfweek['times'] = dfweek['times'].astype(int)\n",
    "            print(\"FINAL grocery days count:\", dayscount)\n",
    "            print(\"FINAL visit count:\", visitcount)\n",
    "            return dfweek\n",
    "        else:\n",
    "            print(f\"{bcolors.WARNING}{bcolors.BOLD} MODEL WAS RERUN - Too few/many grocery days per week\", \"| minimum:\", mindays, \"| maximum:\", maxdays, \"| generated:\", dayscount)\n",
    "            i=0\n",
    "            continue"
   ]
  },
  {
   "cell_type": "code",
   "execution_count": 13,
   "id": "96ab5aaf",
   "metadata": {
    "scrolled": true
   },
   "outputs": [
    {
     "name": "stdout",
     "output_type": "stream",
     "text": [
      "\u001b[91m\u001b[1m MODEL WAS RERUN - Too few/many visits per week | minimum: 2 | maximum: 7 | generated: 1.0\n",
      "FINAL grocery days count: 3\n",
      "FINAL visit count: 4.0\n"
     ]
    },
    {
     "data": {
      "text/html": [
       "<div>\n",
       "<style scoped>\n",
       "    .dataframe tbody tr th:only-of-type {\n",
       "        vertical-align: middle;\n",
       "    }\n",
       "\n",
       "    .dataframe tbody tr th {\n",
       "        vertical-align: top;\n",
       "    }\n",
       "\n",
       "    .dataframe thead th {\n",
       "        text-align: right;\n",
       "    }\n",
       "</style>\n",
       "<table border=\"1\" class=\"dataframe\">\n",
       "  <thead>\n",
       "    <tr style=\"text-align: right;\">\n",
       "      <th></th>\n",
       "      <th>times</th>\n",
       "      <th>day</th>\n",
       "    </tr>\n",
       "  </thead>\n",
       "  <tbody>\n",
       "    <tr>\n",
       "      <th>0</th>\n",
       "      <td>0</td>\n",
       "      <td>Monday</td>\n",
       "    </tr>\n",
       "    <tr>\n",
       "      <th>0</th>\n",
       "      <td>2</td>\n",
       "      <td>Tuesday</td>\n",
       "    </tr>\n",
       "    <tr>\n",
       "      <th>2</th>\n",
       "      <td>1</td>\n",
       "      <td>Wednesday</td>\n",
       "    </tr>\n",
       "    <tr>\n",
       "      <th>0</th>\n",
       "      <td>0</td>\n",
       "      <td>Thursday</td>\n",
       "    </tr>\n",
       "    <tr>\n",
       "      <th>0</th>\n",
       "      <td>1</td>\n",
       "      <td>Friday</td>\n",
       "    </tr>\n",
       "    <tr>\n",
       "      <th>0</th>\n",
       "      <td>0</td>\n",
       "      <td>Saturday</td>\n",
       "    </tr>\n",
       "    <tr>\n",
       "      <th>0</th>\n",
       "      <td>0</td>\n",
       "      <td>Sunday</td>\n",
       "    </tr>\n",
       "  </tbody>\n",
       "</table>\n",
       "</div>"
      ],
      "text/plain": [
       "   times        day\n",
       "0      0     Monday\n",
       "0      2    Tuesday\n",
       "2      1  Wednesday\n",
       "0      0   Thursday\n",
       "0      1     Friday\n",
       "0      0   Saturday\n",
       "0      0     Sunday"
      ]
     },
     "execution_count": 13,
     "metadata": {},
     "output_type": "execute_result"
    }
   ],
   "source": [
    "df1 = dayofweek()\n",
    "df1"
   ]
  },
  {
   "cell_type": "markdown",
   "id": "0d653226",
   "metadata": {},
   "source": [
    "We now have our first model output: days on which they will shop (+ amount of visits per day)"
   ]
  },
  {
   "cell_type": "markdown",
   "id": "1035259b-566b-41da-9508-23456a8ff4c4",
   "metadata": {
    "jp-MarkdownHeadingCollapsed": true
   },
   "source": [
    "## 4.2. Store Name (model step 2)"
   ]
  },
  {
   "cell_type": "markdown",
   "id": "98048723-f904-4526-a2cc-06b3a3be9992",
   "metadata": {
    "jp-MarkdownHeadingCollapsed": true
   },
   "source": [
    "### 4.2.1.  Load weighted dataframes for week/weekend"
   ]
  },
  {
   "cell_type": "code",
   "execution_count": 14,
   "id": "a51263c1",
   "metadata": {},
   "outputs": [
    {
     "data": {
      "text/html": [
       "<div>\n",
       "<style scoped>\n",
       "    .dataframe tbody tr th:only-of-type {\n",
       "        vertical-align: middle;\n",
       "    }\n",
       "\n",
       "    .dataframe tbody tr th {\n",
       "        vertical-align: top;\n",
       "    }\n",
       "\n",
       "    .dataframe thead th {\n",
       "        text-align: right;\n",
       "    }\n",
       "</style>\n",
       "<table border=\"1\" class=\"dataframe\">\n",
       "  <thead>\n",
       "    <tr style=\"text-align: right;\">\n",
       "      <th></th>\n",
       "      <th>store_name</th>\n",
       "      <th>store_type</th>\n",
       "      <th>weight</th>\n",
       "    </tr>\n",
       "  </thead>\n",
       "  <tbody>\n",
       "    <tr>\n",
       "      <th>0</th>\n",
       "      <td>Albert Heijn</td>\n",
       "      <td>supermarket</td>\n",
       "      <td>1</td>\n",
       "    </tr>\n",
       "    <tr>\n",
       "      <th>1</th>\n",
       "      <td>Carrefour</td>\n",
       "      <td>supermarket</td>\n",
       "      <td>1</td>\n",
       "    </tr>\n",
       "    <tr>\n",
       "      <th>2</th>\n",
       "      <td>Delhaize</td>\n",
       "      <td>supermarket</td>\n",
       "      <td>2</td>\n",
       "    </tr>\n",
       "    <tr>\n",
       "      <th>3</th>\n",
       "      <td>Okay</td>\n",
       "      <td>supermarket</td>\n",
       "      <td>2</td>\n",
       "    </tr>\n",
       "    <tr>\n",
       "      <th>4</th>\n",
       "      <td>baker</td>\n",
       "      <td>bakery</td>\n",
       "      <td>8</td>\n",
       "    </tr>\n",
       "    <tr>\n",
       "      <th>5</th>\n",
       "      <td>butcher</td>\n",
       "      <td>butcher</td>\n",
       "      <td>2</td>\n",
       "    </tr>\n",
       "  </tbody>\n",
       "</table>\n",
       "</div>"
      ],
      "text/plain": [
       "     store_name   store_type  weight\n",
       "0  Albert Heijn  supermarket       1\n",
       "1     Carrefour  supermarket       1\n",
       "2      Delhaize  supermarket       2\n",
       "3          Okay  supermarket       2\n",
       "4         baker       bakery       8\n",
       "5       butcher      butcher       2"
      ]
     },
     "execution_count": 14,
     "metadata": {},
     "output_type": "execute_result"
    }
   ],
   "source": [
    "df_week = pd.read_csv (r\"/workspaces/DesignerlyAlgorithmicPrototyping/database/df_HH1_weekstore.csv\")\n",
    "df_end = pd.read_csv (r\"/workspaces/DesignerlyAlgorithmicPrototyping/database/df_HH1_weekendstore.csv\")\n",
    "\n",
    "df_end"
   ]
  },
  {
   "cell_type": "markdown",
   "id": "f47de81d-068f-4e28-82a7-5bb69c577301",
   "metadata": {
    "editable": true,
    "jp-MarkdownHeadingCollapsed": true,
    "slideshow": {
     "slide_type": ""
    },
    "tags": []
   },
   "source": [
    "### 4.2.2.  Generate random store name for week/weekend"
   ]
  },
  {
   "cell_type": "code",
   "execution_count": 15,
   "id": "1f9ada79",
   "metadata": {},
   "outputs": [],
   "source": [
    "#create random samples for weekdays based on the assigned weights\n",
    "def week(n):\n",
    "    df_weeks = df_week.sample(n=n, weights='weight', replace=True)\n",
    "    df_weeks = df_weeks.assign(day='week')\n",
    "    del df_weeks['weight']\n",
    "\n",
    "    return df_weeks"
   ]
  },
  {
   "cell_type": "code",
   "execution_count": 16,
   "id": "71300d4d",
   "metadata": {
    "scrolled": true
   },
   "outputs": [
    {
     "data": {
      "text/html": [
       "<div>\n",
       "<style scoped>\n",
       "    .dataframe tbody tr th:only-of-type {\n",
       "        vertical-align: middle;\n",
       "    }\n",
       "\n",
       "    .dataframe tbody tr th {\n",
       "        vertical-align: top;\n",
       "    }\n",
       "\n",
       "    .dataframe thead th {\n",
       "        text-align: right;\n",
       "    }\n",
       "</style>\n",
       "<table border=\"1\" class=\"dataframe\">\n",
       "  <thead>\n",
       "    <tr style=\"text-align: right;\">\n",
       "      <th></th>\n",
       "      <th>store_name</th>\n",
       "      <th>store_type</th>\n",
       "      <th>day</th>\n",
       "    </tr>\n",
       "  </thead>\n",
       "  <tbody>\n",
       "  </tbody>\n",
       "</table>\n",
       "</div>"
      ],
      "text/plain": [
       "Empty DataFrame\n",
       "Columns: [store_name, store_type, day]\n",
       "Index: []"
      ]
     },
     "execution_count": 16,
     "metadata": {},
     "output_type": "execute_result"
    }
   ],
   "source": [
    "week(0)"
   ]
  },
  {
   "cell_type": "code",
   "execution_count": 17,
   "id": "d748d523",
   "metadata": {},
   "outputs": [],
   "source": [
    "#create random samples for weekends based on the assigned weights\n",
    "def weekend(n):\n",
    "    df_ends = df_end.sample(n=n, weights='weight', replace=True)\n",
    "    df_ends = df_ends.assign(day='weekend')\n",
    "    del df_ends['weight']\n",
    "\n",
    "    return df_ends"
   ]
  },
  {
   "cell_type": "code",
   "execution_count": 18,
   "id": "05c334f4",
   "metadata": {},
   "outputs": [
    {
     "data": {
      "text/html": [
       "<div>\n",
       "<style scoped>\n",
       "    .dataframe tbody tr th:only-of-type {\n",
       "        vertical-align: middle;\n",
       "    }\n",
       "\n",
       "    .dataframe tbody tr th {\n",
       "        vertical-align: top;\n",
       "    }\n",
       "\n",
       "    .dataframe thead th {\n",
       "        text-align: right;\n",
       "    }\n",
       "</style>\n",
       "<table border=\"1\" class=\"dataframe\">\n",
       "  <thead>\n",
       "    <tr style=\"text-align: right;\">\n",
       "      <th></th>\n",
       "      <th>store_name</th>\n",
       "      <th>store_type</th>\n",
       "      <th>day</th>\n",
       "    </tr>\n",
       "  </thead>\n",
       "  <tbody>\n",
       "    <tr>\n",
       "      <th>4</th>\n",
       "      <td>baker</td>\n",
       "      <td>bakery</td>\n",
       "      <td>weekend</td>\n",
       "    </tr>\n",
       "  </tbody>\n",
       "</table>\n",
       "</div>"
      ],
      "text/plain": [
       "  store_name store_type      day\n",
       "4      baker     bakery  weekend"
      ]
     },
     "execution_count": 18,
     "metadata": {},
     "output_type": "execute_result"
    }
   ],
   "source": [
    "weekend(1)"
   ]
  },
  {
   "cell_type": "code",
   "execution_count": 19,
   "id": "9a517b8f",
   "metadata": {
    "scrolled": true
   },
   "outputs": [
    {
     "data": {
      "text/html": [
       "<div>\n",
       "<style scoped>\n",
       "    .dataframe tbody tr th:only-of-type {\n",
       "        vertical-align: middle;\n",
       "    }\n",
       "\n",
       "    .dataframe tbody tr th {\n",
       "        vertical-align: top;\n",
       "    }\n",
       "\n",
       "    .dataframe thead th {\n",
       "        text-align: right;\n",
       "    }\n",
       "</style>\n",
       "<table border=\"1\" class=\"dataframe\">\n",
       "  <thead>\n",
       "    <tr style=\"text-align: right;\">\n",
       "      <th></th>\n",
       "      <th>store_name</th>\n",
       "      <th>store_type</th>\n",
       "      <th>day</th>\n",
       "    </tr>\n",
       "  </thead>\n",
       "  <tbody>\n",
       "    <tr>\n",
       "      <th>3</th>\n",
       "      <td>baker</td>\n",
       "      <td>bakery</td>\n",
       "      <td>week</td>\n",
       "    </tr>\n",
       "    <tr>\n",
       "      <th>2</th>\n",
       "      <td>Okay</td>\n",
       "      <td>supermarket</td>\n",
       "      <td>week</td>\n",
       "    </tr>\n",
       "    <tr>\n",
       "      <th>3</th>\n",
       "      <td>baker</td>\n",
       "      <td>bakery</td>\n",
       "      <td>week</td>\n",
       "    </tr>\n",
       "    <tr>\n",
       "      <th>4</th>\n",
       "      <td>butcher</td>\n",
       "      <td>butcher</td>\n",
       "      <td>week</td>\n",
       "    </tr>\n",
       "  </tbody>\n",
       "</table>\n",
       "</div>"
      ],
      "text/plain": [
       "  store_name   store_type   day\n",
       "3      baker       bakery  week\n",
       "2       Okay  supermarket  week\n",
       "3      baker       bakery  week\n",
       "4    butcher      butcher  week"
      ]
     },
     "execution_count": 19,
     "metadata": {},
     "output_type": "execute_result"
    }
   ],
   "source": [
    "### Generate (random) stores based on the shopping week (df1)\n",
    "            # identify counts for visits per weekday\n",
    "mo = df1[[\"times\", \"day\"]].values[0]\n",
    "tu = df1[[\"times\", \"day\"]].values[1]\n",
    "we = df1[[\"times\", \"day\"]].values[2]\n",
    "th = df1[[\"times\", \"day\"]].values[3]\n",
    "fr = df1[[\"times\", \"day\"]].values[4]\n",
    "sa = df1[[\"times\", \"day\"]].values[5]\n",
    "su = df1[[\"times\", \"day\"]].values[6]\n",
    "\n",
    "    # Generate times for the [previously identified] shopping dags + corresponding time\n",
    "stores = [week(mo[0]), week(tu[0]), week(we[0]), week(th[0]), week(fr[0]), weekend(sa[0]), weekend(su[0])]\n",
    "\n",
    "    # create one df for all visited stores + day of the week\n",
    "stores = pd.concat(stores)\n",
    "\n",
    "stores"
   ]
  },
  {
   "cell_type": "code",
   "execution_count": 20,
   "id": "50ae88dd",
   "metadata": {},
   "outputs": [
    {
     "data": {
      "text/html": [
       "<div>\n",
       "<style scoped>\n",
       "    .dataframe tbody tr th:only-of-type {\n",
       "        vertical-align: middle;\n",
       "    }\n",
       "\n",
       "    .dataframe tbody tr th {\n",
       "        vertical-align: top;\n",
       "    }\n",
       "\n",
       "    .dataframe thead th {\n",
       "        text-align: right;\n",
       "    }\n",
       "</style>\n",
       "<table border=\"1\" class=\"dataframe\">\n",
       "  <thead>\n",
       "    <tr style=\"text-align: right;\">\n",
       "      <th></th>\n",
       "      <th>store_name</th>\n",
       "      <th>store_type</th>\n",
       "      <th>day</th>\n",
       "      <th>dow</th>\n",
       "    </tr>\n",
       "  </thead>\n",
       "  <tbody>\n",
       "    <tr>\n",
       "      <th>3</th>\n",
       "      <td>baker</td>\n",
       "      <td>bakery</td>\n",
       "      <td>week</td>\n",
       "      <td>Tuesday</td>\n",
       "    </tr>\n",
       "    <tr>\n",
       "      <th>2</th>\n",
       "      <td>Okay</td>\n",
       "      <td>supermarket</td>\n",
       "      <td>week</td>\n",
       "      <td>Tuesday</td>\n",
       "    </tr>\n",
       "    <tr>\n",
       "      <th>3</th>\n",
       "      <td>baker</td>\n",
       "      <td>bakery</td>\n",
       "      <td>week</td>\n",
       "      <td>Wednesday</td>\n",
       "    </tr>\n",
       "    <tr>\n",
       "      <th>4</th>\n",
       "      <td>butcher</td>\n",
       "      <td>butcher</td>\n",
       "      <td>week</td>\n",
       "      <td>Friday</td>\n",
       "    </tr>\n",
       "  </tbody>\n",
       "</table>\n",
       "</div>"
      ],
      "text/plain": [
       "  store_name   store_type   day        dow\n",
       "3      baker       bakery  week    Tuesday\n",
       "2       Okay  supermarket  week    Tuesday\n",
       "3      baker       bakery  week  Wednesday\n",
       "4    butcher      butcher  week     Friday"
      ]
     },
     "execution_count": 20,
     "metadata": {},
     "output_type": "execute_result"
    }
   ],
   "source": [
    "# Convert the shooping days (of the week) into a seperate list\n",
    "\n",
    "# get just the rows for which there is minimum one store visit\n",
    "dftimes = df1[df1['times']>0]\n",
    "dftimes = dftimes.reset_index(drop = True)\n",
    "\n",
    "# convert these rows to lists\n",
    "l1 = dftimes['day'].tolist()\n",
    "l2 = dftimes['times'].tolist()\n",
    "\n",
    "dow = list(zip(l1, l2))\n",
    "\n",
    "# multiply both lists\n",
    "dow = [char for char, count in dow for _ in range(count)]\n",
    "\n",
    "# Append the list of the days of the week (dow) to this df\n",
    "stores['dow'] = dow\n",
    "stores"
   ]
  },
  {
   "cell_type": "markdown",
   "id": "890870c0-e892-4c15-9591-212615944ab1",
   "metadata": {
    "editable": true,
    "jp-MarkdownHeadingCollapsed": true,
    "slideshow": {
     "slide_type": ""
    },
    "tags": []
   },
   "source": [
    "### 4.2.3. Set limits for min/max different store visits per day, stores per week (type, name)"
   ]
  },
  {
   "cell_type": "code",
   "execution_count": 21,
   "id": "34e7a45e-8ccd-4d5a-9d37-d0b858c4e631",
   "metadata": {
    "editable": true,
    "slideshow": {
     "slide_type": ""
    },
    "tags": []
   },
   "outputs": [
    {
     "data": {
      "text/plain": [
       "(0, 1)"
      ]
     },
     "execution_count": 21,
     "metadata": {},
     "output_type": "execute_result"
    }
   ],
   "source": [
    "# Count min/max (different) store visits per day (IF they shop on that day)\n",
    "def CountVisitsPerDay(day):\n",
    "    df_orders['week']=df_orders['week'].astype('category')\n",
    "    df_count = df_orders[df_orders['day']== day]\n",
    "\n",
    "    Count = df_count.sort_values(by=['week'])\n",
    "    Count = Count.groupby(['week'], observed = False)['store_name'].nunique()\n",
    "    Count = pd.DataFrame (Count)\n",
    "    Count = Count.reset_index()\n",
    "\n",
    "    min = Count.min(axis=0,numeric_only=True)['store_name']\n",
    "    max = Count.max(axis=0,numeric_only=True)['store_name']\n",
    "    return min, max\n",
    "\n",
    "CountVisitsPerDay('Friday')"
   ]
  },
  {
   "cell_type": "code",
   "execution_count": 22,
   "id": "f13b9637-9164-4911-a937-279fd1a8cef8",
   "metadata": {},
   "outputs": [
    {
     "data": {
      "text/plain": [
       "(0, 1)"
      ]
     },
     "execution_count": 22,
     "metadata": {},
     "output_type": "execute_result"
    }
   ],
   "source": [
    "# Count min/max visits to one store per week (IF that store is visited)\n",
    "def CountStoreName(store):\n",
    "    df_orders['week']=df_orders['week'].astype('category')\n",
    "    df_count = df_orders[df_orders['store_name']== store]\n",
    "\n",
    "    Count = df_count.sort_values(by=['week'])\n",
    "    Count = df_count.groupby(['week'], observed = False)['order_ID'].nunique()\n",
    "    Count = pd.DataFrame (Count)\n",
    "    Count = Count.reset_index()\n",
    "\n",
    "    min = Count.min(axis=0,numeric_only=True)['order_ID']\n",
    "    max = Count.max(axis=0,numeric_only=True)['order_ID']\n",
    "    return min, max\n",
    "\n",
    "CountStoreName('Carrefour')"
   ]
  },
  {
   "cell_type": "code",
   "execution_count": 23,
   "id": "0dc0c49e-d701-4b41-950d-26a2898a33c1",
   "metadata": {
    "editable": true,
    "slideshow": {
     "slide_type": ""
    },
    "tags": []
   },
   "outputs": [
    {
     "data": {
      "text/plain": [
       "(0, 2)"
      ]
     },
     "execution_count": 23,
     "metadata": {},
     "output_type": "execute_result"
    }
   ],
   "source": [
    "# Count min/max visits to one store type per week (IF that store type is visited)\n",
    "def CountStoreType(store):\n",
    "    df_orders['week']=df_orders['week'].astype('category')\n",
    "    df_count = df_orders[df_orders['store_type']== store]\n",
    "\n",
    "    Count = df_count.sort_values(by=['week'])\n",
    "    Count = Count.groupby(['week'], observed = False)['order_ID'].nunique()\n",
    "    Count = pd.DataFrame (Count)\n",
    "    Count = Count.reset_index()\n",
    "\n",
    "    min = Count.min(axis=0,numeric_only=True)['order_ID']\n",
    "    max = Count.max(axis=0,numeric_only=True)['order_ID']\n",
    "    return min, max\n",
    "\n",
    "CountStoreType('butcher')"
   ]
  },
  {
   "cell_type": "markdown",
   "id": "47a0ce2e-3178-4120-9a98-cd6d3b9868c6",
   "metadata": {},
   "source": [
    "### 4.2.4. Generate storenames (and matching -types; with limits - loop until within the limits)"
   ]
  },
  {
   "cell_type": "code",
   "execution_count": 24,
   "id": "1926132c-4fb6-4a24-a930-1df8c11d269f",
   "metadata": {
    "editable": true,
    "slideshow": {
     "slide_type": ""
    },
    "tags": []
   },
   "outputs": [],
   "source": [
    "# data for HH\n",
    "df = pd.read_csv (r\"/workspaces/DesignerlyAlgorithmicPrototyping/database/DATA-HH (dummy).csv\")\n",
    "\n",
    "def storeperday(dataframes):\n",
    "    i = 0\n",
    "\n",
    "    while i < 3:\n",
    "\n",
    "        ### 2. What STORE?\n",
    "            # identify counts for visits per weekday\n",
    "        mo = int(df1[\"times\"].values[0])\n",
    "        tu = int(df1[\"times\"].values[1])\n",
    "        we = int (df1[\"times\"].values[2])\n",
    "        th = int (df1[\"times\"].values[3])\n",
    "        fr = int (df1[\"times\"].values[4])\n",
    "        sa = int (df1[\"times\"].values[5])\n",
    "        su = int (df1[\"times\"].values[6])\n",
    "\n",
    "        # Generate times for the [previously identified] shopping dags + corresponding time\n",
    "        stores = [week(mo), week(tu), week(we), week(th), week(fr), weekend(sa), weekend(su)]\n",
    "        # create one df for all visited stores + day of the week\n",
    "        stores = pd.concat(stores)\n",
    "\n",
    "        # get just the rows for which there is minimum one store visit\n",
    "        dftimes = df1[df1['times']>0]\n",
    "        dftimes = dftimes.reset_index(drop = True)\n",
    "\n",
    "        # convert these rows to lists\n",
    "        l1 = dftimes['day'].tolist()\n",
    "        l2 = dftimes['times'].tolist()\n",
    "\n",
    "        dow = list(zip(l1, l2))\n",
    "\n",
    "        # multiply both lists\n",
    "        dow = [char for char, count in dow for _ in range(count)]\n",
    "\n",
    "        # Append the list of the days of the week (dow) to this df\n",
    "        stores['dow'] = dow\n",
    "\n",
    "        ### CHECKPOINT: range for amount of stores per week.day\n",
    "\n",
    "            # Check if the total STORE TYPES VISITED PER WEEK are within the normal range\n",
    "        for storetype in df['store_type']:\n",
    "            typecount = stores[stores['store_type']==storetype]['store_type'].count()\n",
    "            countstoretype = CountStoreType(storetype)\n",
    "            minstoretype = countstoretype[0]\n",
    "            maxstoretype = countstoretype[1]\n",
    "            if typecount < minstoretype:\n",
    "                print(f\"{bcolors.WARNING}{bcolors.BOLD} MODEL WAS RERUN - Too few store type:\", storetype, \"| minimum:\", minstoretype, \"| generated:\", typecount)\n",
    "                i=0\n",
    "                continue\n",
    "            elif maxstoretype < typecount:\n",
    "                print(f\"{bcolors.WARNING}{bcolors.BOLD} MODEL WAS RERUN - Too many store type:\", storetype, \"| maximum:\", maxstoretype, \"| generated:\", typecount)\n",
    "                i=0\n",
    "                continue\n",
    "            else:\n",
    "                i= i+1\n",
    "\n",
    "            # Check if the total STORE NAMES VISITED PER WEEK are within the normal range\n",
    "        for storename in df['store_name']:\n",
    "            namecount = stores[stores['store_name']==storename]['store_name'].count()\n",
    "            countstorename = CountStoreName(storename)\n",
    "            minstorename = countstorename[0]\n",
    "            maxstorename = countstorename[1]\n",
    "            if namecount < minstorename:\n",
    "                print(f\"{bcolors.WARNING}{bcolors.BOLD} MODEL WAS RERUN - Too few store name:\", storename, \"| minimum:\", minstorename, \"| generated:\", namecount)\n",
    "                i=0\n",
    "                continue\n",
    "            elif maxstorename < namecount:\n",
    "                print(f\"{bcolors.WARNING}{bcolors.BOLD} MODEL WAS RERUN - Too many store name:\", storename, \"| maximum:\", maxstorename, \"| generated:\", namecount)\n",
    "                i=0\n",
    "                continue\n",
    "            else:\n",
    "                i= i+1\n",
    "\n",
    "            # Check if the total STORES VISITED PER DAY are within the normal range\n",
    "        for day in df['day']:\n",
    "            perdaycount = stores[stores['dow']==day]['dow'].count()\n",
    "            CountTotalPerday = CountVisitsPerDay(day)\n",
    "            minstoreperday = CountTotalPerday[0]\n",
    "            maxstoreperday = CountTotalPerday[1]\n",
    "            if perdaycount < minstoreperday:\n",
    "                print(f\"{bcolors.WARNING}{bcolors.BOLD} MODEL WAS RERUN - Too few different stores on:\", day, \"| minimum:\", minstoreperday, \"| generated:\", perdaycount)\n",
    "                i=0\n",
    "                continue\n",
    "            elif maxstoreperday < perdaycount:\n",
    "                print(f\"{bcolors.WARNING}{bcolors.BOLD} MODEL WAS RERUN - Too many different stores on:\", day, \"| maximum:\", maxstoreperday, \"| generated:\", perdaycount)\n",
    "                i=0\n",
    "                continue\n",
    "            else:\n",
    "                i= i+1\n",
    "                return stores"
   ]
  },
  {
   "cell_type": "code",
   "execution_count": 25,
   "id": "fe7f9512-0b0b-4b18-8c3f-3c8936635940",
   "metadata": {
    "editable": true,
    "scrolled": true,
    "slideshow": {
     "slide_type": ""
    },
    "tags": []
   },
   "outputs": [
    {
     "data": {
      "text/html": [
       "<div>\n",
       "<style scoped>\n",
       "    .dataframe tbody tr th:only-of-type {\n",
       "        vertical-align: middle;\n",
       "    }\n",
       "\n",
       "    .dataframe tbody tr th {\n",
       "        vertical-align: top;\n",
       "    }\n",
       "\n",
       "    .dataframe thead th {\n",
       "        text-align: right;\n",
       "    }\n",
       "</style>\n",
       "<table border=\"1\" class=\"dataframe\">\n",
       "  <thead>\n",
       "    <tr style=\"text-align: right;\">\n",
       "      <th></th>\n",
       "      <th>store_name</th>\n",
       "      <th>store_type</th>\n",
       "      <th>day</th>\n",
       "      <th>dow</th>\n",
       "    </tr>\n",
       "  </thead>\n",
       "  <tbody>\n",
       "    <tr>\n",
       "      <th>0</th>\n",
       "      <td>Albert Heijn</td>\n",
       "      <td>supermarket</td>\n",
       "      <td>week</td>\n",
       "      <td>Tuesday</td>\n",
       "    </tr>\n",
       "    <tr>\n",
       "      <th>0</th>\n",
       "      <td>Albert Heijn</td>\n",
       "      <td>supermarket</td>\n",
       "      <td>week</td>\n",
       "      <td>Tuesday</td>\n",
       "    </tr>\n",
       "    <tr>\n",
       "      <th>0</th>\n",
       "      <td>Albert Heijn</td>\n",
       "      <td>supermarket</td>\n",
       "      <td>week</td>\n",
       "      <td>Wednesday</td>\n",
       "    </tr>\n",
       "    <tr>\n",
       "      <th>3</th>\n",
       "      <td>baker</td>\n",
       "      <td>bakery</td>\n",
       "      <td>week</td>\n",
       "      <td>Friday</td>\n",
       "    </tr>\n",
       "  </tbody>\n",
       "</table>\n",
       "</div>"
      ],
      "text/plain": [
       "     store_name   store_type   day        dow\n",
       "0  Albert Heijn  supermarket  week    Tuesday\n",
       "0  Albert Heijn  supermarket  week    Tuesday\n",
       "0  Albert Heijn  supermarket  week  Wednesday\n",
       "3         baker       bakery  week     Friday"
      ]
     },
     "execution_count": 25,
     "metadata": {},
     "output_type": "execute_result"
    }
   ],
   "source": [
    "df2 = storeperday(df1)\n",
    "df2"
   ]
  },
  {
   "cell_type": "markdown",
   "id": "d530ebdf",
   "metadata": {
    "jp-MarkdownHeadingCollapsed": true
   },
   "source": [
    "## 4.3.  Time of day (model step 3)"
   ]
  },
  {
   "cell_type": "markdown",
   "id": "ef907bce",
   "metadata": {
    "jp-MarkdownHeadingCollapsed": true
   },
   "source": [
    "### 4.3.1. Load the dataframes per day"
   ]
  },
  {
   "cell_type": "code",
   "execution_count": 26,
   "id": "49c0f7f1",
   "metadata": {
    "editable": true,
    "slideshow": {
     "slide_type": ""
    },
    "tags": []
   },
   "outputs": [],
   "source": [
    "# data for different days vs stores\n",
    "df_Mondays = pd.read_csv (r\"/workspaces/DesignerlyAlgorithmicPrototyping/database/df_HH1_MoTime.csv\")\n",
    "df_Tuesdays = pd.read_csv (r\"/workspaces/DesignerlyAlgorithmicPrototyping/database/df_HH1_TuTime.csv\")\n",
    "df_Wednesdays = pd.read_csv (r\"/workspaces/DesignerlyAlgorithmicPrototyping/database/df_HH1_WeTime.csv\")\n",
    "df_Thursdays = pd.read_csv (r\"/workspaces/DesignerlyAlgorithmicPrototyping/database/df_HH1_ThTime.csv\")\n",
    "df_Fridays = pd.read_csv (r\"/workspaces/DesignerlyAlgorithmicPrototyping/database/df_HH1_FrTime.csv\")\n",
    "df_Saturdays = pd.read_csv (r\"/workspaces/DesignerlyAlgorithmicPrototyping/database/df_HH1_SaTime.csv\")\n",
    "df_Sundays = pd.read_csv (r\"/workspaces/DesignerlyAlgorithmicPrototyping/database/df_HH1_SuTime.csv\")"
   ]
  },
  {
   "cell_type": "code",
   "execution_count": 27,
   "id": "7016e6e9",
   "metadata": {
    "scrolled": true
   },
   "outputs": [
    {
     "data": {
      "text/html": [
       "<div>\n",
       "<style scoped>\n",
       "    .dataframe tbody tr th:only-of-type {\n",
       "        vertical-align: middle;\n",
       "    }\n",
       "\n",
       "    .dataframe tbody tr th {\n",
       "        vertical-align: top;\n",
       "    }\n",
       "\n",
       "    .dataframe thead th {\n",
       "        text-align: right;\n",
       "    }\n",
       "</style>\n",
       "<table border=\"1\" class=\"dataframe\">\n",
       "  <thead>\n",
       "    <tr style=\"text-align: right;\">\n",
       "      <th></th>\n",
       "      <th>time</th>\n",
       "      <th>weight</th>\n",
       "    </tr>\n",
       "  </thead>\n",
       "  <tbody>\n",
       "    <tr>\n",
       "      <th>0</th>\n",
       "      <td>morning</td>\n",
       "      <td>9</td>\n",
       "    </tr>\n",
       "  </tbody>\n",
       "</table>\n",
       "</div>"
      ],
      "text/plain": [
       "      time  weight\n",
       "0  morning       9"
      ]
     },
     "execution_count": 27,
     "metadata": {},
     "output_type": "execute_result"
    }
   ],
   "source": [
    "df_Sundays"
   ]
  },
  {
   "cell_type": "markdown",
   "id": "b94468c0",
   "metadata": {
    "jp-MarkdownHeadingCollapsed": true
   },
   "source": [
    "### 4.3.2.  Select times (per day)"
   ]
  },
  {
   "cell_type": "code",
   "execution_count": 28,
   "id": "a2e4f5f1",
   "metadata": {},
   "outputs": [],
   "source": [
    "#create random samples for this day based on the assigned weights\n",
    "def Monday(n):\n",
    "    df_Monday = df_Mondays.sample(n=n, weights='weight', replace=True) \n",
    "    df_Monday = df_Monday.assign(day='Monday')\n",
    "    del df_Monday['weight']\n",
    "    del df_Monday['day']\n",
    "    return df_Monday\n",
    "\n",
    "#create random samples for this day based on the assigned weights\n",
    "def Tuesday(n):\n",
    "    df_Tuesday = df_Tuesdays.sample(n=n, weights='weight', replace=True) \n",
    "    df_Tuesday = df_Tuesday.assign(day='Tuesday')\n",
    "    del df_Tuesday['weight']\n",
    "    del df_Tuesday['day']\n",
    "    return df_Tuesday\n",
    "\n",
    "#create random samples for this day based on the assigned weights\n",
    "def Wednesday(n):\n",
    "    df_Wednesday = df_Wednesdays.sample(n=n, weights='weight', replace=True) \n",
    "    df_Wednesday = df_Wednesday.assign(day='Wednesday')\n",
    "    del df_Wednesday['weight']\n",
    "    del df_Wednesday['day']\n",
    "    return df_Wednesday\n",
    "\n",
    "#create random samples for this day based on the assigned weights\n",
    "def Thursday(n):\n",
    "    df_Thursday = df_Thursdays.sample(n=n, weights='weight', replace=True) \n",
    "    df_Thursday = df_Thursday.assign(day='Thursday')\n",
    "    del df_Thursday['weight']\n",
    "    del df_Thursday['day']\n",
    "    return df_Thursday\n",
    "\n",
    "#create random samples for this day based on the assigned weights\n",
    "def Friday(n):\n",
    "    df_Friday = df_Fridays.sample(n=n, weights='weight', replace=True) \n",
    "    df_Friday = df_Friday.assign(day='Friday')\n",
    "    del df_Friday['weight']\n",
    "    del df_Friday['day']\n",
    "    return df_Friday\n",
    "\n",
    "# #create random samples for this day based on the assigned weights\n",
    "def Saturday(n):\n",
    "    df_Saturday = df_Saturdays.sample(n=n, weights='weight', replace=True) \n",
    "    df_Saturday = df_Saturday.assign(day='Saturday')\n",
    "    del df_Saturday['weight']\n",
    "    del df_Saturday['day']\n",
    "    return df_Saturday\n",
    "\n",
    "#create random samples for this day based on the assigned weights\n",
    "def Sunday(n):\n",
    "    df_Sunday = df_Sundays.sample(n=n, weights='weight', replace=True) \n",
    "    df_Sunday = df_Sunday.assign(day='Sunday')\n",
    "    del df_Sunday['weight']\n",
    "    del df_Sunday['day']\n",
    "    return df_Sunday"
   ]
  },
  {
   "cell_type": "code",
   "execution_count": 29,
   "id": "865e8cb2",
   "metadata": {},
   "outputs": [
    {
     "data": {
      "text/html": [
       "<div>\n",
       "<style scoped>\n",
       "    .dataframe tbody tr th:only-of-type {\n",
       "        vertical-align: middle;\n",
       "    }\n",
       "\n",
       "    .dataframe tbody tr th {\n",
       "        vertical-align: top;\n",
       "    }\n",
       "\n",
       "    .dataframe thead th {\n",
       "        text-align: right;\n",
       "    }\n",
       "</style>\n",
       "<table border=\"1\" class=\"dataframe\">\n",
       "  <thead>\n",
       "    <tr style=\"text-align: right;\">\n",
       "      <th></th>\n",
       "      <th>time</th>\n",
       "    </tr>\n",
       "  </thead>\n",
       "  <tbody>\n",
       "    <tr>\n",
       "      <th>0</th>\n",
       "      <td>morning</td>\n",
       "    </tr>\n",
       "    <tr>\n",
       "      <th>0</th>\n",
       "      <td>morning</td>\n",
       "    </tr>\n",
       "  </tbody>\n",
       "</table>\n",
       "</div>"
      ],
      "text/plain": [
       "      time\n",
       "0  morning\n",
       "0  morning"
      ]
     },
     "execution_count": 29,
     "metadata": {},
     "output_type": "execute_result"
    }
   ],
   "source": [
    "Sunday(2)"
   ]
  },
  {
   "cell_type": "markdown",
   "id": "3d552351",
   "metadata": {},
   "source": [
    "### 4.3.3. Set limits for min/max visits per time of day"
   ]
  },
  {
   "cell_type": "code",
   "execution_count": 30,
   "id": "34c2ff66",
   "metadata": {},
   "outputs": [],
   "source": [
    "def CountTimingPerDay(time):\n",
    "    df_count = df_orders[df_orders['time']== time]\n",
    "    Count = df_count.groupby(['week', 'day'], observed=False)['order_ID'].count()\n",
    "    Count = pd.DataFrame (Count)\n",
    "    Count = Count.reset_index()\n",
    "\n",
    "    min = Count.min(axis=0,numeric_only=True)['order_ID']\n",
    "    max = Count.max(axis=0,numeric_only=True)['order_ID']\n",
    "    return min, max"
   ]
  },
  {
   "cell_type": "code",
   "execution_count": 31,
   "id": "0458f727-da94-443a-9463-79999f8f2109",
   "metadata": {},
   "outputs": [
    {
     "data": {
      "text/plain": [
       "(0, 3)"
      ]
     },
     "execution_count": 31,
     "metadata": {},
     "output_type": "execute_result"
    }
   ],
   "source": [
    "CountTimingPerDay('morning')"
   ]
  },
  {
   "cell_type": "markdown",
   "id": "3ac448a5-2d62-4a36-904c-7887f1c1f132",
   "metadata": {},
   "source": [
    "### 4.3.4. Generate times of day (morning, noon, afternoon; with limits - loop until within the limits)"
   ]
  },
  {
   "cell_type": "code",
   "execution_count": 32,
   "id": "239a59e8",
   "metadata": {},
   "outputs": [],
   "source": [
    "def timeperday(dataframes):\n",
    "    restart = True\n",
    "\n",
    "    while restart:\n",
    "\n",
    "        ### 2. What STORE?\n",
    "        # identify counts for visits per weekday\n",
    "        mo = int(df1[\"times\"].values[0])\n",
    "        tu = int(df1[\"times\"].values[1])\n",
    "        we = int (df1[\"times\"].values[2])\n",
    "        th = int (df1[\"times\"].values[3])\n",
    "        fr = int (df1[\"times\"].values[4])\n",
    "        sa = int (df1[\"times\"].values[5])\n",
    "        su = int (df1[\"times\"].values[6])\n",
    "        \n",
    "        # Generate store names for the [previously identified] shopping dags + corresponding store type\n",
    "        times = [Monday(mo), Tuesday(tu), Wednesday(we), Thursday(th), Friday(fr), Saturday(sa), Sunday(su)]\n",
    "        # create one df for all visited stores + day of the week\n",
    "        timesdf = pd.concat(times)\n",
    "\n",
    "\n",
    "        ### CHECKPOINT: range for visits/week and days/week\n",
    "\n",
    "        # Check if the total STORE TYPES VISITED PER day are within the set limits\n",
    "        timecount = timesdf['time']\n",
    "        timecount = timecount.to_numpy()\n",
    "\n",
    "        for timing in timecount:\n",
    "            timeecount = timesdf[timesdf['time']==timing]['time'].count()\n",
    "            counttimesperday = CountTimingPerDay(timing)\n",
    "            mindaytimes = counttimesperday[0]\n",
    "            maxdaytimes = counttimesperday[1]\n",
    "            if mindaytimes <= timeecount <= maxdaytimes:\n",
    "                restart = False\n",
    "                return timesdf\n",
    "                break\n",
    "            else:\n",
    "                print(f\"{bcolors.WARNING}{bcolors.BOLD} RERUN - Too few/many different times per day\", \"| minimum:\", mindaytimes, \"| maximum:\", maxdaytimes, \"| generated:\", timeecount)\n",
    "                restart = True\n",
    "                break"
   ]
  },
  {
   "cell_type": "code",
   "execution_count": 33,
   "id": "6d6e9446-94c1-4ffa-bedc-0b3dbb00bdf6",
   "metadata": {},
   "outputs": [
    {
     "data": {
      "text/html": [
       "<div>\n",
       "<style scoped>\n",
       "    .dataframe tbody tr th:only-of-type {\n",
       "        vertical-align: middle;\n",
       "    }\n",
       "\n",
       "    .dataframe tbody tr th {\n",
       "        vertical-align: top;\n",
       "    }\n",
       "\n",
       "    .dataframe thead th {\n",
       "        text-align: right;\n",
       "    }\n",
       "</style>\n",
       "<table border=\"1\" class=\"dataframe\">\n",
       "  <thead>\n",
       "    <tr style=\"text-align: right;\">\n",
       "      <th></th>\n",
       "      <th>store_name</th>\n",
       "      <th>store_type</th>\n",
       "      <th>day</th>\n",
       "      <th>dow</th>\n",
       "      <th>time</th>\n",
       "    </tr>\n",
       "  </thead>\n",
       "  <tbody>\n",
       "    <tr>\n",
       "      <th>0</th>\n",
       "      <td>Albert Heijn</td>\n",
       "      <td>supermarket</td>\n",
       "      <td>week</td>\n",
       "      <td>Tuesday</td>\n",
       "      <td>noon</td>\n",
       "    </tr>\n",
       "    <tr>\n",
       "      <th>0</th>\n",
       "      <td>Albert Heijn</td>\n",
       "      <td>supermarket</td>\n",
       "      <td>week</td>\n",
       "      <td>Tuesday</td>\n",
       "      <td>noon</td>\n",
       "    </tr>\n",
       "    <tr>\n",
       "      <th>0</th>\n",
       "      <td>Albert Heijn</td>\n",
       "      <td>supermarket</td>\n",
       "      <td>week</td>\n",
       "      <td>Wednesday</td>\n",
       "      <td>morning</td>\n",
       "    </tr>\n",
       "    <tr>\n",
       "      <th>3</th>\n",
       "      <td>baker</td>\n",
       "      <td>bakery</td>\n",
       "      <td>week</td>\n",
       "      <td>Friday</td>\n",
       "      <td>afternoon</td>\n",
       "    </tr>\n",
       "  </tbody>\n",
       "</table>\n",
       "</div>"
      ],
      "text/plain": [
       "     store_name   store_type   day        dow       time\n",
       "0  Albert Heijn  supermarket  week    Tuesday       noon\n",
       "0  Albert Heijn  supermarket  week    Tuesday       noon\n",
       "0  Albert Heijn  supermarket  week  Wednesday    morning\n",
       "3         baker       bakery  week     Friday  afternoon"
      ]
     },
     "execution_count": 33,
     "metadata": {},
     "output_type": "execute_result"
    }
   ],
   "source": [
    "df3 = timeperday(df2)\n",
    "#convert this df (time of day) to a list, so that it can be appended to df2\n",
    "listtime = df3['time'].tolist()\n",
    "\n",
    "df2['time'] = listtime\n",
    "df3 = df2\n",
    "df3"
   ]
  },
  {
   "cell_type": "markdown",
   "id": "633e6b8b",
   "metadata": {},
   "source": [
    "We now have our third model output: times at which they will shop (morning, noon, afternoon) ---> this will help to define the next variable: (different) item amount (count)"
   ]
  },
  {
   "cell_type": "markdown",
   "id": "70629e3f",
   "metadata": {
    "jp-MarkdownHeadingCollapsed": true
   },
   "source": [
    "## 4.4. Amount of (different) items bought (model step 4)"
   ]
  },
  {
   "cell_type": "markdown",
   "id": "bfd79a1a-8146-48cd-a4cf-08d188ab6132",
   "metadata": {},
   "source": [
    "### 4.4.1.  Load weighted dataframes for item amounts"
   ]
  },
  {
   "cell_type": "markdown",
   "id": "9f4e3dc0-8f6e-45a9-9f5f-cd1aa4446f98",
   "metadata": {
    "jp-MarkdownHeadingCollapsed": true
   },
   "source": [
    "This part of the model does not need a separate weighted dataframe since the weight is defined by the amount of times the item types are present in the whole dataframe "
   ]
  },
  {
   "cell_type": "markdown",
   "id": "f7d47314-e32d-4c72-9c7c-8fdc689be719",
   "metadata": {
    "editable": true,
    "jp-MarkdownHeadingCollapsed": true,
    "slideshow": {
     "slide_type": ""
    },
    "tags": []
   },
   "source": [
    "### 4.4.2.  Generate random item amount for store name"
   ]
  },
  {
   "cell_type": "code",
   "execution_count": 34,
   "id": "e1ea0ed5-0e14-4e63-a7e0-bd51757d7747",
   "metadata": {
    "editable": true,
    "slideshow": {
     "slide_type": ""
    },
    "tags": []
   },
   "outputs": [
    {
     "data": {
      "text/plain": [
       "24"
      ]
     },
     "execution_count": 34,
     "metadata": {},
     "output_type": "execute_result"
    }
   ],
   "source": [
    "import random\n",
    "def StoreCount(storename):\n",
    "    df_store = df[df['store_name'] == storename]\n",
    "    df_store = df_store.groupby(['order_ID'], observed = False)['amount'].count()\n",
    "    df_store = pd.DataFrame (df_store)\n",
    "    df_store = df_store.reset_index()\n",
    "    # The amount of (different) items they will buy will be a random number between the minimum amount of items they ever bought at this store(name) and the max amount.\n",
    "    min = df_store.min(axis=0)['amount']\n",
    "    max = df_store.max(axis=0)['amount']\n",
    "    return random.randint(min, max)\n",
    "\n",
    "# Test\n",
    "StoreCount('Okay')"
   ]
  },
  {
   "cell_type": "markdown",
   "id": "a043fe73-5282-44cf-a5a6-fd886641d8f6",
   "metadata": {
    "jp-MarkdownHeadingCollapsed": true
   },
   "source": [
    "### 4.4.3. Set limits for min/max weekly item amounts"
   ]
  },
  {
   "cell_type": "code",
   "execution_count": 35,
   "id": "6c76d5a0-39d8-48df-93d8-7032332f55ad",
   "metadata": {
    "editable": true,
    "slideshow": {
     "slide_type": ""
    },
    "tags": []
   },
   "outputs": [
    {
     "data": {
      "text/plain": [
       "(7, 86)"
      ]
     },
     "execution_count": 35,
     "metadata": {},
     "output_type": "execute_result"
    }
   ],
   "source": [
    "def WeekCount():\n",
    "    df_count = df.groupby(['week'], observed = False)['amount'].count()\n",
    "    df_count = pd.DataFrame (df_count)\n",
    "    df_count = df_count.reset_index()\n",
    "    # The amount of (different) items they will buy will be limited between the minimum amount of (different) items they ever bought in a week and the max amount.    \n",
    "    min = df_count.min(axis=0)['amount']\n",
    "    max = df_count.max(axis=0)['amount']\n",
    "    return (min,max)\n",
    "\n",
    "# Test\n",
    "WeekCount()"
   ]
  },
  {
   "cell_type": "markdown",
   "id": "a48f372d-59db-47e0-a5ee-98263aa4b100",
   "metadata": {
    "editable": true,
    "slideshow": {
     "slide_type": ""
    },
    "tags": []
   },
   "source": [
    "### 4.4.4. Generate item amount (with weekly (different) item amount limits - loop until within the limits)"
   ]
  },
  {
   "cell_type": "code",
   "execution_count": 36,
   "id": "4b0c3c75-6bd1-4e29-b570-9b9924613b9a",
   "metadata": {},
   "outputs": [],
   "source": [
    "dataframe = pd.read_csv (r\"/workspaces/DesignerlyAlgorithmicPrototyping/database/DATA-HH (dummy).csv\")\n",
    "\n",
    "\n",
    "def countsperstore(dataframes):\n",
    "    storetime = dataframes[['store_name','dow']]\n",
    "    \n",
    "    restart = True \n",
    "\n",
    "    while restart:\n",
    "        storecounts = []\n",
    "\n",
    "        for store, time in storetime.itertuples(index=False):\n",
    "            storecounts.append(StoreCount(store))\n",
    "\n",
    "        dataframes['counts'] = storecounts\n",
    "\n",
    "        # Check if the total ITEMS PER STORE are within the normal range\n",
    "        for items in dataframe['item_type']:\n",
    "            week9count = dataframes['counts'].sum()\n",
    "            NormWeekCount = WeekCount()\n",
    "            minWeekCount = NormWeekCount[0]\n",
    "            maxWeekCount = NormWeekCount[1]\n",
    "            if week9count < minWeekCount:\n",
    "                print(f\"{bcolors.WARNING}{bcolors.BOLD} MODEL WAS RERUN - Too few different items this week\", \"| minimum:\", minWeekCount, \"| generated:\", week9count)\n",
    "                restart = True\n",
    "                break # force restart\n",
    "            elif maxWeekCount < week9count:\n",
    "                print(f\"{bcolors.WARNING}{bcolors.BOLD} MODEL WAS RERUN - Too many different items this week\", \"| maximum:\", maxWeekCount, \"| generated:\", week9count)\n",
    "                restart = True\n",
    "                break # force restart\n",
    "            else:\n",
    "                restart = False\n",
    "                print(\"FINAL total itemcount (amount) =\", week9count)\n",
    "                return dataframes\n",
    "                break"
   ]
  },
  {
   "cell_type": "code",
   "execution_count": 37,
   "id": "8e918910",
   "metadata": {
    "editable": true,
    "scrolled": true,
    "slideshow": {
     "slide_type": ""
    },
    "tags": []
   },
   "outputs": [
    {
     "name": "stdout",
     "output_type": "stream",
     "text": [
      "FINAL total itemcount (amount) = 27\n"
     ]
    },
    {
     "data": {
      "text/html": [
       "<div>\n",
       "<style scoped>\n",
       "    .dataframe tbody tr th:only-of-type {\n",
       "        vertical-align: middle;\n",
       "    }\n",
       "\n",
       "    .dataframe tbody tr th {\n",
       "        vertical-align: top;\n",
       "    }\n",
       "\n",
       "    .dataframe thead th {\n",
       "        text-align: right;\n",
       "    }\n",
       "</style>\n",
       "<table border=\"1\" class=\"dataframe\">\n",
       "  <thead>\n",
       "    <tr style=\"text-align: right;\">\n",
       "      <th></th>\n",
       "      <th>store_name</th>\n",
       "      <th>store_type</th>\n",
       "      <th>day</th>\n",
       "      <th>dow</th>\n",
       "      <th>time</th>\n",
       "      <th>counts</th>\n",
       "      <th>I</th>\n",
       "    </tr>\n",
       "  </thead>\n",
       "  <tbody>\n",
       "    <tr>\n",
       "      <th>0</th>\n",
       "      <td>Albert Heijn</td>\n",
       "      <td>supermarket</td>\n",
       "      <td>week</td>\n",
       "      <td>Tuesday</td>\n",
       "      <td>noon</td>\n",
       "      <td>10</td>\n",
       "      <td>0</td>\n",
       "    </tr>\n",
       "    <tr>\n",
       "      <th>0</th>\n",
       "      <td>Albert Heijn</td>\n",
       "      <td>supermarket</td>\n",
       "      <td>week</td>\n",
       "      <td>Tuesday</td>\n",
       "      <td>noon</td>\n",
       "      <td>5</td>\n",
       "      <td>1</td>\n",
       "    </tr>\n",
       "    <tr>\n",
       "      <th>0</th>\n",
       "      <td>Albert Heijn</td>\n",
       "      <td>supermarket</td>\n",
       "      <td>week</td>\n",
       "      <td>Wednesday</td>\n",
       "      <td>morning</td>\n",
       "      <td>10</td>\n",
       "      <td>2</td>\n",
       "    </tr>\n",
       "    <tr>\n",
       "      <th>3</th>\n",
       "      <td>baker</td>\n",
       "      <td>bakery</td>\n",
       "      <td>week</td>\n",
       "      <td>Friday</td>\n",
       "      <td>afternoon</td>\n",
       "      <td>2</td>\n",
       "      <td>3</td>\n",
       "    </tr>\n",
       "  </tbody>\n",
       "</table>\n",
       "</div>"
      ],
      "text/plain": [
       "     store_name   store_type   day        dow       time  counts  I\n",
       "0  Albert Heijn  supermarket  week    Tuesday       noon      10  0\n",
       "0  Albert Heijn  supermarket  week    Tuesday       noon       5  1\n",
       "0  Albert Heijn  supermarket  week  Wednesday    morning      10  2\n",
       "3         baker       bakery  week     Friday  afternoon       2  3"
      ]
     },
     "execution_count": 37,
     "metadata": {},
     "output_type": "execute_result"
    }
   ],
   "source": [
    "# generate item counts per gorcery visit\n",
    "df4 = countsperstore(df3)\n",
    "\n",
    "# add a column to identify each grocery visit (I = identifier)\n",
    "df4['I'] = np.arange(df4.shape[0])\n",
    "# df4 = df4.drop(['day'], axis=1)\n",
    "df4"
   ]
  },
  {
   "cell_type": "markdown",
   "id": "b0619e01-861d-45d7-8a9d-5bf03ab9ee21",
   "metadata": {
    "jp-MarkdownHeadingCollapsed": true
   },
   "source": [
    "## 4.5. Grocery lists (model step 5 - FINAL STEP)"
   ]
  },
  {
   "cell_type": "markdown",
   "id": "7c7ff6e8-be1c-4d3c-b903-9c9aee6d34d0",
   "metadata": {
    "jp-MarkdownHeadingCollapsed": true
   },
   "source": [
    "### 4.5.1.  Load weighted dataframes for item amounts"
   ]
  },
  {
   "cell_type": "markdown",
   "id": "c61c5ebe-82dc-490c-972c-f48c25db6e19",
   "metadata": {
    "jp-MarkdownHeadingCollapsed": true
   },
   "source": [
    "The amount of times an item type is present in the whole dataframe makes up the weight for this step in the model, for this we need to create a new column in the dataframe:"
   ]
  },
  {
   "cell_type": "code",
   "execution_count": 38,
   "id": "e3c57a0e-a709-4242-8f2c-8045be27f677",
   "metadata": {},
   "outputs": [],
   "source": [
    "df['weights_itemtype'] = df.groupby('item_type')['item_type'].transform('count')"
   ]
  },
  {
   "cell_type": "markdown",
   "id": "a446896c-1eae-415c-926a-ea6a277eb8dc",
   "metadata": {
    "editable": true,
    "jp-MarkdownHeadingCollapsed": true,
    "slideshow": {
     "slide_type": ""
    },
    "tags": []
   },
   "source": [
    "### 4.5.2.  Generate random item lists"
   ]
  },
  {
   "cell_type": "code",
   "execution_count": 39,
   "id": "ceb2e984-45fe-4440-bd69-061e7cee564d",
   "metadata": {},
   "outputs": [],
   "source": [
    "# Generate grocery lists for supermarkets, indicate the amount of items on the list (manually)\n",
    "def supermarket(dataframes, counts):\n",
    "        ## Create dataframes for each day they go shopping\n",
    "    typedf = {}\n",
    "    for storetype in dataframes['store_type']:\n",
    "            storeday = df[df['store_type'] == storetype]\n",
    "            items = storeday[['item_type', 'item_name', 'store_type','store_name', 'amount', 'category', 'weights_itemtype']]\n",
    "            typedf[storetype] = pd.DataFrame(items)\n",
    "            typedf[storetype].drop_duplicates() \n",
    "        ## sample dataframes per store type\n",
    "    if 'supermarket' in dataframes.values:\n",
    "            grocerylist = dataframes[dataframes['store_type'] == 'supermarket']\n",
    "            if 'supermarket' in dataframes.values:\n",
    "                typedf['supermarket'] = typedf['supermarket'].drop_duplicates()\n",
    "                return typedf['supermarket'].sample(n=counts, replace=False)\n",
    "\n",
    "\n",
    "# automatically take the item count from df4 (model step 4) by specifying the index number\n",
    "def supermarkets(dataframes, index):\n",
    "    storesup = dataframes[dataframes['store_type'] == 'supermarket']\n",
    "    storesup = storesup[['store_type', 'counts', 'I']]\n",
    "    storesup = storesup.to_numpy()\n",
    "    storetypes = {}\n",
    "    supermarkets = pd.DataFrame(columns = ['item_type', 'item_name', 'amount', 'category'])\n",
    "    for storetype, counts, i  in storesup:\n",
    "        if storetype == 'supermarket':\n",
    "            storetypes[i] = pd.DataFrame(supermarket(dataframes, counts))\n",
    "    return storetypes[index]\n"
   ]
  },
  {
   "cell_type": "code",
   "execution_count": 40,
   "id": "10be358f-b050-4069-91e4-c6b2c7ddf85d",
   "metadata": {},
   "outputs": [],
   "source": [
    "# Generate grocery lists for bakeries, indicate the amount of items on the list (manually)\n",
    "def bakery(dataframes, counts):\n",
    "        ## Create dataframes for each day they go shopping\n",
    "    typedf = {}\n",
    "    for storetype in dataframes['store_type']:\n",
    "            storeday = df[df['store_type'] == storetype]\n",
    "            items = storeday[['item_type', 'item_name', 'store_type','store_name', 'amount', 'category', 'weights_itemtype']]\n",
    "            typedf[storetype] = pd.DataFrame(items)\n",
    "            typedf[storetype].drop_duplicates() \n",
    "        ## sample dataframes per store type\n",
    "    if 'bakery' in dataframes.values:\n",
    "            grocerylist = dataframes[dataframes['store_type'] == 'bakery']\n",
    "            if 'bakery' in dataframes.values:\n",
    "                typedf['bakery'] = typedf['bakery'].drop_duplicates()\n",
    "                return typedf['bakery'].sample(n=counts, replace=False)\n",
    "\n",
    "\n",
    "# automatically take the item count from df4 (model step 4) by specifying the index number\n",
    "def bakeries(dataframes, index):\n",
    "    storesup = dataframes[dataframes['store_type'] == 'bakery']\n",
    "    storesup = storesup[['store_type', 'counts', 'I']]\n",
    "    storesup = storesup.to_numpy()\n",
    "    storetypes = {}\n",
    "    supermarkets = pd.DataFrame(columns = ['item_type', 'item_name', 'amount', 'category'])\n",
    "    for storetype, counts, i  in storesup:\n",
    "        if storetype == 'bakery':\n",
    "            storetypes[i] = pd.DataFrame(bakery(dataframes, counts))\n",
    "    return storetypes[index]"
   ]
  },
  {
   "cell_type": "code",
   "execution_count": 41,
   "id": "209ae084-53b4-40ab-b818-2f46b6eafff6",
   "metadata": {},
   "outputs": [],
   "source": [
    "# Generate grocery lists for bakeries, indicate the amount of items on the list (manually)\n",
    "def butcher(dataframes, counts):\n",
    "        ## Create dataframes for each day they go shopping\n",
    "    typedf = {}\n",
    "    for storetype in dataframes['store_type']:\n",
    "            storeday = df[df['store_type'] == storetype]\n",
    "            items = storeday[['item_type', 'item_name', 'store_type','store_name', 'amount', 'category', 'weights_itemtype']]\n",
    "            typedf[storetype] = pd.DataFrame(items)\n",
    "            typedf[storetype].drop_duplicates() \n",
    "        ## sample dataframes per store type\n",
    "    if 'butcher' in dataframes.values:\n",
    "            grocerylist = dataframes[dataframes['store_type'] == 'butcher']\n",
    "            if 'butcher' in dataframes.values:\n",
    "                typedf['butcher'] = typedf['butcher'].drop_duplicates()\n",
    "                return typedf['butcher'].sample(n=counts, replace=False)\n",
    "\n",
    "\n",
    "# automatically take the item count from df4 (model step 4) by specifying the index number\n",
    "def butchers(dataframes, index):\n",
    "    storesup = dataframes[dataframes['store_type'] == 'butcher']\n",
    "    storesup = storesup[['store_type', 'counts', 'I']]\n",
    "    storesup = storesup.to_numpy()\n",
    "    storetypes = {}\n",
    "    supermarkets = pd.DataFrame(columns = ['item_type', 'item_name', 'amount', 'category'])\n",
    "    for storetype, counts, i  in storesup:\n",
    "        if storetype == 'butcher':\n",
    "            storetypes[i] = pd.DataFrame(butcher(dataframes, counts))\n",
    "    return storetypes[index]"
   ]
  },
  {
   "cell_type": "markdown",
   "id": "10c18e0d-f341-48b5-b6b6-38eb48e1dc97",
   "metadata": {
    "jp-MarkdownHeadingCollapsed": true
   },
   "source": [
    "### 4.5.3. Set limits for min/max items per store "
   ]
  },
  {
   "cell_type": "code",
   "execution_count": 42,
   "id": "41734620-022d-4900-893f-28c3adc55336",
   "metadata": {},
   "outputs": [
    {
     "data": {
      "text/plain": [
       "(0.0, 1.0)"
      ]
     },
     "execution_count": 42,
     "metadata": {},
     "output_type": "execute_result"
    }
   ],
   "source": [
    "def CountTypePerStore(itemtype, storetype):\n",
    "    df_type = df[df['store_type'] == storetype]\n",
    "    count = int(df['order_ID'].nunique())\n",
    "    data = {'order_ID': range(count)}\n",
    "    orderID = pd.DataFrame(data)\n",
    "    df_type = df_type[df_type['item_type'] == itemtype]\n",
    "    df_type = df_type.groupby(['order_ID'])['amount'].count()\n",
    "    df_type = pd.DataFrame (df_type)\n",
    "    df_type = df_type.reset_index() \n",
    "    df_type = orderID.merge(df_type, how='left').fillna(0)\n",
    "    min = df_type.min(axis=0)['amount']\n",
    "    max = df_type.max(axis=0)['amount']\n",
    "    return (min, max)\n",
    "\n",
    "CountTypePerStore('lunch salad', 'supermarket')"
   ]
  },
  {
   "cell_type": "code",
   "execution_count": 43,
   "id": "b0973e2f-e852-47d2-95bf-61e7891c3731",
   "metadata": {},
   "outputs": [
    {
     "data": {
      "text/plain": [
       "1.0"
      ]
     },
     "execution_count": 43,
     "metadata": {},
     "output_type": "execute_result"
    }
   ],
   "source": [
    "CountTotalPeritemSTORE = CountTypePerStore('lunch salad', 'supermarket')\n",
    "minitemperdaySTORE = CountTotalPeritemSTORE[0]\n",
    "maxitemeperdaySTORE = CountTotalPeritemSTORE[1]\n",
    "maxitemeperdaySTORE"
   ]
  },
  {
   "cell_type": "code",
   "execution_count": 44,
   "id": "cb7b9167-5891-4b65-8f5d-7bd31cd63f33",
   "metadata": {},
   "outputs": [],
   "source": [
    "# count items per category for entire period\n",
    "def PerCatCountALL(category):\n",
    "    data = {'week': [1,2,3,4,5,6,7,8]}\n",
    "    weeks = pd.DataFrame(data)\n",
    "    df_cat = df[df['category'] == category]\n",
    "    df_cat = df_cat.groupby(['week'])['amount'].count()\n",
    "    df_cat = pd.DataFrame (df_cat)\n",
    "    df_cat = df_cat.reset_index() \n",
    "    df_cat = weeks.merge(df_cat, how='left').fillna(0)\n",
    "    min = df_cat.min(axis=0)['amount']\n",
    "    max = df_cat.max(axis=0)['amount']\n",
    "    return (min, max)"
   ]
  },
  {
   "cell_type": "code",
   "execution_count": 45,
   "id": "5ffc8b98-d49b-4571-89cd-123fada0d2ef",
   "metadata": {},
   "outputs": [
    {
     "data": {
      "text/html": [
       "<div>\n",
       "<style scoped>\n",
       "    .dataframe tbody tr th:only-of-type {\n",
       "        vertical-align: middle;\n",
       "    }\n",
       "\n",
       "    .dataframe tbody tr th {\n",
       "        vertical-align: top;\n",
       "    }\n",
       "\n",
       "    .dataframe thead th {\n",
       "        text-align: right;\n",
       "    }\n",
       "</style>\n",
       "<table border=\"1\" class=\"dataframe\">\n",
       "  <thead>\n",
       "    <tr style=\"text-align: right;\">\n",
       "      <th></th>\n",
       "      <th>week</th>\n",
       "      <th>order_amount</th>\n",
       "    </tr>\n",
       "  </thead>\n",
       "  <tbody>\n",
       "    <tr>\n",
       "      <th>0</th>\n",
       "      <td>1</td>\n",
       "      <td>66</td>\n",
       "    </tr>\n",
       "    <tr>\n",
       "      <th>1</th>\n",
       "      <td>2</td>\n",
       "      <td>61</td>\n",
       "    </tr>\n",
       "    <tr>\n",
       "      <th>2</th>\n",
       "      <td>3</td>\n",
       "      <td>82</td>\n",
       "    </tr>\n",
       "    <tr>\n",
       "      <th>3</th>\n",
       "      <td>4</td>\n",
       "      <td>45</td>\n",
       "    </tr>\n",
       "    <tr>\n",
       "      <th>4</th>\n",
       "      <td>5</td>\n",
       "      <td>118</td>\n",
       "    </tr>\n",
       "    <tr>\n",
       "      <th>5</th>\n",
       "      <td>6</td>\n",
       "      <td>47</td>\n",
       "    </tr>\n",
       "    <tr>\n",
       "      <th>6</th>\n",
       "      <td>7</td>\n",
       "      <td>14</td>\n",
       "    </tr>\n",
       "    <tr>\n",
       "      <th>7</th>\n",
       "      <td>8</td>\n",
       "      <td>34</td>\n",
       "    </tr>\n",
       "  </tbody>\n",
       "</table>\n",
       "</div>"
      ],
      "text/plain": [
       "  week  order_amount\n",
       "0    1            66\n",
       "1    2            61\n",
       "2    3            82\n",
       "3    4            45\n",
       "4    5           118\n",
       "5    6            47\n",
       "6    7            14\n",
       "7    8            34"
      ]
     },
     "execution_count": 45,
     "metadata": {},
     "output_type": "execute_result"
    }
   ],
   "source": [
    "df_amount = df_orders.groupby(['week'], observed=False)['order_amount'].sum()\n",
    "df_amount = pd.DataFrame (df_amount)\n",
    "df_amount = df_amount.reset_index()\n",
    "\n",
    "df_amount"
   ]
  },
  {
   "cell_type": "code",
   "execution_count": 46,
   "id": "e6342557-9e4a-435a-b6c6-0afd7b98f1e8",
   "metadata": {},
   "outputs": [
    {
     "data": {
      "text/plain": [
       "(14, 118)"
      ]
     },
     "execution_count": 46,
     "metadata": {},
     "output_type": "execute_result"
    }
   ],
   "source": [
    "# count items per week\n",
    "def WeekAmount():\n",
    "    df_amount = df_orders.groupby(['week'], observed=False)['order_amount'].sum()\n",
    "    df_amount = pd.DataFrame (df_amount)\n",
    "    df_amount = df_amount.reset_index()\n",
    "\n",
    "    min = df_amount['order_amount'].min(axis=0)\n",
    "    max = df_amount['order_amount'].max(axis=0)\n",
    "    return (min,max)\n",
    "\n",
    "WeekAmount()"
   ]
  },
  {
   "cell_type": "markdown",
   "id": "899c0f50-8150-4656-aa32-de28995183d4",
   "metadata": {
    "editable": true,
    "slideshow": {
     "slide_type": ""
    },
    "tags": []
   },
   "source": [
    "### 4.5.4. Generate grocery list per grocery visit (with limits per store - loop until within the limits)"
   ]
  },
  {
   "cell_type": "code",
   "execution_count": 47,
   "id": "2a98b066-ac26-4913-b89f-3ba7e25daa09",
   "metadata": {},
   "outputs": [
    {
     "data": {
      "text/html": [
       "<div>\n",
       "<style scoped>\n",
       "    .dataframe tbody tr th:only-of-type {\n",
       "        vertical-align: middle;\n",
       "    }\n",
       "\n",
       "    .dataframe tbody tr th {\n",
       "        vertical-align: top;\n",
       "    }\n",
       "\n",
       "    .dataframe thead th {\n",
       "        text-align: right;\n",
       "    }\n",
       "</style>\n",
       "<table border=\"1\" class=\"dataframe\">\n",
       "  <thead>\n",
       "    <tr style=\"text-align: right;\">\n",
       "      <th></th>\n",
       "      <th>store_name</th>\n",
       "      <th>store_type</th>\n",
       "      <th>day</th>\n",
       "      <th>dow</th>\n",
       "      <th>time</th>\n",
       "      <th>counts</th>\n",
       "      <th>I</th>\n",
       "    </tr>\n",
       "  </thead>\n",
       "  <tbody>\n",
       "    <tr>\n",
       "      <th>0</th>\n",
       "      <td>Albert Heijn</td>\n",
       "      <td>supermarket</td>\n",
       "      <td>week</td>\n",
       "      <td>Tuesday</td>\n",
       "      <td>noon</td>\n",
       "      <td>10</td>\n",
       "      <td>0</td>\n",
       "    </tr>\n",
       "    <tr>\n",
       "      <th>0</th>\n",
       "      <td>Albert Heijn</td>\n",
       "      <td>supermarket</td>\n",
       "      <td>week</td>\n",
       "      <td>Tuesday</td>\n",
       "      <td>noon</td>\n",
       "      <td>5</td>\n",
       "      <td>1</td>\n",
       "    </tr>\n",
       "    <tr>\n",
       "      <th>0</th>\n",
       "      <td>Albert Heijn</td>\n",
       "      <td>supermarket</td>\n",
       "      <td>week</td>\n",
       "      <td>Wednesday</td>\n",
       "      <td>morning</td>\n",
       "      <td>10</td>\n",
       "      <td>2</td>\n",
       "    </tr>\n",
       "    <tr>\n",
       "      <th>3</th>\n",
       "      <td>baker</td>\n",
       "      <td>bakery</td>\n",
       "      <td>week</td>\n",
       "      <td>Friday</td>\n",
       "      <td>afternoon</td>\n",
       "      <td>2</td>\n",
       "      <td>3</td>\n",
       "    </tr>\n",
       "  </tbody>\n",
       "</table>\n",
       "</div>"
      ],
      "text/plain": [
       "     store_name   store_type   day        dow       time  counts  I\n",
       "0  Albert Heijn  supermarket  week    Tuesday       noon      10  0\n",
       "0  Albert Heijn  supermarket  week    Tuesday       noon       5  1\n",
       "0  Albert Heijn  supermarket  week  Wednesday    morning      10  2\n",
       "3         baker       bakery  week     Friday  afternoon       2  3"
      ]
     },
     "execution_count": 47,
     "metadata": {},
     "output_type": "execute_result"
    }
   ],
   "source": [
    "df4"
   ]
  },
  {
   "cell_type": "code",
   "execution_count": 48,
   "id": "5ea85809-6d94-49bd-9fb7-25a4fe5e5025",
   "metadata": {
    "scrolled": true
   },
   "outputs": [
    {
     "ename": "KeyError",
     "evalue": "2",
     "output_type": "error",
     "traceback": [
      "\u001b[0;31m---------------------------------------------------------------------------\u001b[0m",
      "\u001b[0;31mKeyError\u001b[0m                                  Traceback (most recent call last)",
      "Cell \u001b[0;32mIn[48], line 8\u001b[0m\n\u001b[1;32m      6\u001b[0m super2 \u001b[38;5;241m=\u001b[39m supermarkets(df4,\u001b[38;5;241m1\u001b[39m)\n\u001b[1;32m      7\u001b[0m \u001b[38;5;66;03m# super3 = supermarkets(df4, 2)\u001b[39;00m\n\u001b[0;32m----> 8\u001b[0m bakery1 \u001b[38;5;241m=\u001b[39m \u001b[43mbakeries\u001b[49m\u001b[43m(\u001b[49m\u001b[43mdf4\u001b[49m\u001b[43m,\u001b[49m\u001b[43m \u001b[49m\u001b[38;5;241;43m2\u001b[39;49m\u001b[43m)\u001b[49m\n\u001b[1;32m      9\u001b[0m bakery2 \u001b[38;5;241m=\u001b[39m bakeries(df4, \u001b[38;5;241m3\u001b[39m)\n\u001b[1;32m     12\u001b[0m \u001b[38;5;66;03m# get lists per store type\u001b[39;00m\n",
      "Cell \u001b[0;32mIn[40], line 28\u001b[0m, in \u001b[0;36mbakeries\u001b[0;34m(dataframes, index)\u001b[0m\n\u001b[1;32m     26\u001b[0m     \u001b[38;5;28;01mif\u001b[39;00m storetype \u001b[38;5;241m==\u001b[39m \u001b[38;5;124m'\u001b[39m\u001b[38;5;124mbakery\u001b[39m\u001b[38;5;124m'\u001b[39m:\n\u001b[1;32m     27\u001b[0m         storetypes[i] \u001b[38;5;241m=\u001b[39m pd\u001b[38;5;241m.\u001b[39mDataFrame(bakery(dataframes, counts))\n\u001b[0;32m---> 28\u001b[0m \u001b[38;5;28;01mreturn\u001b[39;00m \u001b[43mstoretypes\u001b[49m\u001b[43m[\u001b[49m\u001b[43mindex\u001b[49m\u001b[43m]\u001b[49m\n",
      "\u001b[0;31mKeyError\u001b[0m: 2"
     ]
    }
   ],
   "source": [
    "restart = True \n",
    "while restart:\n",
    "    # GET A LIST PER STORE VISITED IN THIS WEEK [ADJUST ACCORDING TO WEEKPLANNING]\n",
    "    # butcher1 = butchers(df4, 3)\n",
    "    super1 = supermarkets(df4, 0)\n",
    "    super2 = supermarkets(df4,1)\n",
    "    # super3 = supermarkets(df4, 2)\n",
    "    bakery1 = bakeries(df4, 2)\n",
    "    bakery2 = bakeries(df4, 3)\n",
    "\n",
    "    \n",
    "    # get lists per store type\n",
    "    supermarketlist = pd.concat([super1])\n",
    "    supermarketlist = pd.concat([super2])\n",
    "    # supermarketlist = pd.concat([super3])\n",
    "    bakerlist = pd.concat([bakery1])\n",
    "    bakerlist = pd.concat([bakery2])\n",
    "    # butcherlist = pd.concat([butcher1])\n",
    "\n",
    "    # append the different lists to the entire week\n",
    "    weeklist = [super1, super2, bakery1, bakery2]\n",
    "    week = pd.concat(weeklist)\n",
    "\n",
    "    #########\n",
    "    # Check if the categories per WEEK counts are ok:\n",
    "    for category in df['category']:\n",
    "            percatcount = week[week['category']==category]['category'].count()\n",
    "            CountTotalPerCat = PerCatCountALL(category)\n",
    "            mincatperday = CountTotalPerCat[0]\n",
    "            maxcatperday = CountTotalPerCat[1]\n",
    "            if mincatperday <= percatcount <= maxcatperday:\n",
    "                pass\n",
    "            else:\n",
    "                print(f\"{bcolors.WARNING}{bcolors.BOLD} RERUN -  week - Too many/few of category:\", category, \"| minimum:\", mincatperday, \"| maximum:\", maxcatperday, \"| generated:\", percatcount)\n",
    "                restart = True\n",
    "                break       \n",
    "                \n",
    "    for items in df['item_type']:\n",
    "            week9Amount = week['amount'].sum()\n",
    "            NormWeekAmount = WeekAmount()\n",
    "            minWeekAmount = NormWeekAmount[0]\n",
    "            maxWeekAmount = NormWeekAmount[1]\n",
    "            if minWeekAmount <= week9Amount <= maxWeekAmount:\n",
    "                pass\n",
    "            else:\n",
    "                print(f\"{bcolors.WARNING}{bcolors.BOLD} RERUN - AMOUNT/WEEK - to many:\", week9Amount, \"| minimum:\", minWeekAmount, \"| maximum:\", maxWeekAmount, \"| generated:\", week9Amount)\n",
    "                restart = True\n",
    "                break  \n",
    "               \n",
    "    # Check if the itemtype counts PER STORE TYPE are ok:\n",
    "    for itemtype in df['item_type']:\n",
    "            peritemcountSTORE = supermarketlist[supermarketlist['item_type']==itemtype]['item_type'].count()\n",
    "            CountTotalPeritemSTORE = CountTypePerStore(itemtype, 'supermarket')\n",
    "            minitemperdaySTORE = CountTotalPeritemSTORE[0]\n",
    "            maxitemeperdaySTORE = CountTotalPeritemSTORE[1]\n",
    "            if minitemperdaySTORE <= peritemcountSTORE <= maxitemeperdaySTORE:\n",
    "                # print('gud')\n",
    "                restart = False\n",
    "                continue\n",
    "            else:\n",
    "                print(f\"{bcolors.WARNING}{bcolors.BOLD} RERUN -  week - Too many/few of item:\", itemtype, \"| minimum:\", minitemperdaySTORE, \"| maximum:\", maxitemeperdaySTORE, \"| generated:\", peritemcountSTORE)\n",
    "                restart = True\n",
    "                break\n",
    "            "
   ]
  },
  {
   "cell_type": "code",
   "execution_count": 1562,
   "id": "839f1f3c-9002-4e89-acac-71d1ac719097",
   "metadata": {
    "scrolled": true
   },
   "outputs": [
    {
     "data": {
      "text/html": [
       "<div>\n",
       "<style scoped>\n",
       "    .dataframe tbody tr th:only-of-type {\n",
       "        vertical-align: middle;\n",
       "    }\n",
       "\n",
       "    .dataframe tbody tr th {\n",
       "        vertical-align: top;\n",
       "    }\n",
       "\n",
       "    .dataframe thead th {\n",
       "        text-align: right;\n",
       "    }\n",
       "</style>\n",
       "<table border=\"1\" class=\"dataframe\">\n",
       "  <thead>\n",
       "    <tr style=\"text-align: right;\">\n",
       "      <th></th>\n",
       "      <th>item_type</th>\n",
       "      <th>item_name</th>\n",
       "      <th>store_type</th>\n",
       "      <th>store_name</th>\n",
       "      <th>amount</th>\n",
       "      <th>category</th>\n",
       "      <th>weights_itemtype</th>\n",
       "    </tr>\n",
       "  </thead>\n",
       "  <tbody>\n",
       "    <tr>\n",
       "      <th>178</th>\n",
       "      <td>bread</td>\n",
       "      <td>ZWARTE WOUD BROOD</td>\n",
       "      <td>bakery</td>\n",
       "      <td>baker</td>\n",
       "      <td>1</td>\n",
       "      <td>bakery</td>\n",
       "      <td>16</td>\n",
       "    </tr>\n",
       "    <tr>\n",
       "      <th>181</th>\n",
       "      <td>pastry</td>\n",
       "      <td>BOOTJE</td>\n",
       "      <td>bakery</td>\n",
       "      <td>baker</td>\n",
       "      <td>1</td>\n",
       "      <td>bakery</td>\n",
       "      <td>2</td>\n",
       "    </tr>\n",
       "    <tr>\n",
       "      <th>7</th>\n",
       "      <td>sandwich</td>\n",
       "      <td>SANDWICH</td>\n",
       "      <td>bakery</td>\n",
       "      <td>baker</td>\n",
       "      <td>4</td>\n",
       "      <td>bakery</td>\n",
       "      <td>7</td>\n",
       "    </tr>\n",
       "    <tr>\n",
       "      <th>281</th>\n",
       "      <td>danish</td>\n",
       "      <td>BOOTJE</td>\n",
       "      <td>bakery</td>\n",
       "      <td>baker</td>\n",
       "      <td>2</td>\n",
       "      <td>bakery</td>\n",
       "      <td>9</td>\n",
       "    </tr>\n",
       "    <tr>\n",
       "      <th>189</th>\n",
       "      <td>bread</td>\n",
       "      <td>BROOD grof gesneden</td>\n",
       "      <td>bakery</td>\n",
       "      <td>baker</td>\n",
       "      <td>1</td>\n",
       "      <td>bakery</td>\n",
       "      <td>16</td>\n",
       "    </tr>\n",
       "  </tbody>\n",
       "</table>\n",
       "</div>"
      ],
      "text/plain": [
       "    item_type            item_name store_type store_name  amount category  \\\n",
       "178     bread    ZWARTE WOUD BROOD     bakery      baker       1   bakery   \n",
       "181    pastry               BOOTJE     bakery      baker       1   bakery   \n",
       "7    sandwich             SANDWICH     bakery      baker       4   bakery   \n",
       "281    danish               BOOTJE     bakery      baker       2   bakery   \n",
       "189     bread  BROOD grof gesneden     bakery      baker       1   bakery   \n",
       "\n",
       "     weights_itemtype  \n",
       "178                16  \n",
       "181                 2  \n",
       "7                   7  \n",
       "281                 9  \n",
       "189                16  "
      ]
     },
     "execution_count": 1562,
     "metadata": {},
     "output_type": "execute_result"
    }
   ],
   "source": [
    "#check grocery list for the entire week\n",
    "week.sort_values(by=['category']).head()"
   ]
  },
  {
   "cell_type": "code",
   "execution_count": 1565,
   "id": "f3d2b0c4-f680-4d91-925c-9e169ffedcf0",
   "metadata": {},
   "outputs": [
    {
     "data": {
      "text/html": [
       "<div>\n",
       "<style scoped>\n",
       "    .dataframe tbody tr th:only-of-type {\n",
       "        vertical-align: middle;\n",
       "    }\n",
       "\n",
       "    .dataframe tbody tr th {\n",
       "        vertical-align: top;\n",
       "    }\n",
       "\n",
       "    .dataframe thead th {\n",
       "        text-align: right;\n",
       "    }\n",
       "</style>\n",
       "<table border=\"1\" class=\"dataframe\">\n",
       "  <thead>\n",
       "    <tr style=\"text-align: right;\">\n",
       "      <th></th>\n",
       "      <th>item_type</th>\n",
       "      <th>item_name</th>\n",
       "      <th>store_type</th>\n",
       "      <th>store_name</th>\n",
       "      <th>amount</th>\n",
       "      <th>category</th>\n",
       "      <th>weights_itemtype</th>\n",
       "    </tr>\n",
       "  </thead>\n",
       "  <tbody>\n",
       "    <tr>\n",
       "      <th>318</th>\n",
       "      <td>ice tea</td>\n",
       "      <td>BONI Iced Tea Peach niet-bruisend 0,5L</td>\n",
       "      <td>supermarket</td>\n",
       "      <td>Okay</td>\n",
       "      <td>6</td>\n",
       "      <td>beverages</td>\n",
       "      <td>4</td>\n",
       "    </tr>\n",
       "    <tr>\n",
       "      <th>326</th>\n",
       "      <td>beer</td>\n",
       "      <td>ST BERNARDUS</td>\n",
       "      <td>supermarket</td>\n",
       "      <td>Albert Heijn</td>\n",
       "      <td>1</td>\n",
       "      <td>beverages</td>\n",
       "      <td>4</td>\n",
       "    </tr>\n",
       "    <tr>\n",
       "      <th>259</th>\n",
       "      <td>soup</td>\n",
       "      <td>BONI tomatensoep met balletjes 950ml</td>\n",
       "      <td>supermarket</td>\n",
       "      <td>Okay</td>\n",
       "      <td>1</td>\n",
       "      <td>beverages</td>\n",
       "      <td>6</td>\n",
       "    </tr>\n",
       "    <tr>\n",
       "      <th>45</th>\n",
       "      <td>tea</td>\n",
       "      <td>20 CLI RAS7MIN BIO</td>\n",
       "      <td>supermarket</td>\n",
       "      <td>Delhaize</td>\n",
       "      <td>1</td>\n",
       "      <td>beverages</td>\n",
       "      <td>4</td>\n",
       "    </tr>\n",
       "    <tr>\n",
       "      <th>264</th>\n",
       "      <td>tomato paste</td>\n",
       "      <td>BONI tomatenpuree dubbel geconcentr. 70g</td>\n",
       "      <td>supermarket</td>\n",
       "      <td>Okay</td>\n",
       "      <td>2</td>\n",
       "      <td>canned foods</td>\n",
       "      <td>2</td>\n",
       "    </tr>\n",
       "    <tr>\n",
       "      <th>309</th>\n",
       "      <td>sauce</td>\n",
       "      <td>GO TAN WOKSAUS ZOET ZUUR</td>\n",
       "      <td>supermarket</td>\n",
       "      <td>Delhaize</td>\n",
       "      <td>1</td>\n",
       "      <td>condiments</td>\n",
       "      <td>1</td>\n",
       "    </tr>\n",
       "    <tr>\n",
       "      <th>98</th>\n",
       "      <td>cheese</td>\n",
       "      <td>PORT SALUT 135g</td>\n",
       "      <td>supermarket</td>\n",
       "      <td>Okay</td>\n",
       "      <td>1</td>\n",
       "      <td>dairy &amp; plant based</td>\n",
       "      <td>20</td>\n",
       "    </tr>\n",
       "    <tr>\n",
       "      <th>221</th>\n",
       "      <td>milk</td>\n",
       "      <td>BONI halfvolle melk PET 50cl</td>\n",
       "      <td>supermarket</td>\n",
       "      <td>Okay</td>\n",
       "      <td>6</td>\n",
       "      <td>dairy &amp; plant based</td>\n",
       "      <td>1</td>\n",
       "    </tr>\n",
       "    <tr>\n",
       "      <th>155</th>\n",
       "      <td>cheese</td>\n",
       "      <td>GOUDAJONG SN 300</td>\n",
       "      <td>supermarket</td>\n",
       "      <td>Carrefour</td>\n",
       "      <td>1</td>\n",
       "      <td>dairy &amp; plant based</td>\n",
       "      <td>20</td>\n",
       "    </tr>\n",
       "    <tr>\n",
       "      <th>163</th>\n",
       "      <td>eggs</td>\n",
       "      <td>SIMPL SCHAR EI X12</td>\n",
       "      <td>supermarket</td>\n",
       "      <td>Carrefour</td>\n",
       "      <td>1</td>\n",
       "      <td>dairy &amp; plant based</td>\n",
       "      <td>5</td>\n",
       "    </tr>\n",
       "    <tr>\n",
       "      <th>135</th>\n",
       "      <td>croquettes</td>\n",
       "      <td>750G MCC DUCHESSE</td>\n",
       "      <td>supermarket</td>\n",
       "      <td>Delhaize</td>\n",
       "      <td>2</td>\n",
       "      <td>frozen foods</td>\n",
       "      <td>1</td>\n",
       "    </tr>\n",
       "    <tr>\n",
       "      <th>48</th>\n",
       "      <td>tomatoes</td>\n",
       "      <td>EMMER TOMAAT 500G</td>\n",
       "      <td>supermarket</td>\n",
       "      <td>Delhaize</td>\n",
       "      <td>1</td>\n",
       "      <td>fruit &amp; vegetables</td>\n",
       "      <td>5</td>\n",
       "    </tr>\n",
       "    <tr>\n",
       "      <th>23</th>\n",
       "      <td>cucumber</td>\n",
       "      <td>KOMKOMMER</td>\n",
       "      <td>supermarket</td>\n",
       "      <td>Delhaize</td>\n",
       "      <td>1</td>\n",
       "      <td>fruit &amp; vegetables</td>\n",
       "      <td>2</td>\n",
       "    </tr>\n",
       "    <tr>\n",
       "      <th>170</th>\n",
       "      <td>salad</td>\n",
       "      <td>IJSBERGSLA</td>\n",
       "      <td>supermarket</td>\n",
       "      <td>Carrefour</td>\n",
       "      <td>1</td>\n",
       "      <td>fruit &amp; vegetables</td>\n",
       "      <td>5</td>\n",
       "    </tr>\n",
       "    <tr>\n",
       "      <th>168</th>\n",
       "      <td>parsnip</td>\n",
       "      <td>PASTINAAK 350G</td>\n",
       "      <td>supermarket</td>\n",
       "      <td>Carrefour</td>\n",
       "      <td>1</td>\n",
       "      <td>fruit &amp; vegetables</td>\n",
       "      <td>2</td>\n",
       "    </tr>\n",
       "    <tr>\n",
       "      <th>20</th>\n",
       "      <td>clementines</td>\n",
       "      <td>CLEMENTIJNEN BLAD</td>\n",
       "      <td>supermarket</td>\n",
       "      <td>Delhaize</td>\n",
       "      <td>1</td>\n",
       "      <td>fruit &amp; vegetables</td>\n",
       "      <td>1</td>\n",
       "    </tr>\n",
       "    <tr>\n",
       "      <th>37</th>\n",
       "      <td>pumpkin</td>\n",
       "      <td>BIO BUTTERNUT</td>\n",
       "      <td>supermarket</td>\n",
       "      <td>Delhaize</td>\n",
       "      <td>1</td>\n",
       "      <td>fruit &amp; vegetables</td>\n",
       "      <td>1</td>\n",
       "    </tr>\n",
       "    <tr>\n",
       "      <th>43</th>\n",
       "      <td>sweet potatoes</td>\n",
       "      <td>BIO ZOETE AARD</td>\n",
       "      <td>supermarket</td>\n",
       "      <td>Delhaize</td>\n",
       "      <td>1</td>\n",
       "      <td>fruit &amp; vegetables</td>\n",
       "      <td>5</td>\n",
       "    </tr>\n",
       "    <tr>\n",
       "      <th>28</th>\n",
       "      <td>meat spread</td>\n",
       "      <td>Prepare</td>\n",
       "      <td>supermarket</td>\n",
       "      <td>Delhaize</td>\n",
       "      <td>1</td>\n",
       "      <td>meat, fish &amp; veggie</td>\n",
       "      <td>16</td>\n",
       "    </tr>\n",
       "  </tbody>\n",
       "</table>\n",
       "</div>"
      ],
      "text/plain": [
       "          item_type                                 item_name   store_type  \\\n",
       "318         ice tea    BONI Iced Tea Peach niet-bruisend 0,5L  supermarket   \n",
       "326            beer                              ST BERNARDUS  supermarket   \n",
       "259            soup      BONI tomatensoep met balletjes 950ml  supermarket   \n",
       "45              tea                        20 CLI RAS7MIN BIO  supermarket   \n",
       "264    tomato paste  BONI tomatenpuree dubbel geconcentr. 70g  supermarket   \n",
       "309           sauce                  GO TAN WOKSAUS ZOET ZUUR  supermarket   \n",
       "98           cheese                           PORT SALUT 135g  supermarket   \n",
       "221            milk              BONI halfvolle melk PET 50cl  supermarket   \n",
       "155          cheese                          GOUDAJONG SN 300  supermarket   \n",
       "163            eggs                        SIMPL SCHAR EI X12  supermarket   \n",
       "135      croquettes                         750G MCC DUCHESSE  supermarket   \n",
       "48         tomatoes                         EMMER TOMAAT 500G  supermarket   \n",
       "23         cucumber                                 KOMKOMMER  supermarket   \n",
       "170           salad                                IJSBERGSLA  supermarket   \n",
       "168         parsnip                            PASTINAAK 350G  supermarket   \n",
       "20      clementines                         CLEMENTIJNEN BLAD  supermarket   \n",
       "37          pumpkin                             BIO BUTTERNUT  supermarket   \n",
       "43   sweet potatoes                            BIO ZOETE AARD  supermarket   \n",
       "28      meat spread                                   Prepare  supermarket   \n",
       "\n",
       "       store_name  amount             category  weights_itemtype  \n",
       "318          Okay       6            beverages                 4  \n",
       "326  Albert Heijn       1            beverages                 4  \n",
       "259          Okay       1            beverages                 6  \n",
       "45       Delhaize       1            beverages                 4  \n",
       "264          Okay       2         canned foods                 2  \n",
       "309      Delhaize       1           condiments                 1  \n",
       "98           Okay       1  dairy & plant based                20  \n",
       "221          Okay       6  dairy & plant based                 1  \n",
       "155     Carrefour       1  dairy & plant based                20  \n",
       "163     Carrefour       1  dairy & plant based                 5  \n",
       "135      Delhaize       2         frozen foods                 1  \n",
       "48       Delhaize       1   fruit & vegetables                 5  \n",
       "23       Delhaize       1   fruit & vegetables                 2  \n",
       "170     Carrefour       1   fruit & vegetables                 5  \n",
       "168     Carrefour       1   fruit & vegetables                 2  \n",
       "20       Delhaize       1   fruit & vegetables                 1  \n",
       "37       Delhaize       1   fruit & vegetables                 1  \n",
       "43       Delhaize       1   fruit & vegetables                 5  \n",
       "28       Delhaize       1  meat, fish & veggie                16  "
      ]
     },
     "execution_count": 1565,
     "metadata": {},
     "output_type": "execute_result"
    }
   ],
   "source": [
    "# Check individual lists (if supermarket super[i], if bakery bakery[i]; if butcher butcher[i])\n",
    "super2.sort_values(by=['category'])"
   ]
  }
 ],
 "metadata": {
  "kernelspec": {
   "display_name": "Python 3 (ipykernel)",
   "language": "python",
   "name": "python3"
  },
  "language_info": {
   "codemirror_mode": {
    "name": "ipython",
    "version": 3
   },
   "file_extension": ".py",
   "mimetype": "text/x-python",
   "name": "python",
   "nbconvert_exporter": "python",
   "pygments_lexer": "ipython3",
   "version": "3.10.13"
  }
 },
 "nbformat": 4,
 "nbformat_minor": 5
}