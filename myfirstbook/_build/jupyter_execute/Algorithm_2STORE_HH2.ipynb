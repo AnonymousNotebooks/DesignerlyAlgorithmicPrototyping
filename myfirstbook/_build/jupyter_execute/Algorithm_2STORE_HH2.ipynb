{
 "cells": [
  {
   "cell_type": "markdown",
   "id": "2cce2977",
   "metadata": {},
   "source": [
    "## 2: SECOND ALGORITHM - WHERE WILL THEY SHOP?\n",
    "\n",
    "Outcome (example):\n",
    "1. input: Monday,Tuesday...\n",
    "2. output: store name X,Y..."
   ]
  },
  {
   "cell_type": "markdown",
   "id": "f10011bb",
   "metadata": {},
   "source": [
    "### Load and view data "
   ]
  },
  {
   "cell_type": "code",
   "execution_count": 1,
   "id": "d7338672",
   "metadata": {},
   "outputs": [
    {
     "ename": "NameError",
     "evalue": "name 'pd' is not defined",
     "output_type": "error",
     "traceback": [
      "\u001b[0;31m---------------------------------------------------------------------------\u001b[0m",
      "\u001b[0;31mNameError\u001b[0m                                 Traceback (most recent call last)",
      "Cell \u001b[0;32mIn[1], line 2\u001b[0m\n\u001b[1;32m      1\u001b[0m \u001b[38;5;66;03m# data for HH\u001b[39;00m\n\u001b[0;32m----> 2\u001b[0m df \u001b[38;5;241m=\u001b[39m \u001b[43mpd\u001b[49m\u001b[38;5;241m.\u001b[39mread_csv (\u001b[38;5;124mr\u001b[39m\u001b[38;5;124m\"\u001b[39m\u001b[38;5;124mC:\u001b[39m\u001b[38;5;124m\\\u001b[39m\u001b[38;5;124mUsers\u001b[39m\u001b[38;5;124m\\\u001b[39m\u001b[38;5;124m20204113\u001b[39m\u001b[38;5;124m\\\u001b[39m\u001b[38;5;124mOneDrive - TU Eindhoven\u001b[39m\u001b[38;5;124m\\\u001b[39m\u001b[38;5;124m2_Research\u001b[39m\u001b[38;5;124m\\\u001b[39m\u001b[38;5;124m1_Groceries\u001b[39m\u001b[38;5;124m\\\u001b[39m\u001b[38;5;124mDATA\u001b[39m\u001b[38;5;124m\\\u001b[39m\u001b[38;5;124m9th week - narrative (3rd attempt)\u001b[39m\u001b[38;5;124m\\\u001b[39m\u001b[38;5;124mHH2\u001b[39m\u001b[38;5;124m\\\u001b[39m\u001b[38;5;124mdf\u001b[39m\u001b[38;5;124m\\\u001b[39m\u001b[38;5;124mdf_HH2.csv\u001b[39m\u001b[38;5;124m\"\u001b[39m)\n",
      "\u001b[0;31mNameError\u001b[0m: name 'pd' is not defined"
     ]
    }
   ],
   "source": [
    "# data for HH\n",
    "df = pd.read_csv (r\"C:\\Users\\20204113\\OneDrive - TU Eindhoven\\2_Research\\1_Groceries\\DATA\\9th week - narrative (3rd attempt)\\HH2\\df\\df_HH2.csv\")"
   ]
  },
  {
   "cell_type": "code",
   "execution_count": 3,
   "id": "62dfd4de",
   "metadata": {},
   "outputs": [],
   "source": [
    "# data for different days vs stores\n",
    "df_Monday = pd.read_csv (r\"C:\\Users\\20204113\\OneDrive - TU Eindhoven\\2_Research\\1_Groceries\\DATA\\9th week - narrative (3rd attempt)\\HH2\\df\\df_HH2_Mo.csv\")\n",
    "df_Tuesday = pd.read_csv (r\"C:\\Users\\20204113\\OneDrive - TU Eindhoven\\2_Research\\1_Groceries\\DATA\\9th week - narrative (3rd attempt)\\HH2\\df\\df_HH2_Tu.csv\")\n",
    "df_Wednesday = pd.read_csv (r\"C:\\Users\\20204113\\OneDrive - TU Eindhoven\\2_Research\\1_Groceries\\DATA\\9th week - narrative (3rd attempt)\\HH2\\df\\df_HH2_We.csv\")\n",
    "df_Thursday = pd.read_csv (r\"C:\\Users\\20204113\\OneDrive - TU Eindhoven\\2_Research\\1_Groceries\\DATA\\9th week - narrative (3rd attempt)\\HH2\\df\\df_HH2_Th.csv\")\n",
    "df_Friday = pd.read_csv (r\"C:\\Users\\20204113\\OneDrive - TU Eindhoven\\2_Research\\1_Groceries\\DATA\\9th week - narrative (3rd attempt)\\HH2\\df\\df_HH2_Fr.csv\")\n",
    "df_Saturday = pd.read_csv (r\"C:\\Users\\20204113\\OneDrive - TU Eindhoven\\2_Research\\1_Groceries\\DATA\\9th week - narrative (3rd attempt)\\HH2\\df\\df_HH2_Sa.csv\")\n",
    "df_Sunday = pd.read_csv (r\"C:\\Users\\20204113\\OneDrive - TU Eindhoven\\2_Research\\1_Groceries\\DATA\\9th week - narrative (3rd attempt)\\HH2\\df\\df_HH2_Su.csv\")"
   ]
  },
  {
   "cell_type": "code",
   "execution_count": 4,
   "id": "231a8e45",
   "metadata": {},
   "outputs": [],
   "source": [
    "    # Function to generate #visits per day of the week\n",
    "from AlgorithmDAYS_HH2 import beforeNY, AfterNY, daysAfterNY\n",
    "\n",
    "    #Function to define the limits for total visits, days, same store and type per week\n",
    "from AlgorithmCOUNTS_HH2 import CountTotalVisits, CountTotalDays, CountStoreName, CountTimePerDay, CountStoreType, CountTotalPerday, CountVisitsPerDay, CountTimingPerDay\n",
    "\n",
    "    # Function to decide time (morning, noon. afternoon) per visited store\n",
    "from AlgorithmTIMES_HH2 import AlbertHeijn, Okay, Delhaize, Carrefour, VersavelPoelman, Sys, Brabo, Ikea, Kruidvat\n",
    "\n",
    "    # Function to decide amounts per visit & per week\n",
    "from AlgorithmAMOUNT_HH2 import StoreAmount, WeekAmount, StoreCount, WeekCount"
   ]
  },
  {
   "cell_type": "markdown",
   "id": "d7a7ddde",
   "metadata": {},
   "source": [
    "# 1. SELECT STORE NAME"
   ]
  },
  {
   "cell_type": "code",
   "execution_count": 21,
   "id": "ddb5c0b2",
   "metadata": {},
   "outputs": [
    {
     "data": {
      "text/html": [
       "<div>\n",
       "<style scoped>\n",
       "    .dataframe tbody tr th:only-of-type {\n",
       "        vertical-align: middle;\n",
       "    }\n",
       "\n",
       "    .dataframe tbody tr th {\n",
       "        vertical-align: top;\n",
       "    }\n",
       "\n",
       "    .dataframe thead th {\n",
       "        text-align: right;\n",
       "    }\n",
       "</style>\n",
       "<table border=\"1\" class=\"dataframe\">\n",
       "  <thead>\n",
       "    <tr style=\"text-align: right;\">\n",
       "      <th></th>\n",
       "      <th>store_name</th>\n",
       "      <th>store_type</th>\n",
       "      <th>weight</th>\n",
       "    </tr>\n",
       "  </thead>\n",
       "  <tbody>\n",
       "    <tr>\n",
       "      <th>0</th>\n",
       "      <td>Albert Heijn</td>\n",
       "      <td>supermarket</td>\n",
       "      <td>3</td>\n",
       "    </tr>\n",
       "    <tr>\n",
       "      <th>1</th>\n",
       "      <td>Sys</td>\n",
       "      <td>bakery</td>\n",
       "      <td>1</td>\n",
       "    </tr>\n",
       "    <tr>\n",
       "      <th>2</th>\n",
       "      <td>Versavel Poelman</td>\n",
       "      <td>butcher</td>\n",
       "      <td>1</td>\n",
       "    </tr>\n",
       "  </tbody>\n",
       "</table>\n",
       "</div>"
      ],
      "text/plain": [
       "         store_name   store_type  weight\n",
       "0      Albert Heijn  supermarket       3\n",
       "1               Sys       bakery       1\n",
       "2  Versavel Poelman      butcher       1"
      ]
     },
     "execution_count": 21,
     "metadata": {},
     "output_type": "execute_result"
    }
   ],
   "source": [
    "df_Monday"
   ]
  },
  {
   "cell_type": "code",
   "execution_count": 5,
   "id": "508984b1",
   "metadata": {},
   "outputs": [],
   "source": [
    "#create random samples for this day based on the assigned weights\n",
    "def Mondays(n):\n",
    "    df_Mondays = df_Monday.sample(n=n, weights='weight', replace=True)\n",
    "    df_Mondays = df_Mondays.assign(day='Monday')\n",
    "    del df_Mondays['weight']\n",
    "\n",
    "    return df_Mondays"
   ]
  },
  {
   "cell_type": "code",
   "execution_count": 6,
   "id": "ac209776",
   "metadata": {},
   "outputs": [
    {
     "data": {
      "text/html": [
       "<div>\n",
       "<style scoped>\n",
       "    .dataframe tbody tr th:only-of-type {\n",
       "        vertical-align: middle;\n",
       "    }\n",
       "\n",
       "    .dataframe tbody tr th {\n",
       "        vertical-align: top;\n",
       "    }\n",
       "\n",
       "    .dataframe thead th {\n",
       "        text-align: right;\n",
       "    }\n",
       "</style>\n",
       "<table border=\"1\" class=\"dataframe\">\n",
       "  <thead>\n",
       "    <tr style=\"text-align: right;\">\n",
       "      <th></th>\n",
       "      <th>store_name</th>\n",
       "      <th>store_type</th>\n",
       "      <th>day</th>\n",
       "    </tr>\n",
       "  </thead>\n",
       "  <tbody>\n",
       "    <tr>\n",
       "      <th>1</th>\n",
       "      <td>Sys</td>\n",
       "      <td>bakery</td>\n",
       "      <td>Monday</td>\n",
       "    </tr>\n",
       "  </tbody>\n",
       "</table>\n",
       "</div>"
      ],
      "text/plain": [
       "  store_name store_type     day\n",
       "1        Sys     bakery  Monday"
      ]
     },
     "execution_count": 6,
     "metadata": {},
     "output_type": "execute_result"
    }
   ],
   "source": [
    "Mondays(1)"
   ]
  },
  {
   "cell_type": "code",
   "execution_count": 7,
   "id": "e737e514",
   "metadata": {},
   "outputs": [],
   "source": [
    "#create random samples for this day based on the assigned weights\n",
    "def Tuesdays(n):\n",
    "    df_Tuesdays = df_Tuesday.sample(n=n, weights='weight', replace=True)\n",
    "    df_Tuesdays = df_Tuesdays.assign(day='Tuesday')\n",
    "    del df_Tuesdays['weight']\n",
    "\n",
    "    return df_Tuesdays"
   ]
  },
  {
   "cell_type": "code",
   "execution_count": 8,
   "id": "2ca485b8",
   "metadata": {},
   "outputs": [],
   "source": [
    "#create random samples for this day based on the assigned weights\n",
    "def Wednesdays(n):\n",
    "    df_Wednesdays = df_Wednesday.sample(n=n, weights='weight', replace=True)\n",
    "    df_Wednesdays = df_Wednesdays.assign(day='Wednesday')\n",
    "    del df_Wednesdays['weight']\n",
    "\n",
    "    return df_Wednesdays"
   ]
  },
  {
   "cell_type": "code",
   "execution_count": 9,
   "id": "54f9c59d",
   "metadata": {},
   "outputs": [],
   "source": [
    "#create random samples for this day based on the assigned weights\n",
    "def Thursdays(n):\n",
    "    df_Thursdays = df_Thursday.sample(n=n, weights='weight', replace=True)\n",
    "    df_Thursdays = df_Thursdays.assign(day='Thursday')\n",
    "    del df_Thursdays['weight']\n",
    "\n",
    "    return df_Thursdays"
   ]
  },
  {
   "cell_type": "code",
   "execution_count": 10,
   "id": "8b268b73",
   "metadata": {},
   "outputs": [],
   "source": [
    "#create random samples for this day based on the assigned weights\n",
    "def Fridays(n):\n",
    "    df_Fridays = df_Friday.sample(n=n, weights='weight', replace=True)\n",
    "    df_Fridays = df_Fridays.assign(day='Friday')\n",
    "    del df_Fridays['weight']\n",
    "\n",
    "    return df_Fridays"
   ]
  },
  {
   "cell_type": "code",
   "execution_count": 11,
   "id": "d5d494e6",
   "metadata": {},
   "outputs": [],
   "source": [
    "#create random samples for this day based on the assigned weights\n",
    "def Saturdays(n):\n",
    "    df_Saturdays = df_Saturday.sample(n=n, weights='weight', replace=True)\n",
    "    df_Saturdays = df_Saturdays.assign(day='Saturday')\n",
    "    del df_Saturdays['weight']\n",
    "\n",
    "    return df_Saturdays"
   ]
  },
  {
   "cell_type": "code",
   "execution_count": 12,
   "id": "ec332c52",
   "metadata": {},
   "outputs": [],
   "source": [
    "#create random samples for this day based on the assigned weights\n",
    "def Sundays(n):\n",
    "    df_Sundays = df_Sunday.sample(n=n, weights='weight', replace=True)\n",
    "    df_Sundays = df_Sundays.assign(day='Sunday')\n",
    "    del df_Sundays['weight']\n",
    "\n",
    "    return df_Sundays    "
   ]
  },
  {
   "cell_type": "markdown",
   "id": "82a18628",
   "metadata": {},
   "source": [
    "# New function for store per day"
   ]
  },
  {
   "cell_type": "code",
   "execution_count": 13,
   "id": "aac08f62",
   "metadata": {},
   "outputs": [],
   "source": [
    "dataframe = pd.read_csv (r\"C:\\Users\\20204113\\OneDrive - TU Eindhoven\\2_Research\\1_Groceries\\DATA\\9th week - narrative (3rd attempt)\\HH2\\df\\df_HH2.csv\")"
   ]
  },
  {
   "cell_type": "code",
   "execution_count": 14,
   "id": "499a71af",
   "metadata": {
    "scrolled": true
   },
   "outputs": [
    {
     "name": "stdout",
     "output_type": "stream",
     "text": [
      "\u001b[91m\u001b[1m RERUN - Too few/many visits per week\n"
     ]
    },
    {
     "data": {
      "text/html": [
       "<div>\n",
       "<style scoped>\n",
       "    .dataframe tbody tr th:only-of-type {\n",
       "        vertical-align: middle;\n",
       "    }\n",
       "\n",
       "    .dataframe tbody tr th {\n",
       "        vertical-align: top;\n",
       "    }\n",
       "\n",
       "    .dataframe thead th {\n",
       "        text-align: right;\n",
       "    }\n",
       "</style>\n",
       "<table border=\"1\" class=\"dataframe\">\n",
       "  <thead>\n",
       "    <tr style=\"text-align: right;\">\n",
       "      <th></th>\n",
       "      <th>times</th>\n",
       "      <th>day</th>\n",
       "    </tr>\n",
       "  </thead>\n",
       "  <tbody>\n",
       "    <tr>\n",
       "      <th>4</th>\n",
       "      <td>2.0</td>\n",
       "      <td>Monday</td>\n",
       "    </tr>\n",
       "    <tr>\n",
       "      <th>5</th>\n",
       "      <td>1.0</td>\n",
       "      <td>Tuesday</td>\n",
       "    </tr>\n",
       "    <tr>\n",
       "      <th>7</th>\n",
       "      <td>1.0</td>\n",
       "      <td>Wednesday</td>\n",
       "    </tr>\n",
       "    <tr>\n",
       "      <th>4</th>\n",
       "      <td>0.0</td>\n",
       "      <td>Thursday</td>\n",
       "    </tr>\n",
       "    <tr>\n",
       "      <th>4</th>\n",
       "      <td>0.0</td>\n",
       "      <td>Friday</td>\n",
       "    </tr>\n",
       "    <tr>\n",
       "      <th>7</th>\n",
       "      <td>0.0</td>\n",
       "      <td>Saturday</td>\n",
       "    </tr>\n",
       "    <tr>\n",
       "      <th>4</th>\n",
       "      <td>0.0</td>\n",
       "      <td>Sunday</td>\n",
       "    </tr>\n",
       "  </tbody>\n",
       "</table>\n",
       "</div>"
      ],
      "text/plain": [
       "   times        day\n",
       "4    2.0     Monday\n",
       "5    1.0    Tuesday\n",
       "7    1.0  Wednesday\n",
       "4    0.0   Thursday\n",
       "4    0.0     Friday\n",
       "7    0.0   Saturday\n",
       "4    0.0     Sunday"
      ]
     },
     "execution_count": 14,
     "metadata": {},
     "output_type": "execute_result"
    }
   ],
   "source": [
    "df1 = daysAfterNY(dataframe)\n",
    "df1"
   ]
  },
  {
   "cell_type": "code",
   "execution_count": 24,
   "id": "c03e9e2a",
   "metadata": {},
   "outputs": [
    {
     "data": {
      "text/html": [
       "<div>\n",
       "<style scoped>\n",
       "    .dataframe tbody tr th:only-of-type {\n",
       "        vertical-align: middle;\n",
       "    }\n",
       "\n",
       "    .dataframe tbody tr th {\n",
       "        vertical-align: top;\n",
       "    }\n",
       "\n",
       "    .dataframe thead th {\n",
       "        text-align: right;\n",
       "    }\n",
       "</style>\n",
       "<table border=\"1\" class=\"dataframe\">\n",
       "  <thead>\n",
       "    <tr style=\"text-align: right;\">\n",
       "      <th></th>\n",
       "      <th>store_name</th>\n",
       "      <th>store_type</th>\n",
       "      <th>day</th>\n",
       "    </tr>\n",
       "  </thead>\n",
       "  <tbody>\n",
       "    <tr>\n",
       "      <th>2</th>\n",
       "      <td>Versavel Poelman</td>\n",
       "      <td>butcher</td>\n",
       "      <td>Monday</td>\n",
       "    </tr>\n",
       "    <tr>\n",
       "      <th>1</th>\n",
       "      <td>Sys</td>\n",
       "      <td>bakery</td>\n",
       "      <td>Monday</td>\n",
       "    </tr>\n",
       "    <tr>\n",
       "      <th>1</th>\n",
       "      <td>Okay</td>\n",
       "      <td>supermarket</td>\n",
       "      <td>Tuesday</td>\n",
       "    </tr>\n",
       "    <tr>\n",
       "      <th>0</th>\n",
       "      <td>Albert Heijn</td>\n",
       "      <td>supermarket</td>\n",
       "      <td>Wednesday</td>\n",
       "    </tr>\n",
       "  </tbody>\n",
       "</table>\n",
       "</div>"
      ],
      "text/plain": [
       "         store_name   store_type        day\n",
       "2  Versavel Poelman      butcher     Monday\n",
       "1               Sys       bakery     Monday\n",
       "1              Okay  supermarket    Tuesday\n",
       "0      Albert Heijn  supermarket  Wednesday"
      ]
     },
     "execution_count": 24,
     "metadata": {},
     "output_type": "execute_result"
    }
   ],
   "source": [
    "### 2. What STORE?\n",
    "            # identify counts for visits per weekday\n",
    "mo = int(df1[\"times\"].values[0])\n",
    "tu = int(df1[\"times\"].values[1])\n",
    "we = int (df1[\"times\"].values[2])\n",
    "th = int (df1[\"times\"].values[3])\n",
    "fr = int (df1[\"times\"].values[4])\n",
    "sa = int (df1[\"times\"].values[5])\n",
    "su = int (df1[\"times\"].values[6])\n",
    "\n",
    "    # Generate times for the [previously identified] shopping dags + corresponding time\n",
    "stores = [Mondays(mo), Tuesdays(tu), Wednesdays(we), Thursdays(th), Fridays(fr), Saturdays(sa), Sundays(su)]\n",
    "    # create one df for all visited stores + day of the week\n",
    "stores = pd.concat(stores)\n",
    "\n",
    "stores"
   ]
  },
  {
   "cell_type": "code",
   "execution_count": 26,
   "id": "09cb2aac",
   "metadata": {},
   "outputs": [
    {
     "data": {
      "text/html": [
       "<div>\n",
       "<style scoped>\n",
       "    .dataframe tbody tr th:only-of-type {\n",
       "        vertical-align: middle;\n",
       "    }\n",
       "\n",
       "    .dataframe tbody tr th {\n",
       "        vertical-align: top;\n",
       "    }\n",
       "\n",
       "    .dataframe thead th {\n",
       "        text-align: right;\n",
       "    }\n",
       "</style>\n",
       "<table border=\"1\" class=\"dataframe\">\n",
       "  <thead>\n",
       "    <tr style=\"text-align: right;\">\n",
       "      <th></th>\n",
       "      <th>time</th>\n",
       "      <th>store_name</th>\n",
       "    </tr>\n",
       "  </thead>\n",
       "  <tbody>\n",
       "    <tr>\n",
       "      <th>0</th>\n",
       "      <td>afternoon</td>\n",
       "      <td>Albert Heijn</td>\n",
       "    </tr>\n",
       "  </tbody>\n",
       "</table>\n",
       "</div>"
      ],
      "text/plain": [
       "        time    store_name\n",
       "0  afternoon  Albert Heijn"
      ]
     },
     "execution_count": 26,
     "metadata": {},
     "output_type": "execute_result"
    }
   ],
   "source": [
    "AlbertHeijn(1)"
   ]
  },
  {
   "cell_type": "code",
   "execution_count": 15,
   "id": "2dbad68e",
   "metadata": {},
   "outputs": [],
   "source": [
    "def storeperday(dataframes):\n",
    "    restart = True \n",
    "\n",
    "    while restart:\n",
    "\n",
    "        ### 2. What STORE?\n",
    "                    # identify counts for visits per weekday\n",
    "        mo = int(dataframes[\"times\"].values[0])\n",
    "        tu = int(dataframes[\"times\"].values[1])\n",
    "        we = int (dataframes[\"times\"].values[2])\n",
    "        th = int (dataframes[\"times\"].values[3])\n",
    "        fr = int (dataframes[\"times\"].values[4])\n",
    "        sa = int (dataframes[\"times\"].values[5])\n",
    "        su = int (dataframes[\"times\"].values[6])\n",
    "\n",
    "            # Generate store names for the [previously identified] shopping dags + corresponding store type\n",
    "        stores = [Mondays(mo), Tuesdays(tu), Wednesdays(we), Thursdays(th), Fridays(fr), Saturdays(sa), Sundays(su)]\n",
    "            # create one df for all visited stores + day of the week\n",
    "        stores = pd.concat(stores)\n",
    "\n",
    "\n",
    "        ### 3. What TIME?\n",
    "\n",
    "        # Identifier counts for store names per week\n",
    "        AHt = (stores['store_name'] == 'Albert Heijn').sum()\n",
    "        OKt = (stores['store_name'] == 'Okay').sum()\n",
    "        DHt = (stores['store_name'] == 'Delhaize').sum()\n",
    "        CFt = (stores['store_name'] == 'Carrefour').sum()\n",
    "        VPt = (stores['store_name'] == 'Versavel Poelman').sum()\n",
    "        SYt = (stores['store_name'] == 'Sys').sum()\n",
    "        BRt = (stores['store_name'] == 'Brabo').sum()\n",
    "        IKt = (stores['store_name'] == 'Ikea').sum()\n",
    "        KRt = (stores['store_name'] == 'Kruidvat').sum()\n",
    "\n",
    "        # Generate times per storename and compile in df with stores\n",
    "        storetimes = [AlbertHeijn(AHt), Okay(OKt), Delhaize(DHt), Carrefour(CFt), VersavelPoelman(VPt), Sys(SYt), Brabo(BRt), Ikea(IKt), Kruidvat(KRt)]\n",
    "        storetimes = pd.concat(storetimes)\n",
    "        stores = pd.merge(stores, storetimes, on=\"store_name\")\n",
    "\n",
    "        ### CHECKPOINT: range for amount of stores per week.day\n",
    "\n",
    "            # Check if the total STORE TYPES VISITED PER WEEK are within the normal range\n",
    "        for storetype in dataframe['store_type']:\n",
    "            typecount = stores[stores['store_type']==storetype]['store_type'].count()\n",
    "            countstoretype = CountStoreType(storetype)\n",
    "            minstoretype = countstoretype[0]\n",
    "            maxstoretype = countstoretype[1]\n",
    "            if typecount < minstoretype:\n",
    "                print(f\"{bcolors.WARNING}{bcolors.BOLD} RERUN - Too few store type:\", storetype)\n",
    "                restart = True\n",
    "                break # force restart\n",
    "            elif maxstoretype < typecount:\n",
    "                print(f\"{bcolors.WARNING}{bcolors.BOLD} RERUN - Too many store type:\", storetype)\n",
    "                restart = True\n",
    "                break # force restart\n",
    "            else:\n",
    "                pass\n",
    "\n",
    "\n",
    "            # Check if the total STORE NAMES VISITED PER WEEK are within the normal range\n",
    "        for storename in dataframe['store_name']:\n",
    "            namecount = stores[stores['store_name']==storename]['store_name'].count()\n",
    "            countstorename = CountStoreName(storename)\n",
    "            minstorename = countstorename[0]\n",
    "            maxstorename = countstorename[1]\n",
    "            if namecount < minstorename:\n",
    "                print(f\"{bcolors.WARNING}{bcolors.BOLD} RERUN - Too few store name:\", storename)\n",
    "                restart = True\n",
    "                break # force restart\n",
    "            elif maxstorename < namecount:\n",
    "                print(f\"{bcolors.WARNING}{bcolors.BOLD} RERUN - Too many store name:\", storename)\n",
    "                restart = True\n",
    "                break # force restart\n",
    "            else:\n",
    "                pass\n",
    "\n",
    "\n",
    "            # Check if the total STORES VISITED PER DAY are within the normal range\n",
    "        for day in dataframe['day']:\n",
    "            perdaycount = stores[stores['day']==day]['day'].count()\n",
    "            CountTotalPerday = CountVisitsPerDay(day)\n",
    "            minstoreperday = CountTotalPerday[0]\n",
    "            maxstoreperday = CountTotalPerday[1]\n",
    "            if namecount < minstoreperday:\n",
    "                print(f\"{bcolors.WARNING}{bcolors.BOLD} RERUN - Too few stores on:\", day)\n",
    "                restart = True\n",
    "                break # force restart\n",
    "            elif maxstoreperday < namecount:\n",
    "                print(f\"{bcolors.WARNING}{bcolors.BOLD} RERUN - Too many stores on:\", day)\n",
    "                restart = True\n",
    "                break # force restart\n",
    "            else:\n",
    "                restart = False\n",
    "                return stores\n",
    "                break"
   ]
  },
  {
   "cell_type": "code",
   "execution_count": 16,
   "id": "644561c1",
   "metadata": {},
   "outputs": [
    {
     "ename": "NameError",
     "evalue": "name 'storetimes' is not defined",
     "output_type": "error",
     "traceback": [
      "\u001b[1;31m---------------------------------------------------------------------------\u001b[0m",
      "\u001b[1;31mNameError\u001b[0m                                 Traceback (most recent call last)",
      "\u001b[1;32m~\\AppData\\Local\\Temp/ipykernel_16412/344355203.py\u001b[0m in \u001b[0;36m<module>\u001b[1;34m\u001b[0m\n\u001b[1;32m----> 1\u001b[1;33m \u001b[0mstoretimes\u001b[0m\u001b[1;33m\u001b[0m\u001b[1;33m\u001b[0m\u001b[0m\n\u001b[0m",
      "\u001b[1;31mNameError\u001b[0m: name 'storetimes' is not defined"
     ]
    }
   ],
   "source": [
    "storetimes"
   ]
  },
  {
   "cell_type": "markdown",
   "id": "a60433f4",
   "metadata": {},
   "source": [
    "# Itemcounts per store"
   ]
  },
  {
   "cell_type": "code",
   "execution_count": 28,
   "id": "71f58031",
   "metadata": {},
   "outputs": [],
   "source": [
    "def countsperstore(dataframes):\n",
    "    storetime = dataframes[['store_name','time']]\n",
    "    storetime\n",
    "\n",
    "    restart = True \n",
    "\n",
    "    while restart:\n",
    "        storecounts = []\n",
    "\n",
    "        for store, time in storetime.itertuples(index=False):\n",
    "            storecounts.append(StoreCount(store,time))\n",
    "\n",
    "        dataframes['counts'] = storecounts\n",
    "\n",
    "        # Check if the total ITEMS PER STORE are within the normal range\n",
    "        for items in dataframe['item_type']:\n",
    "            week9count = dataframes['counts'].sum()\n",
    "            NormWeekCount = WeekCount()\n",
    "            minWeekCount = NormWeekCount[0]\n",
    "            maxWeekCount = NormWeekCount[1]\n",
    "            if week9count < minWeekCount:\n",
    "                print(f\"{bcolors.WARNING}{bcolors.BOLD} RERUN - Too few items per storeNAME:\", week9count)\n",
    "                restart = True\n",
    "                break # force restart\n",
    "            elif maxWeekCount < week9count:\n",
    "                print(f\"{bcolors.WARNING}{bcolors.BOLD} RERUN - Too many items per storeNAME:\", week9count)\n",
    "                restart = True\n",
    "                break # force restart\n",
    "            else:\n",
    "                restart = False\n",
    "                return dataframes\n",
    "                break"
   ]
  },
  {
   "cell_type": "code",
   "execution_count": 29,
   "id": "586d6290",
   "metadata": {},
   "outputs": [
    {
     "data": {
      "text/plain": [
       "(31, 98)"
      ]
     },
     "execution_count": 29,
     "metadata": {},
     "output_type": "execute_result"
    }
   ],
   "source": [
    "# WeekCount()"
   ]
  }
 ],
 "metadata": {
  "kernelspec": {
   "display_name": "Python 3 (ipykernel)",
   "language": "python",
   "name": "python3"
  },
  "language_info": {
   "codemirror_mode": {
    "name": "ipython",
    "version": 3
   },
   "file_extension": ".py",
   "mimetype": "text/x-python",
   "name": "python",
   "nbconvert_exporter": "python",
   "pygments_lexer": "ipython3",
   "version": "3.10.13"
  },
  "widgets": {
   "application/vnd.jupyter.widget-state+json": {
    "state": {},
    "version_major": 2,
    "version_minor": 0
   }
  }
 },
 "nbformat": 4,
 "nbformat_minor": 5
}