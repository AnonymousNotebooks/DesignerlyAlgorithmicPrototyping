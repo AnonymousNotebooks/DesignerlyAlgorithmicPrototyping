{
 "cells": [
  {
   "cell_type": "markdown",
   "metadata": {},
   "source": [
    "# Plenty in The Pantry | Algorithmic Prototyping Notebooks\n",
    "\n",
    "This book is part of a paper titled: \"Plenty in the Pantry: A Designer's Exploration into Longer Term Algorithmic Prototyping for Machine Learning Applications\". THis book provides detailed insights into how the authors algoritmically prototyped a longer term machine learning application for automated grocery shopping. We did so from the viewpoint of a designer, who is not trained in data science and machine learning. The aim of this paper and these notebooks is to help designers/design researchers to explore how they might further their insights into the possibilities for prototyping for (longer term) machine learning applications.\n",
    "\n",
    "The notebooks in this book correlate to the six-step approach as described in the paper (see figure below). The notebooks are numbered accordingly. \n",
    "\n",
    "![approach](/workspaces/Plenty-in-the-Pantry/myfirstbook/approach.png)\n",
    "\n",
    "```{tableofcontents}\n",
    "```"
   ]
  },
  {
   "cell_type": "markdown",
   "metadata": {},
   "source": []
  }
 ],
 "metadata": {
  "kernelspec": {
   "display_name": "Python 3",
   "language": "python",
   "name": "python3"
  },
  "language_info": {
   "codemirror_mode": {
    "name": "ipython",
    "version": 3
   },
   "file_extension": ".py",
   "mimetype": "text/x-python",
   "name": "python",
   "nbconvert_exporter": "python",
   "pygments_lexer": "ipython3",
   "version": "3.10.13"
  },
  "widgets": {
   "application/vnd.jupyter.widget-state+json": {
    "state": {},
    "version_major": 2,
    "version_minor": 0
   }
  }
 },
 "nbformat": 4,
 "nbformat_minor": 4
}
