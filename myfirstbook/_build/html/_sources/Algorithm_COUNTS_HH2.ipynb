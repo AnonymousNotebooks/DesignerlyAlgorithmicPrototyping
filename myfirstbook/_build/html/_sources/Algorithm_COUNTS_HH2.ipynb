{
 "cells": [
  {
   "cell_type": "markdown",
   "id": "2cce2977",
   "metadata": {},
   "source": [
    "## 2.2. CHECKPOINT: counts & intervals per week/stores"
   ]
  },
  {
   "cell_type": "markdown",
   "id": "87a037df",
   "metadata": {},
   "source": [
    "### Import libraries "
   ]
  },
  {
   "cell_type": "code",
   "execution_count": 1,
   "id": "419cb39a",
   "metadata": {},
   "outputs": [],
   "source": [
    "# %matplotlib notebook\n",
    "%matplotlib inline\n",
    "#Pandas is a software library written for the Python programming language for data manipulation and analysis.\n",
    "import pandas as pd\n",
    "#NumPy is a library for the Python programming language, adding support for large, multi-dimensional arrays and matrices, along with a large collection of high-level mathematical functions to operate on these arrays\n",
    "import numpy as np\n",
    "# Matplotlib is a plotting library for python and pyplot gives us a MatLab like plotting framework. We will use this in our plotter function to plot data.\n",
    "import matplotlib.pyplot as plt\n",
    "#Seaborn is a Python data visualization library based on matplotlib. It provides a high-level interface for drawing attractive and informative statistical graphics\n",
    "import seaborn as sns\n",
    "import dataframe_image as dfi\n",
    "from datetime import time\n",
    "import matplotlib.dates as mdates\n",
    "from matplotlib.ticker import StrMethodFormatter\n",
    "from matplotlib.pyplot import figure"
   ]
  },
  {
   "cell_type": "markdown",
   "id": "f10011bb",
   "metadata": {},
   "source": [
    "### Load and view data "
   ]
  },
  {
   "cell_type": "code",
   "execution_count": 2,
   "id": "d7338672",
   "metadata": {},
   "outputs": [],
   "source": [
    "# data for HH\n",
    "df = pd.read_csv (r\"C:\\Users\\20204113\\OneDrive - TU Eindhoven\\2_Research\\1_Groceries\\DATA\\9th week - narrative (3rd attempt)\\HH2\\df\\df_HH2.csv\")"
   ]
  },
  {
   "cell_type": "code",
   "execution_count": 3,
   "id": "d57ac0d4",
   "metadata": {},
   "outputs": [],
   "source": [
    "df_orders = df[['order_ID', 'week', 'store_name', 'storename_num', 'store_type', 'storetype_num','day', 'day_num', 'time', 'time_num', 'timestamp', 'times', 'dates', 'times_min', 'dates_days', 'order_amount', 'order_price']]\n",
    "df_orders = df_orders.drop_duplicates()"
   ]
  },
  {
   "cell_type": "markdown",
   "id": "d7a7ddde",
   "metadata": {},
   "source": [
    "# Maximums per week"
   ]
  },
  {
   "cell_type": "code",
   "execution_count": 8,
   "id": "4489fbbb",
   "metadata": {},
   "outputs": [],
   "source": [
    "def CountTotalPerday():\n",
    "    Count = df_orders.groupby(['week', 'day'])['order_ID'].count()\n",
    "    Count = pd.DataFrame (Count)\n",
    "    Count = Count.reset_index()\n",
    "\n",
    "    min = Count.min(axis=0,numeric_only=True)['order_ID']\n",
    "    max = Count.max(axis=0,numeric_only=True)['order_ID']\n",
    "    return min, max"
   ]
  },
  {
   "cell_type": "code",
   "execution_count": 9,
   "id": "21383b33",
   "metadata": {},
   "outputs": [
    {
     "data": {
      "text/plain": [
       "(1, 3)"
      ]
     },
     "execution_count": 9,
     "metadata": {},
     "output_type": "execute_result"
    }
   ],
   "source": [
    "CountTotalPerday()"
   ]
  },
  {
   "cell_type": "code",
   "execution_count": 10,
   "id": "f562414c",
   "metadata": {},
   "outputs": [],
   "source": [
    "days = ['Monday', 'Tuesday', 'Wednesday', 'Thursday', 'Friday', 'Saturday', 'Sunday']\n",
    "df_orders.loc[:, ('day')] = pd.Categorical(df_orders.loc[:, ('day')], categories=days)"
   ]
  },
  {
   "cell_type": "code",
   "execution_count": 11,
   "id": "55ddf726",
   "metadata": {},
   "outputs": [],
   "source": [
    "weeks = [1,2,3,4,5,6,7,8]\n",
    "df_orders.loc[:, ('week')] = pd.Categorical(df_orders.loc[:, ('week')], categories=weeks)"
   ]
  },
  {
   "cell_type": "code",
   "execution_count": 12,
   "id": "9b64de72",
   "metadata": {},
   "outputs": [],
   "source": [
    "def CountVisitsPerDay(day):\n",
    "    df_count = df_orders[df_orders['day']== day]\n",
    "\n",
    "    Count = df_count.sort_values(by=['week'])\n",
    "    Count = Count.groupby(['week'])['order_ID'].nunique()\n",
    "    Count = pd.DataFrame (Count)\n",
    "    Count = Count.reset_index()\n",
    "\n",
    "    min = Count.min(axis=0,numeric_only=True)['order_ID']\n",
    "    max = Count.max(axis=0,numeric_only=True)['order_ID']\n",
    "    return min, max"
   ]
  },
  {
   "cell_type": "code",
   "execution_count": 13,
   "id": "58ac456b",
   "metadata": {},
   "outputs": [
    {
     "data": {
      "text/plain": [
       "(0, 3)"
      ]
     },
     "execution_count": 13,
     "metadata": {},
     "output_type": "execute_result"
    }
   ],
   "source": [
    "CountVisitsPerDay('Sunday')"
   ]
  },
  {
   "cell_type": "code",
   "execution_count": 14,
   "id": "53f1679c",
   "metadata": {},
   "outputs": [],
   "source": [
    "def CountStoreName(store):\n",
    "    df_count = df_orders[df_orders['store_name']== store]\n",
    "\n",
    "    Count = df_count.sort_values(by=['week'])\n",
    "    Count = Count.groupby(['week'])['order_ID'].nunique()\n",
    "    Count = pd.DataFrame (Count)\n",
    "    Count = Count.reset_index()\n",
    "\n",
    "    min = Count.min(axis=0,numeric_only=True)['order_ID']\n",
    "    max = Count.max(axis=0,numeric_only=True)['order_ID']\n",
    "    return min, max"
   ]
  },
  {
   "cell_type": "code",
   "execution_count": 15,
   "id": "1af0cb8f",
   "metadata": {},
   "outputs": [
    {
     "data": {
      "text/plain": [
       "(0, 5)"
      ]
     },
     "execution_count": 15,
     "metadata": {},
     "output_type": "execute_result"
    }
   ],
   "source": [
    "CountStoreName('Albert Heijn')"
   ]
  },
  {
   "cell_type": "code",
   "execution_count": 16,
   "id": "21e28fd5",
   "metadata": {},
   "outputs": [],
   "source": [
    "def CountStoreType(store):\n",
    "    df_count = df_orders[df_orders['store_type']== store]\n",
    "\n",
    "    Count = df_count.sort_values(by=['week'])\n",
    "    Count = Count.groupby(['week'])['order_ID'].nunique()\n",
    "    Count = pd.DataFrame (Count)\n",
    "    Count = Count.reset_index()\n",
    "\n",
    "    min = Count.min(axis=0,numeric_only=True)['order_ID']\n",
    "    max = Count.max(axis=0,numeric_only=True)['order_ID']\n",
    "    return min, max"
   ]
  },
  {
   "cell_type": "code",
   "execution_count": 19,
   "id": "17ae666b",
   "metadata": {},
   "outputs": [
    {
     "data": {
      "text/plain": [
       "(1, 5)"
      ]
     },
     "execution_count": 19,
     "metadata": {},
     "output_type": "execute_result"
    }
   ],
   "source": [
    "CountStoreType('supermarket')"
   ]
  },
  {
   "cell_type": "code",
   "execution_count": 18,
   "id": "8bc86da6",
   "metadata": {},
   "outputs": [],
   "source": [
    "def CountTimePerDay(day):\n",
    "    df_count = df_orders[df_orders['day']== day]\n",
    "\n",
    "    Count = df_count.sort_values(by=['week'])\n",
    "    Count = Count.groupby(['week'])['order_ID'].nunique()\n",
    "    Count = pd.DataFrame (Count)\n",
    "    Count = Count.reset_index()\n",
    "\n",
    "    min = Count.min(axis=0,numeric_only=True)['order_ID']\n",
    "    max = Count.max(axis=0,numeric_only=True)['order_ID']\n",
    "    return min, max"
   ]
  },
  {
   "cell_type": "code",
   "execution_count": null,
   "id": "45aa7f85",
   "metadata": {},
   "outputs": [],
   "source": []
  },
  {
   "cell_type": "code",
   "execution_count": 7,
   "id": "af2bf739",
   "metadata": {},
   "outputs": [],
   "source": [
    "def CountTimingPerDay(time):\n",
    "    df_count = df_orders[df_orders['time']== time]\n",
    "    Count = df_count.groupby(['week', 'day'])['order_ID'].count()\n",
    "    Count = pd.DataFrame (Count)\n",
    "    Count = Count.reset_index()\n",
    "\n",
    "    min = Count.min(axis=0,numeric_only=True)['order_ID']\n",
    "    max = Count.max(axis=0,numeric_only=True)['order_ID']\n",
    "    return min, max"
   ]
  },
  {
   "cell_type": "code",
   "execution_count": 8,
   "id": "a4b3ee41",
   "metadata": {},
   "outputs": [
    {
     "data": {
      "text/plain": [
       "(1, 2)"
      ]
     },
     "execution_count": 8,
     "metadata": {},
     "output_type": "execute_result"
    }
   ],
   "source": [
    "CountTimingPerDay('afternoon')"
   ]
  },
  {
   "cell_type": "code",
   "execution_count": 4,
   "id": "8262db06",
   "metadata": {},
   "outputs": [],
   "source": [
    "def CountTypePerStore(itemtype, storetype):\n",
    "    df_type = df[df['store_type'] == storetype]\n",
    "    count = int(df['order_ID'].nunique())\n",
    "    data = {'order_ID': range(count)}\n",
    "    orderID = pd.DataFrame(data)\n",
    "    df_type = df_type[df_type['item_type'] == itemtype]\n",
    "    df_type = df_type.groupby(['order_ID'])['amount'].count()\n",
    "    df_type = pd.DataFrame (df_type)\n",
    "    df_type = df_type.reset_index() \n",
    "    df_type = orderID.merge(df_type, how='left').fillna(0)\n",
    "    min = df_type.min(axis=0)['amount']\n",
    "    max = df_type.max(axis=0)['amount']\n",
    "    return (min, max)"
   ]
  },
  {
   "cell_type": "code",
   "execution_count": null,
   "id": "4ba3dba1",
   "metadata": {},
   "outputs": [],
   "source": []
  }
 ],
 "metadata": {
  "kernelspec": {
   "display_name": "Python 3 (ipykernel)",
   "language": "python",
   "name": "python3"
  },
  "language_info": {
   "codemirror_mode": {
    "name": "ipython",
    "version": 3
   },
   "file_extension": ".py",
   "mimetype": "text/x-python",
   "name": "python",
   "nbconvert_exporter": "python",
   "pygments_lexer": "ipython3",
   "version": "3.9.7"
  },
  "widgets": {
   "application/vnd.jupyter.widget-state+json": {
    "state": {},
    "version_major": 2,
    "version_minor": 0
   }
  }
 },
 "nbformat": 4,
 "nbformat_minor": 5
}
