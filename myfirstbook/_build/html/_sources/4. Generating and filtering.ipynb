{
 "cells": [
  {
   "cell_type": "markdown",
   "id": "2cce2977",
   "metadata": {},
   "source": [
    "# 4. Generating and filtering\n",
    "\n",
    "Once we have assigned weights to all the variables that we wanted to predict for the individual household, we can use them to generate their predictions. These predictions are made by using the Pandas ``DataFrame.sample'' function and setting a ``weights'' parameter. This function returns a random sample of items from the dataframe~\\cite{pandas}. For example, we can use this function to return one randomized value (0,1, or 2) from the dataframe for Mondays with the ``weights'' variable to determine whether or not this household will shop on Monday."
   ]
  },
  {
   "cell_type": "markdown",
   "id": "d7a7ddde",
   "metadata": {},
   "source": [
    "## 4.1. Days of the week"
   ]
  },
  {
   "cell_type": "markdown",
   "id": "caed5adf",
   "metadata": {},
   "source": [
    "#### After NY"
   ]
  },
  {
   "cell_type": "code",
   "execution_count": 61,
   "id": "026f7617",
   "metadata": {},
   "outputs": [],
   "source": [
    "#create random samples for each day based on the assigned weights\n",
    "def weekdays(rand):\n",
    "    df_Monday = df_Mondays2.sample(n=1, weights='weights', random_state=rand) \n",
    "    df_Monday = df_Monday.rename(columns={\"Monday\": \"times\"})\n",
    "    \n",
    "    df_Tuesday = df_Tuesdays2.sample(n=1, weights='weights', random_state=rand)\n",
    "    df_Tuesday = df_Tuesday.rename(columns={\"Tuesday\": \"times\"})\n",
    "    \n",
    "    df_Wednesday = df_Wednesdays2.sample(n=1, weights='weights', random_state=rand)\n",
    "    df_Wednesday = df_Wednesday.rename(columns={\"Wednesday\": \"times\"})\n",
    "    \n",
    "    df_Thursday = df_Thursdays2.sample(n=1, weights='weights', random_state=rand)\n",
    "    df_Thursday = df_Thursday.rename(columns={\"Thursday\": \"times\"})\n",
    "    \n",
    "    df_Friday = df_Fridays2.sample(n=1, weights='weights', random_state=rand)\n",
    "    df_Friday = df_Friday.rename(columns={\"Friday\": \"times\"})\n",
    "    \n",
    "    df_Saturday = df_Saturdays2.sample(n=1, weights='weights', random_state=rand)\n",
    "    df_Saturday = df_Saturday.rename(columns={\"Saturday\": \"times\"})\n",
    "    \n",
    "    df_Sunday = df_Sundays2.sample(n=1, weights='weights', random_state=rand)\n",
    "    df_Sunday = df_Sunday.rename(columns={\"Sunday\": \"times\"})\n",
    "\n",
    "    #combine all random samplers and print the final (random) week9\n",
    "    df_week9_afterNY = pd.concat([df_Monday, df_Tuesday, df_Wednesday, df_Thursday, df_Friday,df_Saturday,df_Sunday])\n",
    "    df_week9_afterNY['day']=['Monday', 'Tuesday', 'Wednesday', 'Thursday', 'Friday', 'Saturday', 'Sunday']\n",
    "    del df_week9_afterNY['weights']\n",
    "    return df_week9_afterNY"
   ]
  },
  {
   "cell_type": "code",
   "execution_count": 79,
   "id": "41e1f981",
   "metadata": {},
   "outputs": [],
   "source": [
    "#create random samples for each day based on the assigned weights\n",
    "def weekdays():\n",
    "    df_Monday = df_Mondays2.sample(n=1, weights='weights') \n",
    "    df_Monday = df_Monday.rename(columns={\"Monday\": \"times\"})\n",
    "    \n",
    "    df_Tuesday = df_Tuesdays2.sample(n=1, weights='weights')\n",
    "    df_Tuesday = df_Tuesday.rename(columns={\"Tuesday\": \"times\"})\n",
    "    \n",
    "    df_Wednesday = df_Wednesdays2.sample(n=1, weights='weights')\n",
    "    df_Wednesday = df_Wednesday.rename(columns={\"Wednesday\": \"times\"})\n",
    "    \n",
    "    df_Thursday = df_Thursdays2.sample(n=1, weights='weights')\n",
    "    df_Thursday = df_Thursday.rename(columns={\"Thursday\": \"times\"})\n",
    "    \n",
    "    df_Friday = df_Fridays2.sample(n=1, weights='weights')\n",
    "    df_Friday = df_Friday.rename(columns={\"Friday\": \"times\"})\n",
    "    \n",
    "    df_Saturday = df_Saturdays2.sample(n=1, weights='weights')\n",
    "    df_Saturday = df_Saturday.rename(columns={\"Saturday\": \"times\"})\n",
    "    \n",
    "    df_Sunday = df_Sundays2.sample(n=1, weights='weights')\n",
    "    df_Sunday = df_Sunday.rename(columns={\"Sunday\": \"times\"})\n",
    "\n",
    "    #combine all random samplers and print the final (random) week9\n",
    "    df_week9_afterNY = pd.concat([df_Monday, df_Tuesday, df_Wednesday, df_Thursday, df_Friday,df_Saturday,df_Sunday])\n",
    "    df_week9_afterNY['day']=['Monday', 'Tuesday', 'Wednesday', 'Thursday', 'Friday', 'Saturday', 'Sunday']\n",
    "    del df_week9_afterNY['weights']\n",
    "    return df_week9_afterNY"
   ]
  },
  {
   "cell_type": "code",
   "execution_count": 67,
   "id": "a542c2aa",
   "metadata": {},
   "outputs": [
    {
     "data": {
      "text/html": [
       "<div>\n",
       "<style scoped>\n",
       "    .dataframe tbody tr th:only-of-type {\n",
       "        vertical-align: middle;\n",
       "    }\n",
       "\n",
       "    .dataframe tbody tr th {\n",
       "        vertical-align: top;\n",
       "    }\n",
       "\n",
       "    .dataframe thead th {\n",
       "        text-align: right;\n",
       "    }\n",
       "</style>\n",
       "<table border=\"1\" class=\"dataframe\">\n",
       "  <thead>\n",
       "    <tr style=\"text-align: right;\">\n",
       "      <th></th>\n",
       "      <th>times</th>\n",
       "      <th>day</th>\n",
       "    </tr>\n",
       "  </thead>\n",
       "  <tbody>\n",
       "    <tr>\n",
       "      <th>0</th>\n",
       "      <td>0.0</td>\n",
       "      <td>Monday</td>\n",
       "    </tr>\n",
       "    <tr>\n",
       "      <th>1</th>\n",
       "      <td>0.0</td>\n",
       "      <td>Tuesday</td>\n",
       "    </tr>\n",
       "    <tr>\n",
       "      <th>2</th>\n",
       "      <td>0.0</td>\n",
       "      <td>Wednesday</td>\n",
       "    </tr>\n",
       "    <tr>\n",
       "      <th>1</th>\n",
       "      <td>2.0</td>\n",
       "      <td>Thursday</td>\n",
       "    </tr>\n",
       "    <tr>\n",
       "      <th>1</th>\n",
       "      <td>0.0</td>\n",
       "      <td>Friday</td>\n",
       "    </tr>\n",
       "    <tr>\n",
       "      <th>2</th>\n",
       "      <td>1.0</td>\n",
       "      <td>Saturday</td>\n",
       "    </tr>\n",
       "    <tr>\n",
       "      <th>1</th>\n",
       "      <td>3.0</td>\n",
       "      <td>Sunday</td>\n",
       "    </tr>\n",
       "  </tbody>\n",
       "</table>\n",
       "</div>"
      ],
      "text/plain": [
       "   times        day\n",
       "0    0.0     Monday\n",
       "1    0.0    Tuesday\n",
       "2    0.0  Wednesday\n",
       "1    2.0   Thursday\n",
       "1    0.0     Friday\n",
       "2    1.0   Saturday\n",
       "1    3.0     Sunday"
      ]
     },
     "execution_count": 67,
     "metadata": {},
     "output_type": "execute_result"
    }
   ],
   "source": [
    "df = weekdays(3)\n",
    "df"
   ]
  },
  {
   "cell_type": "markdown",
   "id": "7c37c8e8",
   "metadata": {},
   "source": [
    "### Value counts"
   ]
  },
  {
   "cell_type": "code",
   "execution_count": null,
   "id": "889c2bf4",
   "metadata": {},
   "outputs": [],
   "source": [
    "def CountTotalVisits():\n",
    "    Count = df_orders.groupby(['week'])['order_ID'].nunique()\n",
    "    Count = pd.DataFrame (Count)\n",
    "    Count = Count.reset_index()\n",
    "\n",
    "    min = Count.min(axis=0,numeric_only=True)['order_ID']\n",
    "    max = Count.max(axis=0,numeric_only=True)['order_ID']\n",
    "    return min, max"
   ]
  },
  {
   "cell_type": "code",
   "execution_count": null,
   "id": "c808c0c2",
   "metadata": {},
   "outputs": [
    {
     "data": {
      "text/plain": [
       "(3, 7)"
      ]
     },
     "metadata": {},
     "output_type": "display_data"
    }
   ],
   "source": [
    "CountTotalVisits()"
   ]
  },
  {
   "cell_type": "code",
   "execution_count": null,
   "id": "b0856ab7",
   "metadata": {},
   "outputs": [],
   "source": [
    "def CountTotalDays():\n",
    "    Count = df_orders.groupby(['week'])['day'].nunique()\n",
    "    Count = pd.DataFrame (Count)\n",
    "    Count = Count.reset_index()\n",
    "\n",
    "    min = Count.min(axis=0,numeric_only=True)['day']\n",
    "    max = Count.max(axis=0,numeric_only=True)['day']\n",
    "    return min, max"
   ]
  },
  {
   "cell_type": "code",
   "execution_count": null,
   "id": "388261e5",
   "metadata": {},
   "outputs": [
    {
     "data": {
      "text/plain": [
       "(3, 4)"
      ]
     },
     "metadata": {},
     "output_type": "display_data"
    }
   ],
   "source": [
    "CountTotalDays()"
   ]
  },
  {
   "cell_type": "markdown",
   "id": "18a117e7",
   "metadata": {},
   "source": [
    "#### Filter the output based on the counts as boundaries for the total visits and the amount of days."
   ]
  },
  {
   "cell_type": "code",
   "execution_count": 80,
   "id": "5ca8d1eb",
   "metadata": {},
   "outputs": [],
   "source": [
    "def dayofweek():\n",
    "    i = 0\n",
    "\n",
    "    while i < 2:\n",
    "\n",
    "        ### 1. What DAY?\n",
    "        df = weekdays()\n",
    "\n",
    "        ### CHECKPOINT: range for visits/week and days/week\n",
    "\n",
    "            # Check if the total GROCERY VISITS PER WEEK are within the normal range\n",
    "        visitcount = df['times'].sum()\n",
    "        totalvisits = CountTotalVisits()\n",
    "        minvisits = totalvisits[0]\n",
    "        maxvisits = totalvisits[1]\n",
    "        if minvisits <= visitcount <= maxvisits:\n",
    "            i= i+1\n",
    "        else:\n",
    "            print(f\"{bcolors.WARNING}{bcolors.BOLD} RERUN - Too few/many visits per week\")\n",
    "            i=0\n",
    "            continue\n",
    "\n",
    "            # Check if the total GROCERY DAYS PER WEEK are within the normal range\n",
    "        dayscount = df['times'].nunique()\n",
    "        totaldays = CountTotalDays()\n",
    "        mindays = totaldays[0]\n",
    "        maxdays = totaldays[1]\n",
    "        if mindays <= dayscount <= maxdays:\n",
    "            i = i+1\n",
    "            df['times'] = df['times'].astype(int)\n",
    "            return df\n",
    "        else:\n",
    "            print(f\"{bcolors.WARNING}{bcolors.BOLD} RERUN - Too few/many days per week\")\n",
    "            i=0\n",
    "            continue"
   ]
  },
  {
   "cell_type": "code",
   "execution_count": 85,
   "id": "dac9a872",
   "metadata": {
    "scrolled": false
   },
   "outputs": [
    {
     "name": "stdout",
     "output_type": "stream",
     "text": [
      "\u001b[91m\u001b[1m RERUN - Too few/many visits per week\n"
     ]
    },
    {
     "data": {
      "text/html": [
       "<div>\n",
       "<style scoped>\n",
       "    .dataframe tbody tr th:only-of-type {\n",
       "        vertical-align: middle;\n",
       "    }\n",
       "\n",
       "    .dataframe tbody tr th {\n",
       "        vertical-align: top;\n",
       "    }\n",
       "\n",
       "    .dataframe thead th {\n",
       "        text-align: right;\n",
       "    }\n",
       "</style>\n",
       "<table border=\"1\" class=\"dataframe\">\n",
       "  <thead>\n",
       "    <tr style=\"text-align: right;\">\n",
       "      <th></th>\n",
       "      <th>times</th>\n",
       "      <th>day</th>\n",
       "    </tr>\n",
       "  </thead>\n",
       "  <tbody>\n",
       "    <tr>\n",
       "      <th>4</th>\n",
       "      <td>2</td>\n",
       "      <td>Monday</td>\n",
       "    </tr>\n",
       "    <tr>\n",
       "      <th>1</th>\n",
       "      <td>0</td>\n",
       "      <td>Tuesday</td>\n",
       "    </tr>\n",
       "    <tr>\n",
       "      <th>0</th>\n",
       "      <td>1</td>\n",
       "      <td>Wednesday</td>\n",
       "    </tr>\n",
       "    <tr>\n",
       "      <th>0</th>\n",
       "      <td>0</td>\n",
       "      <td>Thursday</td>\n",
       "    </tr>\n",
       "    <tr>\n",
       "      <th>1</th>\n",
       "      <td>0</td>\n",
       "      <td>Friday</td>\n",
       "    </tr>\n",
       "    <tr>\n",
       "      <th>2</th>\n",
       "      <td>1</td>\n",
       "      <td>Saturday</td>\n",
       "    </tr>\n",
       "    <tr>\n",
       "      <th>0</th>\n",
       "      <td>0</td>\n",
       "      <td>Sunday</td>\n",
       "    </tr>\n",
       "  </tbody>\n",
       "</table>\n",
       "</div>"
      ],
      "text/plain": [
       "   times        day\n",
       "4      2     Monday\n",
       "1      0    Tuesday\n",
       "0      1  Wednesday\n",
       "0      0   Thursday\n",
       "1      0     Friday\n",
       "2      1   Saturday\n",
       "0      0     Sunday"
      ]
     },
     "execution_count": 85,
     "metadata": {},
     "output_type": "execute_result"
    }
   ],
   "source": [
    "dayofweek()"
   ]
  },
  {
   "cell_type": "markdown",
   "id": "0e6956c3",
   "metadata": {},
   "source": [
    "## 4.2 Store"
   ]
  },
  {
   "cell_type": "code",
   "execution_count": null,
   "id": "4984cd44",
   "metadata": {},
   "outputs": [],
   "source": []
  }
 ],
 "metadata": {
  "kernelspec": {
   "display_name": "Python 3 (ipykernel)",
   "language": "python",
   "name": "python3"
  },
  "language_info": {
   "codemirror_mode": {
    "name": "ipython",
    "version": 3
   },
   "file_extension": ".py",
   "mimetype": "text/x-python",
   "name": "python",
   "nbconvert_exporter": "python",
   "pygments_lexer": "ipython3",
   "version": "3.9.7"
  },
  "widgets": {
   "application/vnd.jupyter.widget-state+json": {
    "state": {},
    "version_major": 2,
    "version_minor": 0
   }
  }
 },
 "nbformat": 4,
 "nbformat_minor": 5
}
