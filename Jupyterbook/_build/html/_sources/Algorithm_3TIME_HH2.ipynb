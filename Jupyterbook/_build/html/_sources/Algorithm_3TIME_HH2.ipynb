{
 "cells": [
  {
   "cell_type": "markdown",
   "id": "2cce2977",
   "metadata": {},
   "source": [
    "## 3: THIRD ALGORITHM - AT WHAT TIME WILL THEY SHOP?\n",
    "\n",
    "Outcome (example):\n",
    "1. input: Monday,Tuesday...\n",
    "2. output: noon/morning/afternoon"
   ]
  },
  {
   "cell_type": "markdown",
   "id": "87a037df",
   "metadata": {},
   "source": [
    "### Import libraries "
   ]
  },
  {
   "cell_type": "code",
   "execution_count": 13,
   "id": "419cb39a",
   "metadata": {},
   "outputs": [],
   "source": [
    "# %matplotlib notebook\n",
    "%matplotlib inline\n",
    "#Pandas is a software library written for the Python programming language for data manipulation and analysis.\n",
    "import pandas as pd\n",
    "#NumPy is a library for the Python programming language, adding support for large, multi-dimensional arrays and matrices, along with a large collection of high-level mathematical functions to operate on these arrays\n",
    "import numpy as np\n",
    "# Matplotlib is a plotting library for python and pyplot gives us a MatLab like plotting framework. We will use this in our plotter function to plot data.\n",
    "import matplotlib.pyplot as plt\n",
    "#Seaborn is a Python data visualization library based on matplotlib. It provides a high-level interface for drawing attractive and informative statistical graphics\n",
    "import seaborn as sns\n",
    "import dataframe_image as dfi\n",
    "from datetime import time\n",
    "import matplotlib.dates as mdates\n",
    "from matplotlib.ticker import StrMethodFormatter\n",
    "from matplotlib.pyplot import figure"
   ]
  },
  {
   "cell_type": "markdown",
   "id": "f10011bb",
   "metadata": {},
   "source": [
    "### Load and view data "
   ]
  },
  {
   "cell_type": "code",
   "execution_count": 14,
   "id": "d7338672",
   "metadata": {},
   "outputs": [],
   "source": [
    "# data for HH\n",
    "df = pd.read_csv (r\"C:\\Users\\20204113\\OneDrive - TU Eindhoven\\2_Research\\1_Groceries\\DATA\\9th week - narrative (3rd attempt)\\HH2\\df\\df_HH2.csv\")"
   ]
  },
  {
   "cell_type": "code",
   "execution_count": 15,
   "id": "62dfd4de",
   "metadata": {},
   "outputs": [],
   "source": [
    "# data for different days vs stores\n",
    "df_AlbertHeijns = pd.read_csv (r\"C:\\Users\\20204113\\OneDrive - TU Eindhoven\\2_Research\\1_Groceries\\DATA\\9th week - narrative (3rd attempt)\\HH2\\df\\df_HH2_AHTime.csv\")\n",
    "df_Syss = pd.read_csv (r\"C:\\Users\\20204113\\OneDrive - TU Eindhoven\\2_Research\\1_Groceries\\DATA\\9th week - narrative (3rd attempt)\\HH2\\df\\df_HH2_SYTime.csv\")\n",
    "df_Okays = pd.read_csv (r\"C:\\Users\\20204113\\OneDrive - TU Eindhoven\\2_Research\\1_Groceries\\DATA\\9th week - narrative (3rd attempt)\\HH2\\df\\df_HH2_OKTime.csv\")\n",
    "df_Delhaizes = pd.read_csv (r\"C:\\Users\\20204113\\OneDrive - TU Eindhoven\\2_Research\\1_Groceries\\DATA\\9th week - narrative (3rd attempt)\\HH2\\df\\df_HH2_DETime.csv\")\n",
    "df_Versavels = pd.read_csv (r\"C:\\Users\\20204113\\OneDrive - TU Eindhoven\\2_Research\\1_Groceries\\DATA\\9th week - narrative (3rd attempt)\\HH2\\df\\df_HH2_VETime.csv\")\n",
    "df_Kruidvats = pd.read_csv (r\"C:\\Users\\20204113\\OneDrive - TU Eindhoven\\2_Research\\1_Groceries\\DATA\\9th week - narrative (3rd attempt)\\HH2\\df\\df_HH2_KRTime.csv\")\n",
    "df_Brabos = pd.read_csv (r\"C:\\Users\\20204113\\OneDrive - TU Eindhoven\\2_Research\\1_Groceries\\DATA\\9th week - narrative (3rd attempt)\\HH2\\df\\df_HH2_BRTime.csv\")\n",
    "df_Ikeas = pd.read_csv (r\"C:\\Users\\20204113\\OneDrive - TU Eindhoven\\2_Research\\1_Groceries\\DATA\\9th week - narrative (3rd attempt)\\HH2\\df\\df_HH2_IKTime.csv\")\n",
    "df_Carrefours = pd.read_csv (r\"C:\\Users\\20204113\\OneDrive - TU Eindhoven\\2_Research\\1_Groceries\\DATA\\9th week - narrative (3rd attempt)\\HH2\\df\\df_HH2_CATime.csv\")"
   ]
  },
  {
   "cell_type": "markdown",
   "id": "d7a7ddde",
   "metadata": {},
   "source": [
    "# SELECT TIME"
   ]
  },
  {
   "cell_type": "code",
   "execution_count": 16,
   "id": "b2fd3c16",
   "metadata": {
    "scrolled": true
   },
   "outputs": [],
   "source": [
    "#create random samples for this day based on the assigned weights\n",
    "def AlbertHeijn(n):\n",
    "    df_AlbertHeijn = df_AlbertHeijns.sample(n=n, weights='weight', replace=True) \n",
    "    del df_AlbertHeijn['weight']\n",
    "    df_AlbertHeijn = df_AlbertHeijn.assign(store_name='Albert Heijn')\n",
    "    return df_AlbertHeijn"
   ]
  },
  {
   "cell_type": "code",
   "execution_count": 17,
   "id": "54770169",
   "metadata": {},
   "outputs": [
    {
     "data": {
      "text/html": [
       "<div>\n",
       "<style scoped>\n",
       "    .dataframe tbody tr th:only-of-type {\n",
       "        vertical-align: middle;\n",
       "    }\n",
       "\n",
       "    .dataframe tbody tr th {\n",
       "        vertical-align: top;\n",
       "    }\n",
       "\n",
       "    .dataframe thead th {\n",
       "        text-align: right;\n",
       "    }\n",
       "</style>\n",
       "<table border=\"1\" class=\"dataframe\">\n",
       "  <thead>\n",
       "    <tr style=\"text-align: right;\">\n",
       "      <th></th>\n",
       "      <th>time</th>\n",
       "      <th>store_name</th>\n",
       "    </tr>\n",
       "  </thead>\n",
       "  <tbody>\n",
       "    <tr>\n",
       "      <th>2</th>\n",
       "      <td>noon</td>\n",
       "      <td>Albert Heijn</td>\n",
       "    </tr>\n",
       "    <tr>\n",
       "      <th>0</th>\n",
       "      <td>afternoon</td>\n",
       "      <td>Albert Heijn</td>\n",
       "    </tr>\n",
       "    <tr>\n",
       "      <th>1</th>\n",
       "      <td>morning</td>\n",
       "      <td>Albert Heijn</td>\n",
       "    </tr>\n",
       "  </tbody>\n",
       "</table>\n",
       "</div>"
      ],
      "text/plain": [
       "        time    store_name\n",
       "2       noon  Albert Heijn\n",
       "0  afternoon  Albert Heijn\n",
       "1    morning  Albert Heijn"
      ]
     },
     "execution_count": 17,
     "metadata": {},
     "output_type": "execute_result"
    }
   ],
   "source": [
    "AlbertHeijn(3)"
   ]
  },
  {
   "cell_type": "code",
   "execution_count": 18,
   "id": "c51c49e4",
   "metadata": {},
   "outputs": [],
   "source": [
    "#create random samples for this day based on the assigned weights\n",
    "def Okay(n):\n",
    "    df_Okay = df_Okays.sample(n=n, weights='weight', replace=True)\n",
    "    del df_Okay['weight']\n",
    "    df_Okay = df_Okay.assign(store_name='Okay')\n",
    "    return df_Okay"
   ]
  },
  {
   "cell_type": "code",
   "execution_count": 19,
   "id": "28027650",
   "metadata": {},
   "outputs": [],
   "source": [
    "#create random samples for this day based on the assigned weights\n",
    "def Delhaize(n):\n",
    "    df_Delhaize = df_Delhaizes.sample(n=n, weights='weight', replace=True)\n",
    "    del df_Delhaize['weight']\n",
    "    df_Delhaize = df_Delhaize.assign(store_name='Delhaize')\n",
    "    return df_Delhaize"
   ]
  },
  {
   "cell_type": "code",
   "execution_count": 20,
   "id": "dd30df76",
   "metadata": {},
   "outputs": [],
   "source": [
    "#create random samples for this day based on the assigned weights\n",
    "def Carrefour(n):\n",
    "    df_Carrefour = df_Carrefours.sample(n=n, weights='weight', replace=True)\n",
    "    del df_Carrefour['weight']\n",
    "    df_Carrefour = df_Carrefour.assign(store_name='Carrefour')\n",
    "    return df_Carrefour"
   ]
  },
  {
   "cell_type": "code",
   "execution_count": 21,
   "id": "da955bcb",
   "metadata": {},
   "outputs": [],
   "source": [
    "#create random samples for this day based on the assigned weights\n",
    "def VersavelPoelman(n):\n",
    "    df_Versavel = df_Versavels.sample(n=n, weights='weight', replace=True)\n",
    "    del df_Versavel['weight']\n",
    "    df_Versavel = df_Versavel.assign(store_name='Versavel Poelman')\n",
    "    return df_Versavel"
   ]
  },
  {
   "cell_type": "code",
   "execution_count": 22,
   "id": "41a6caca",
   "metadata": {},
   "outputs": [],
   "source": [
    "#create random samples for this day based on the assigned weights\n",
    "def Sys(n):\n",
    "    df_Sys = df_Syss.sample(n=n, weights='weight', replace=True)\n",
    "    del df_Sys['weight']\n",
    "    df_Sys = df_Sys.assign(store_name='Sys')\n",
    "    return df_Sys"
   ]
  },
  {
   "cell_type": "code",
   "execution_count": 58,
   "id": "9a3702da",
   "metadata": {},
   "outputs": [
    {
     "data": {
      "text/html": [
       "<div>\n",
       "<style scoped>\n",
       "    .dataframe tbody tr th:only-of-type {\n",
       "        vertical-align: middle;\n",
       "    }\n",
       "\n",
       "    .dataframe tbody tr th {\n",
       "        vertical-align: top;\n",
       "    }\n",
       "\n",
       "    .dataframe thead th {\n",
       "        text-align: right;\n",
       "    }\n",
       "</style>\n",
       "<table border=\"1\" class=\"dataframe\">\n",
       "  <thead>\n",
       "    <tr style=\"text-align: right;\">\n",
       "      <th></th>\n",
       "      <th>time</th>\n",
       "      <th>store_name</th>\n",
       "    </tr>\n",
       "  </thead>\n",
       "  <tbody>\n",
       "    <tr>\n",
       "      <th>0</th>\n",
       "      <td>morning</td>\n",
       "      <td>Sys</td>\n",
       "    </tr>\n",
       "    <tr>\n",
       "      <th>1</th>\n",
       "      <td>noon</td>\n",
       "      <td>Sys</td>\n",
       "    </tr>\n",
       "  </tbody>\n",
       "</table>\n",
       "</div>"
      ],
      "text/plain": [
       "      time store_name\n",
       "0  morning        Sys\n",
       "1     noon        Sys"
      ]
     },
     "execution_count": 58,
     "metadata": {},
     "output_type": "execute_result"
    }
   ],
   "source": [
    "Sys(2)"
   ]
  },
  {
   "cell_type": "code",
   "execution_count": 24,
   "id": "fc1b1105",
   "metadata": {},
   "outputs": [],
   "source": [
    "#create random samples for this day based on the assigned weights\n",
    "def Brabo(n):\n",
    "    df_Brabo = df_Brabos.sample(n=n, weights='weight', replace=True)\n",
    "    del df_Brabo['weight']\n",
    "    df_Brabo = df_Brabo.assign(store_name='Brabo')\n",
    "    return df_Brabo"
   ]
  },
  {
   "cell_type": "code",
   "execution_count": 25,
   "id": "306eb283",
   "metadata": {},
   "outputs": [],
   "source": [
    "#create random samples for this day based on the assigned weights\n",
    "def Kruidvat(n):\n",
    "    df_Kruidvat = df_Kruidvats.sample(n=n, weights='weight', replace=True)\n",
    "    del df_Kruidvat['weight']\n",
    "    df_Kruidvat = df_Kruidvat.assign(store_name='Kruidvat')\n",
    "    return df_Kruidvat"
   ]
  },
  {
   "cell_type": "code",
   "execution_count": 26,
   "id": "227df5d1",
   "metadata": {},
   "outputs": [],
   "source": [
    "#create random samples for this day based on the assigned weights\n",
    "def Ikea(n):\n",
    "    df_Ikea = df_Ikeas.sample(n=n, weights='weight', replace=True)\n",
    "    del df_Ikea['weight']\n",
    "    df_Ikea = df_Ikea.assign(store_name='Ikea')\n",
    "    return df_Ikea"
   ]
  },
  {
   "cell_type": "code",
   "execution_count": 29,
   "id": "3977e92f",
   "metadata": {},
   "outputs": [
    {
     "data": {
      "text/html": [
       "<div>\n",
       "<style scoped>\n",
       "    .dataframe tbody tr th:only-of-type {\n",
       "        vertical-align: middle;\n",
       "    }\n",
       "\n",
       "    .dataframe tbody tr th {\n",
       "        vertical-align: top;\n",
       "    }\n",
       "\n",
       "    .dataframe thead th {\n",
       "        text-align: right;\n",
       "    }\n",
       "</style>\n",
       "<table border=\"1\" class=\"dataframe\">\n",
       "  <thead>\n",
       "    <tr style=\"text-align: right;\">\n",
       "      <th></th>\n",
       "      <th>time</th>\n",
       "      <th>store_name</th>\n",
       "    </tr>\n",
       "  </thead>\n",
       "  <tbody>\n",
       "    <tr>\n",
       "      <th>0</th>\n",
       "      <td>morning</td>\n",
       "      <td>Ikea</td>\n",
       "    </tr>\n",
       "  </tbody>\n",
       "</table>\n",
       "</div>"
      ],
      "text/plain": [
       "      time store_name\n",
       "0  morning       Ikea"
      ]
     },
     "execution_count": 29,
     "metadata": {},
     "output_type": "execute_result"
    }
   ],
   "source": [
    "Ikea(1)"
   ]
  }
 ],
 "metadata": {
  "kernelspec": {
   "display_name": "Python 3 (ipykernel)",
   "language": "python",
   "name": "python3"
  },
  "language_info": {
   "codemirror_mode": {
    "name": "ipython",
    "version": 3
   },
   "file_extension": ".py",
   "mimetype": "text/x-python",
   "name": "python",
   "nbconvert_exporter": "python",
   "pygments_lexer": "ipython3",
   "version": "3.9.7"
  },
  "widgets": {
   "application/vnd.jupyter.widget-state+json": {
    "state": {},
    "version_major": 2,
    "version_minor": 0
   }
  }
 },
 "nbformat": 4,
 "nbformat_minor": 5
}
