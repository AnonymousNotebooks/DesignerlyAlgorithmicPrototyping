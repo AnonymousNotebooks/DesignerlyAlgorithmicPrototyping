{
 "cells": [
  {
   "cell_type": "markdown",
   "id": "2cce2977",
   "metadata": {},
   "source": [
    "## AMOUNT COUNTS"
   ]
  },
  {
   "cell_type": "markdown",
   "id": "87a037df",
   "metadata": {},
   "source": [
    "### Import libraries "
   ]
  },
  {
   "cell_type": "code",
   "execution_count": 6,
   "id": "419cb39a",
   "metadata": {},
   "outputs": [],
   "source": [
    "# %matplotlib notebook\n",
    "%matplotlib inline\n",
    "#Pandas is a software library written for the Python programming language for data manipulation and analysis.\n",
    "import pandas as pd\n",
    "#NumPy is a library for the Python programming language, adding support for large, multi-dimensional arrays and matrices, along with a large collection of high-level mathematical functions to operate on these arrays\n",
    "import numpy as np\n",
    "# Matplotlib is a plotting library for python and pyplot gives us a MatLab like plotting framework. We will use this in our plotter function to plot data.\n",
    "import matplotlib.pyplot as plt\n",
    "#Seaborn is a Python data visualization library based on matplotlib. It provides a high-level interface for drawing attractive and informative statistical graphics\n",
    "import seaborn as sns\n",
    "import dataframe_image as dfi\n",
    "from datetime import time\n",
    "import matplotlib.dates as mdates\n",
    "from matplotlib.ticker import StrMethodFormatter\n",
    "from matplotlib.pyplot import figure\n",
    "\n",
    "import random"
   ]
  },
  {
   "cell_type": "markdown",
   "id": "f10011bb",
   "metadata": {},
   "source": [
    "### Load and view data "
   ]
  },
  {
   "cell_type": "code",
   "execution_count": 36,
   "id": "afcb2111",
   "metadata": {},
   "outputs": [],
   "source": [
    "df = pd.read_csv (r\"C:\\Users\\20204113\\OneDrive - TU Eindhoven\\2_Research\\1_Groceries\\DATA\\9th week - narrative (3rd attempt)\\HH2\\df\\df_HH2.csv\")"
   ]
  },
  {
   "cell_type": "code",
   "execution_count": 37,
   "id": "ab30d722",
   "metadata": {},
   "outputs": [
    {
     "data": {
      "text/html": [
       "<div>\n",
       "<style scoped>\n",
       "    .dataframe tbody tr th:only-of-type {\n",
       "        vertical-align: middle;\n",
       "    }\n",
       "\n",
       "    .dataframe tbody tr th {\n",
       "        vertical-align: top;\n",
       "    }\n",
       "\n",
       "    .dataframe thead th {\n",
       "        text-align: right;\n",
       "    }\n",
       "</style>\n",
       "<table border=\"1\" class=\"dataframe\">\n",
       "  <thead>\n",
       "    <tr style=\"text-align: right;\">\n",
       "      <th></th>\n",
       "      <th>week</th>\n",
       "      <th>order_ID</th>\n",
       "      <th>amount</th>\n",
       "      <th>price_unit</th>\n",
       "      <th>price_total</th>\n",
       "      <th>item_id</th>\n",
       "      <th>type_id</th>\n",
       "      <th>order_amount</th>\n",
       "      <th>order_price</th>\n",
       "      <th>day_num</th>\n",
       "      <th>storetype_num</th>\n",
       "      <th>storename_num</th>\n",
       "      <th>cat_num</th>\n",
       "      <th>time_num</th>\n",
       "      <th>promo_num</th>\n",
       "      <th>timestamp</th>\n",
       "      <th>times_min</th>\n",
       "      <th>dates_days</th>\n",
       "      <th>weights_itemtype</th>\n",
       "    </tr>\n",
       "  </thead>\n",
       "  <tbody>\n",
       "    <tr>\n",
       "      <th>count</th>\n",
       "      <td>372.000000</td>\n",
       "      <td>372.000000</td>\n",
       "      <td>372.000000</td>\n",
       "      <td>372.000000</td>\n",
       "      <td>372.000000</td>\n",
       "      <td>372.000000</td>\n",
       "      <td>372.000000</td>\n",
       "      <td>372.000000</td>\n",
       "      <td>372.000000</td>\n",
       "      <td>372.000000</td>\n",
       "      <td>372.000000</td>\n",
       "      <td>372.000000</td>\n",
       "      <td>372.000000</td>\n",
       "      <td>372.000000</td>\n",
       "      <td>372.000000</td>\n",
       "      <td>3.720000e+02</td>\n",
       "      <td>372.000000</td>\n",
       "      <td>3.720000e+02</td>\n",
       "      <td>372.000000</td>\n",
       "    </tr>\n",
       "    <tr>\n",
       "      <th>mean</th>\n",
       "      <td>4.043011</td>\n",
       "      <td>18.881720</td>\n",
       "      <td>1.274194</td>\n",
       "      <td>2.602328</td>\n",
       "      <td>2.867247</td>\n",
       "      <td>148.889785</td>\n",
       "      <td>49.142473</td>\n",
       "      <td>30.381720</td>\n",
       "      <td>68.919265</td>\n",
       "      <td>2.661290</td>\n",
       "      <td>3.392473</td>\n",
       "      <td>4.212366</td>\n",
       "      <td>7.462366</td>\n",
       "      <td>1.387097</td>\n",
       "      <td>0.083333</td>\n",
       "      <td>1.639888e+18</td>\n",
       "      <td>1353.930108</td>\n",
       "      <td>2.021425e+07</td>\n",
       "      <td>7.166667</td>\n",
       "    </tr>\n",
       "    <tr>\n",
       "      <th>std</th>\n",
       "      <td>2.478648</td>\n",
       "      <td>10.908193</td>\n",
       "      <td>1.103819</td>\n",
       "      <td>1.947725</td>\n",
       "      <td>2.019200</td>\n",
       "      <td>89.778771</td>\n",
       "      <td>36.052576</td>\n",
       "      <td>16.118312</td>\n",
       "      <td>36.489459</td>\n",
       "      <td>1.591184</td>\n",
       "      <td>1.344550</td>\n",
       "      <td>2.396214</td>\n",
       "      <td>4.079557</td>\n",
       "      <td>0.896621</td>\n",
       "      <td>0.276758</td>\n",
       "      <td>1.924092e+15</td>\n",
       "      <td>371.187009</td>\n",
       "      <td>4.252837e+03</td>\n",
       "      <td>7.281714</td>\n",
       "    </tr>\n",
       "    <tr>\n",
       "      <th>min</th>\n",
       "      <td>1.000000</td>\n",
       "      <td>1.000000</td>\n",
       "      <td>1.000000</td>\n",
       "      <td>0.064680</td>\n",
       "      <td>0.064680</td>\n",
       "      <td>0.000000</td>\n",
       "      <td>0.000000</td>\n",
       "      <td>1.000000</td>\n",
       "      <td>2.950000</td>\n",
       "      <td>0.000000</td>\n",
       "      <td>0.000000</td>\n",
       "      <td>0.000000</td>\n",
       "      <td>0.000000</td>\n",
       "      <td>0.000000</td>\n",
       "      <td>0.000000</td>\n",
       "      <td>1.637435e+18</td>\n",
       "      <td>802.000000</td>\n",
       "      <td>2.021112e+07</td>\n",
       "      <td>1.000000</td>\n",
       "    </tr>\n",
       "    <tr>\n",
       "      <th>25%</th>\n",
       "      <td>1.000000</td>\n",
       "      <td>8.000000</td>\n",
       "      <td>1.000000</td>\n",
       "      <td>1.300000</td>\n",
       "      <td>1.543970</td>\n",
       "      <td>68.750000</td>\n",
       "      <td>22.000000</td>\n",
       "      <td>13.000000</td>\n",
       "      <td>25.571500</td>\n",
       "      <td>2.000000</td>\n",
       "      <td>4.000000</td>\n",
       "      <td>3.000000</td>\n",
       "      <td>6.000000</td>\n",
       "      <td>1.000000</td>\n",
       "      <td>0.000000</td>\n",
       "      <td>1.637948e+18</td>\n",
       "      <td>1055.000000</td>\n",
       "      <td>2.021113e+07</td>\n",
       "      <td>2.000000</td>\n",
       "    </tr>\n",
       "    <tr>\n",
       "      <th>50%</th>\n",
       "      <td>4.000000</td>\n",
       "      <td>20.000000</td>\n",
       "      <td>1.000000</td>\n",
       "      <td>2.240250</td>\n",
       "      <td>2.462860</td>\n",
       "      <td>142.500000</td>\n",
       "      <td>35.000000</td>\n",
       "      <td>34.000000</td>\n",
       "      <td>72.487014</td>\n",
       "      <td>3.000000</td>\n",
       "      <td>4.000000</td>\n",
       "      <td>4.000000</td>\n",
       "      <td>9.000000</td>\n",
       "      <td>2.000000</td>\n",
       "      <td>0.000000</td>\n",
       "      <td>1.639306e+18</td>\n",
       "      <td>1179.500000</td>\n",
       "      <td>2.021121e+07</td>\n",
       "      <td>4.000000</td>\n",
       "    </tr>\n",
       "    <tr>\n",
       "      <th>75%</th>\n",
       "      <td>6.000000</td>\n",
       "      <td>26.250000</td>\n",
       "      <td>1.000000</td>\n",
       "      <td>3.290000</td>\n",
       "      <td>3.875000</td>\n",
       "      <td>225.250000</td>\n",
       "      <td>75.250000</td>\n",
       "      <td>38.000000</td>\n",
       "      <td>103.329980</td>\n",
       "      <td>4.000000</td>\n",
       "      <td>4.000000</td>\n",
       "      <td>6.000000</td>\n",
       "      <td>11.000000</td>\n",
       "      <td>2.000000</td>\n",
       "      <td>0.000000</td>\n",
       "      <td>1.641640e+18</td>\n",
       "      <td>1725.000000</td>\n",
       "      <td>2.022011e+07</td>\n",
       "      <td>9.000000</td>\n",
       "    </tr>\n",
       "    <tr>\n",
       "      <th>max</th>\n",
       "      <td>8.000000</td>\n",
       "      <td>39.000000</td>\n",
       "      <td>15.000000</td>\n",
       "      <td>15.610000</td>\n",
       "      <td>15.610000</td>\n",
       "      <td>313.000000</td>\n",
       "      <td>138.000000</td>\n",
       "      <td>53.000000</td>\n",
       "      <td>114.878340</td>\n",
       "      <td>6.000000</td>\n",
       "      <td>4.000000</td>\n",
       "      <td>8.000000</td>\n",
       "      <td>15.000000</td>\n",
       "      <td>3.000000</td>\n",
       "      <td>1.000000</td>\n",
       "      <td>1.643286e+18</td>\n",
       "      <td>1858.000000</td>\n",
       "      <td>2.022013e+07</td>\n",
       "      <td>25.000000</td>\n",
       "    </tr>\n",
       "  </tbody>\n",
       "</table>\n",
       "</div>"
      ],
      "text/plain": [
       "             week    order_ID      amount  price_unit  price_total  \\\n",
       "count  372.000000  372.000000  372.000000  372.000000   372.000000   \n",
       "mean     4.043011   18.881720    1.274194    2.602328     2.867247   \n",
       "std      2.478648   10.908193    1.103819    1.947725     2.019200   \n",
       "min      1.000000    1.000000    1.000000    0.064680     0.064680   \n",
       "25%      1.000000    8.000000    1.000000    1.300000     1.543970   \n",
       "50%      4.000000   20.000000    1.000000    2.240250     2.462860   \n",
       "75%      6.000000   26.250000    1.000000    3.290000     3.875000   \n",
       "max      8.000000   39.000000   15.000000   15.610000    15.610000   \n",
       "\n",
       "          item_id     type_id  order_amount  order_price     day_num  \\\n",
       "count  372.000000  372.000000    372.000000   372.000000  372.000000   \n",
       "mean   148.889785   49.142473     30.381720    68.919265    2.661290   \n",
       "std     89.778771   36.052576     16.118312    36.489459    1.591184   \n",
       "min      0.000000    0.000000      1.000000     2.950000    0.000000   \n",
       "25%     68.750000   22.000000     13.000000    25.571500    2.000000   \n",
       "50%    142.500000   35.000000     34.000000    72.487014    3.000000   \n",
       "75%    225.250000   75.250000     38.000000   103.329980    4.000000   \n",
       "max    313.000000  138.000000     53.000000   114.878340    6.000000   \n",
       "\n",
       "       storetype_num  storename_num     cat_num    time_num   promo_num  \\\n",
       "count     372.000000     372.000000  372.000000  372.000000  372.000000   \n",
       "mean        3.392473       4.212366    7.462366    1.387097    0.083333   \n",
       "std         1.344550       2.396214    4.079557    0.896621    0.276758   \n",
       "min         0.000000       0.000000    0.000000    0.000000    0.000000   \n",
       "25%         4.000000       3.000000    6.000000    1.000000    0.000000   \n",
       "50%         4.000000       4.000000    9.000000    2.000000    0.000000   \n",
       "75%         4.000000       6.000000   11.000000    2.000000    0.000000   \n",
       "max         4.000000       8.000000   15.000000    3.000000    1.000000   \n",
       "\n",
       "          timestamp    times_min    dates_days  weights_itemtype  \n",
       "count  3.720000e+02   372.000000  3.720000e+02        372.000000  \n",
       "mean   1.639888e+18  1353.930108  2.021425e+07          7.166667  \n",
       "std    1.924092e+15   371.187009  4.252837e+03          7.281714  \n",
       "min    1.637435e+18   802.000000  2.021112e+07          1.000000  \n",
       "25%    1.637948e+18  1055.000000  2.021113e+07          2.000000  \n",
       "50%    1.639306e+18  1179.500000  2.021121e+07          4.000000  \n",
       "75%    1.641640e+18  1725.000000  2.022011e+07          9.000000  \n",
       "max    1.643286e+18  1858.000000  2.022013e+07         25.000000  "
      ]
     },
     "execution_count": 37,
     "metadata": {},
     "output_type": "execute_result"
    }
   ],
   "source": [
    "df.describe()"
   ]
  },
  {
   "cell_type": "code",
   "execution_count": 8,
   "id": "f79b307b",
   "metadata": {},
   "outputs": [],
   "source": [
    "df['time'] = df['time'].replace(['afternoon', 'evening'], 'afternoon')"
   ]
  },
  {
   "cell_type": "code",
   "execution_count": 9,
   "id": "d07f6ca2",
   "metadata": {},
   "outputs": [],
   "source": [
    "df_orders = df[['order_ID', 'week', 'store_name', 'storename_num', 'store_type', 'storetype_num','day', 'day_num', 'time', 'time_num', 'timestamp', 'times', 'dates', 'times_min', 'dates_days', 'order_amount', 'order_price']]\n",
    "df_orders = df_orders.drop_duplicates()"
   ]
  },
  {
   "cell_type": "markdown",
   "id": "d8c213c3",
   "metadata": {},
   "source": [
    "# Function (store as option)"
   ]
  },
  {
   "cell_type": "code",
   "execution_count": 10,
   "id": "6eaaea10",
   "metadata": {},
   "outputs": [],
   "source": [
    "def StoreAmount(storename, time):\n",
    "    df_store = df[df['store_name'] == storename]\n",
    "    if (storename == 'Albert Heijn') & (time != 'afternoon'):\n",
    "        df_store = df_store[df_store['time'] != 'afternoon']\n",
    "        df_AHm = df_store.groupby(['order_ID'])['amount'].sum()\n",
    "        df_AHm = pd.DataFrame (df_AHm)\n",
    "        df_AHm = df_AHm.reset_index()\n",
    "        min = df_AHm.min(axis=0)['amount']\n",
    "        max = df_AHm.max(axis=0)['amount']\n",
    "        print ((min,max))\n",
    "        return random.randint(min, max)\n",
    "    elif (storename == 'Albert Heijn') & (time == 'afternoon'):\n",
    "        df_store = df_store[df_store['time'] == 'afternoon']\n",
    "        df_AHm = df_store.groupby(['order_ID'])['amount'].sum()\n",
    "        df_AHm = pd.DataFrame (df_AHm)\n",
    "        df_AHm = df_AHm.reset_index()\n",
    "        min = df_AHm.min(axis=0)['amount']\n",
    "        max = df_AHm.max(axis=0)['amount']\n",
    "        print ((min,max))\n",
    "        return random.randint(min, max)\n",
    "    else:\n",
    "        df_store = df_store.groupby(['order_ID'])['amount'].sum()\n",
    "        df_store = pd.DataFrame (df_store)\n",
    "        df_store = df_store.reset_index()        \n",
    "        min = df_store.min(axis=0)['amount']\n",
    "        max = df_store.max(axis=0)['amount']\n",
    "        print ((min,max))\n",
    "        return random.randint(min, max)"
   ]
  },
  {
   "cell_type": "code",
   "execution_count": 11,
   "id": "e65728e3",
   "metadata": {},
   "outputs": [
    {
     "name": "stdout",
     "output_type": "stream",
     "text": [
      "(9, 53)\n"
     ]
    },
    {
     "data": {
      "text/plain": [
       "31"
      ]
     },
     "execution_count": 11,
     "metadata": {},
     "output_type": "execute_result"
    }
   ],
   "source": [
    "StoreAmount('Okay', 'afternoon')"
   ]
  },
  {
   "cell_type": "code",
   "execution_count": 12,
   "id": "00bafbce",
   "metadata": {},
   "outputs": [],
   "source": [
    "def StoreCount(storename, time):\n",
    "    df_store = df[df['store_name'] == storename]\n",
    "    if (storename == 'Albert Heijn') & (time != 'afternoon'):\n",
    "        df_store = df_store[df_store['time'] != 'afternoon']\n",
    "        df_AHm = df_store.groupby(['order_ID'])['amount'].count()\n",
    "        df_AHm = pd.DataFrame (df_AHm)\n",
    "        df_AHm = df_AHm.reset_index()\n",
    "        min = df_AHm.min(axis=0)['amount']\n",
    "        max = df_AHm.max(axis=0)['amount']\n",
    "        return random.randint(min, max)\n",
    "    elif (storename == 'Albert Heijn') & (time == 'afternoon'):\n",
    "        df_store = df_store[df_store['time'] == 'afternoon']\n",
    "        df_AHm = df_store.groupby(['order_ID'])['amount'].count()\n",
    "        df_AHm = pd.DataFrame (df_AHm)\n",
    "        df_AHm = df_AHm.reset_index()\n",
    "        min = df_AHm.min(axis=0)['amount']\n",
    "        max = df_AHm.max(axis=0)['amount']\n",
    "        return random.randint(min, max)\n",
    "    else:\n",
    "        df_store = df_store.groupby(['order_ID'])['amount'].count()\n",
    "        df_store = pd.DataFrame (df_store)\n",
    "        df_store = df_store.reset_index()        \n",
    "        min = df_store.min(axis=0)['amount']\n",
    "        max = df_store.max(axis=0)['amount']\n",
    "        return random.randint(min, max)"
   ]
  },
  {
   "cell_type": "code",
   "execution_count": 13,
   "id": "2b3cadbf",
   "metadata": {},
   "outputs": [
    {
     "data": {
      "text/plain": [
       "28"
      ]
     },
     "execution_count": 13,
     "metadata": {},
     "output_type": "execute_result"
    }
   ],
   "source": [
    "StoreCount('Okay', 'afternoon')"
   ]
  },
  {
   "cell_type": "markdown",
   "id": "baa8e38b",
   "metadata": {},
   "source": [
    "# For the entire week"
   ]
  },
  {
   "cell_type": "code",
   "execution_count": 14,
   "id": "ff827efc",
   "metadata": {},
   "outputs": [],
   "source": [
    "def WeekAmount():\n",
    "    df_amount = df_orders.groupby(['week'])['order_amount'].sum()\n",
    "    df_amount = pd.DataFrame (df_amount)\n",
    "    df_amount = df_amount.reset_index()\n",
    "\n",
    "    min = df_amount.min(axis=0)['order_amount']\n",
    "    max = df_amount.max(axis=0)['order_amount']\n",
    "    return (min,max)"
   ]
  },
  {
   "cell_type": "code",
   "execution_count": 15,
   "id": "77209f80",
   "metadata": {},
   "outputs": [
    {
     "data": {
      "text/plain": [
       "(43, 112)"
      ]
     },
     "execution_count": 15,
     "metadata": {},
     "output_type": "execute_result"
    }
   ],
   "source": [
    "WeekAmount()"
   ]
  },
  {
   "cell_type": "code",
   "execution_count": 16,
   "id": "39154068",
   "metadata": {},
   "outputs": [],
   "source": [
    "def WeekCount():\n",
    "    df_count = df.groupby(['week'])['amount'].count()\n",
    "    df_count = pd.DataFrame (df_count)\n",
    "    df_count = df_count.reset_index()\n",
    "\n",
    "    min = df_count.min(axis=0)['amount']\n",
    "    max = df_count.max(axis=0)['amount']\n",
    "    return (min,max)"
   ]
  },
  {
   "cell_type": "code",
   "execution_count": 17,
   "id": "b5a43697",
   "metadata": {},
   "outputs": [
    {
     "data": {
      "text/plain": [
       "(31, 98)"
      ]
     },
     "execution_count": 17,
     "metadata": {},
     "output_type": "execute_result"
    }
   ],
   "source": [
    "WeekCount()"
   ]
  },
  {
   "cell_type": "markdown",
   "id": "af8e49ef",
   "metadata": {},
   "source": [
    "# Per category"
   ]
  },
  {
   "cell_type": "code",
   "execution_count": 18,
   "id": "17ed2076",
   "metadata": {},
   "outputs": [],
   "source": [
    "def CatCount():\n",
    "    df_count = df.groupby(['week'])['category'].nunique()\n",
    "    df_count = pd.DataFrame (df_count)\n",
    "    df_count = df_count.reset_index()\n",
    "\n",
    "    min = df_count.min(axis=0)['category']\n",
    "    max = df_count.max(axis=0)['category']\n",
    "    return (min,max)"
   ]
  },
  {
   "cell_type": "code",
   "execution_count": 19,
   "id": "e7edd41b",
   "metadata": {},
   "outputs": [
    {
     "data": {
      "text/plain": [
       "(7, 13)"
      ]
     },
     "execution_count": 19,
     "metadata": {},
     "output_type": "execute_result"
    }
   ],
   "source": [
    "CatCount()"
   ]
  },
  {
   "cell_type": "markdown",
   "id": "cdf5d3fb",
   "metadata": {},
   "source": [
    "### Check the counts for each category"
   ]
  },
  {
   "cell_type": "code",
   "execution_count": 20,
   "id": "4b32db5b",
   "metadata": {},
   "outputs": [],
   "source": [
    "# group per period\n",
    "BeforeNY = df.copy()\n",
    "BeforeNY = BeforeNY[BeforeNY['week'] < 5]\n",
    "\n",
    "AfterNY = df.copy()\n",
    "AfterNY = AfterNY[AfterNY['week'] > 4]\n",
    "\n",
    "def PerCatCount(category):\n",
    "    data = {'week': [5,6,7,8]}\n",
    "    weeks = pd.DataFrame(data)\n",
    "    df_cat = AfterNY[AfterNY['category'] == category]\n",
    "    df_cat = df_cat.groupby(['week'])['amount'].count()\n",
    "    df_cat = pd.DataFrame (df_cat)\n",
    "    df_cat = df_cat.reset_index() \n",
    "    df_cat = weeks.merge(df_cat, how='left').fillna(0)\n",
    "    min = df_cat.min(axis=0)['amount']\n",
    "    max = df_cat.max(axis=0)['amount']\n",
    "    return (min, max)"
   ]
  },
  {
   "cell_type": "code",
   "execution_count": 21,
   "id": "f7e7f152",
   "metadata": {},
   "outputs": [],
   "source": [
    "# for entire period\n",
    "def PerCatCountALL(category):\n",
    "    data = {'week': [1,2,3,4,5,6,7,8]}\n",
    "    weeks = pd.DataFrame(data)\n",
    "    df_cat = df[df['category'] == category]\n",
    "    df_cat = df_cat.groupby(['week'])['amount'].count()\n",
    "    df_cat = pd.DataFrame (df_cat)\n",
    "    df_cat = df_cat.reset_index() \n",
    "    df_cat = weeks.merge(df_cat, how='left').fillna(0)\n",
    "    min = df_cat.min(axis=0)['amount']\n",
    "    max = df_cat.max(axis=0)['amount']\n",
    "    return (min, max)"
   ]
  },
  {
   "cell_type": "code",
   "execution_count": 51,
   "id": "07a20ba7",
   "metadata": {},
   "outputs": [
    {
     "data": {
      "text/plain": [
       "(3, 34)"
      ]
     },
     "execution_count": 51,
     "metadata": {},
     "output_type": "execute_result"
    }
   ],
   "source": [
    "PerCatCountALL('fruit & vegetables')"
   ]
  },
  {
   "cell_type": "markdown",
   "id": "dc7c730e",
   "metadata": {},
   "source": [
    "### Check the counts for each category PER STORE TYPE"
   ]
  },
  {
   "cell_type": "code",
   "execution_count": 57,
   "id": "b13e7ec5",
   "metadata": {},
   "outputs": [],
   "source": [
    "# for entire period\n",
    "def PerCatCountSTORE(category, storetype):\n",
    "    data = {'order_ID': range(1,39)}\n",
    "    orderID = pd.DataFrame(data)\n",
    "    df_cat = df[df['store_type'] == storetype]\n",
    "    df_cat = df_cat[df_cat['category'] == category]\n",
    "    df_cat = df_cat.groupby(['order_ID'])['amount'].count()\n",
    "    df_cat = pd.DataFrame (df_cat)\n",
    "    df_cat = df_cat.reset_index() \n",
    "    df_cat = orderID.merge(df_cat, how='left').fillna(0)\n",
    "    min = df_cat.min(axis=0)['amount']\n",
    "    max = df_cat.max(axis=0)['amount']\n",
    "    return (min, max)"
   ]
  },
  {
   "cell_type": "code",
   "execution_count": 59,
   "id": "c41b39ad",
   "metadata": {},
   "outputs": [
    {
     "data": {
      "text/plain": [
       "(0.0, 9.0)"
      ]
     },
     "execution_count": 59,
     "metadata": {},
     "output_type": "execute_result"
    }
   ],
   "source": [
    "PerCatCountSTORE('meat, fish & veggie', 'supermarket')"
   ]
  },
  {
   "cell_type": "code",
   "execution_count": null,
   "id": "6a1294c7",
   "metadata": {},
   "outputs": [],
   "source": []
  }
 ],
 "metadata": {
  "kernelspec": {
   "display_name": "Python 3 (ipykernel)",
   "language": "python",
   "name": "python3"
  },
  "language_info": {
   "codemirror_mode": {
    "name": "ipython",
    "version": 3
   },
   "file_extension": ".py",
   "mimetype": "text/x-python",
   "name": "python",
   "nbconvert_exporter": "python",
   "pygments_lexer": "ipython3",
   "version": "3.9.7"
  },
  "widgets": {
   "application/vnd.jupyter.widget-state+json": {
    "state": {},
    "version_major": 2,
    "version_minor": 0
   }
  }
 },
 "nbformat": 4,
 "nbformat_minor": 5
}
